{
 "cells": [
  {
   "cell_type": "markdown",
   "metadata": {},
   "source": [
    "# CityBikes"
   ]
  },
  {
   "cell_type": "markdown",
   "metadata": {},
   "source": [
    "Send a request to CityBikes for the city of your choice. "
   ]
  },
  {
   "cell_type": "code",
   "execution_count": null,
   "metadata": {},
   "outputs": [],
   "source": [
    "import requests\n",
    "import pandas as pd\n",
    "import json"
   ]
  },
  {
   "cell_type": "code",
   "execution_count": null,
   "metadata": {},
   "outputs": [],
   "source": [
    "url = 'http://api.citybik.es/v2/networks' \n",
    "headers = {\"Accept\": \"application/json\"} \n",
    "ct_byk_result = requests.get(url, headers=headers).json()\n",
    "ct_byk_result['networks']"
   ]
  },
  {
   "cell_type": "code",
   "execution_count": null,
   "metadata": {},
   "outputs": [],
   "source": [
    "ct_byk = len(ct_byk_result['networks'])\n",
    "ct_byk\n",
    "\n",
    "# checking for country Russia details in the result\n",
    "ru_ct_byk = []\n",
    "for i in range(ct_byk):\n",
    "    if ct_byk_result['networks'][i]['location']['country'] == \"RU\":\n",
    "         ru_ct_byk.append(ct_byk_result['networks'][i])\n",
    "\n",
    "print(len(ru_ct_byk))\n",
    "for i in range(4):\n",
    "    print(ru_ct_byk[i]['location']['city'])        "
   ]
  },
  {
   "cell_type": "code",
   "execution_count": null,
   "metadata": {},
   "outputs": [],
   "source": [
    "# choosing moscow\n",
    "ct_byk_moscow = []\n",
    "for i in range(4):\n",
    "    if ru_ct_byk[i]['location']['city'] == \"Moscow\":\n",
    "        ct_byk_moscow.append(ru_ct_byk[i])\n",
    "ct_byk_moscow    \n",
    "print(len(ct_byk_moscow))"
   ]
  },
  {
   "cell_type": "code",
   "execution_count": null,
   "metadata": {},
   "outputs": [],
   "source": [
    "#checking no. of stations within moscow\n",
    "moscow_byks = ct_byk_moscow[0]['href']\n",
    "url = f'https://api.citybik.es{moscow_byks}'\n",
    "moscow_byk_stations = requests.get(url).json()['network']['stations']\n",
    "mbs = print(len(moscow_byk_stations))\n",
    "moscow_byk_stations[500]\n"
   ]
  },
  {
   "cell_type": "markdown",
   "metadata": {},
   "source": [
    "Parse through the response to get the details you want for the bike stations in that city (latitude, longitude, number of bikes). "
   ]
  },
  {
   "cell_type": "code",
   "execution_count": null,
   "metadata": {},
   "outputs": [],
   "source": [
    "def moscow_bykstations_name(station_name):\n",
    "    moscow_byk_stations = {'name': i['name'], 'latitude': i['latitude'],        'longitude' : i['longitude'], \n",
    "                          'id' : i['id'], 'free_bikes': i['free_bikes'], 'ebikes': i['extra']['ebikes'],\n",
    "                          'normal_bikes': i['extra']['normal_bikes'],'slots': i['slots']}\n",
    "                                                                                                                                                                                                                                                                                                        \n",
    "moscowDF = pd.DataFrame(moscow_byk_stations)\n",
    "moscowDF['ll'] = moscowDF['latitude'].astype(str) + ' ' + moscowDF['longitude'].astype(str)\n",
    "moscowDF.head(1)"
   ]
  },
  {
   "cell_type": "markdown",
   "metadata": {},
   "source": [
    "Put your parsed results into a DataFrame."
   ]
  },
  {
   "cell_type": "code",
   "execution_count": null,
   "metadata": {},
   "outputs": [],
   "source": [
    "moscowDF = pd.DataFrame(moscow_byk_stations)\n",
    "moscowDF"
   ]
  }
 ],
 "metadata": {
  "kernelspec": {
   "display_name": "Python 3.10.5 64-bit",
   "language": "python",
   "name": "python3"
  },
  "language_info": {
   "codemirror_mode": {
    "name": "ipython",
    "version": 3
   },
   "file_extension": ".py",
   "mimetype": "text/x-python",
   "name": "python",
   "nbconvert_exporter": "python",
   "pygments_lexer": "ipython3",
   "version": "3.10.5"
  },
  "vscode": {
   "interpreter": {
    "hash": "44bac8ab58d6375e48af8fed110d39df3ec8ddf6fb4dd8da03249658af297214"
   }
  }
 },
 "nbformat": 4,
 "nbformat_minor": 4
}
