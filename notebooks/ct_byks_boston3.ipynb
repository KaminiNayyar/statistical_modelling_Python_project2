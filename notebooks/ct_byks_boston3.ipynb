{
 "cells": [
  {
   "cell_type": "code",
   "execution_count": 11,
   "id": "03d8e5d7-cb98-422b-b85e-bc1450a247b7",
   "metadata": {},
   "outputs": [],
   "source": [
    "import requests\n",
    "import pandas as pd\n",
    "import json"
   ]
  },
  {
   "cell_type": "code",
   "execution_count": 12,
   "id": "c6130db8-e8ed-4b2d-85ac-3c60bc292401",
   "metadata": {
    "tags": []
   },
   "outputs": [
    {
     "data": {
      "text/plain": [
       "{'company': ['ЗАО «СитиБайк»'],\n",
       " 'href': '/v2/networks/velobike-moscow',\n",
       " 'id': 'velobike-moscow',\n",
       " 'location': {'city': 'Moscow',\n",
       "  'country': 'RU',\n",
       "  'latitude': 55.75,\n",
       "  'longitude': 37.616667},\n",
       " 'name': 'Velobike'}"
      ]
     },
     "execution_count": 12,
     "metadata": {},
     "output_type": "execute_result"
    }
   ],
   "source": [
    "url = 'http://api.citybik.es/v2/networks' \n",
    "headers = {\"Accept\": \"application/json\"} \n",
    "ct_byk_result = requests.get(url, headers=headers).json()\n",
    "ct_byk_result['networks'][0]"
   ]
  },
  {
   "cell_type": "code",
   "execution_count": 13,
   "id": "3892a075-8f7a-4fca-99f2-f4160d7e68ae",
   "metadata": {
    "tags": []
   },
   "outputs": [
    {
     "name": "stdout",
     "output_type": "stream",
     "text": [
      "614\n"
     ]
    }
   ],
   "source": [
    "print(len(ct_byk_result['networks']))\n",
    "\n",
    "# checking for countries details in the result\n",
    "for i in range(614):\n",
    "    ct_byk_result['networks'][i]['location']['country']"
   ]
  },
  {
   "cell_type": "markdown",
   "id": "f22a894e-7302-43db-a1a2-df890e890409",
   "metadata": {},
   "source": [
    "## Chose US"
   ]
  },
  {
   "cell_type": "code",
   "execution_count": 14,
   "id": "159d24b1-7230-4f2f-9420-5b82df368322",
   "metadata": {
    "tags": []
   },
   "outputs": [
    {
     "name": "stdout",
     "output_type": "stream",
     "text": [
      "52\n",
      "Aspen, CO\n",
      "Ann Arbor, MI\n",
      "Austin, TX\n",
      "Chattanooga, TN\n",
      "Portland, OR\n",
      "San Ramon, CA\n",
      "Boise, ID\n",
      "Boulder, CO\n",
      "Santa Monica, CA\n",
      "Fort Lauderdale, FL\n",
      "Milwaukee, WI\n",
      "Buffalo, NY\n",
      "Washington, DC\n",
      "Charlotte, NC\n",
      "Cincinnati, OH\n",
      "New York, NY\n",
      "Tampa, FL\n",
      "Columbus, OH\n",
      "Denver, CO\n",
      "Chicago, IL\n",
      "El Paso, TX\n",
      "Fort Worth, TX\n",
      "Fargo, ND\n",
      "Salt Lake City\n",
      "Phoenix, AZ\n",
      "Omaha, NE\n",
      "Houston, TX\n",
      "Boston, MA\n",
      "Philadelphia, PA\n",
      "Indianapolis, IN\n",
      "Orlando, FL\n",
      "Kansas City, MO\n",
      "Dayton, OH\n",
      "Madison, WI\n",
      "Los Angeles, CA\n",
      "Ketchum / Sun Valley, ID\n",
      "Minneapolis, MN\n",
      "San Antonio, TX\n",
      "University of South Florida, FL\n",
      "Long Beach, NY\n",
      "Spartanburg, SC\n",
      "Topeka, KS\n",
      "University of Virginia, VA\n",
      "Atlanta, GA\n",
      "Miami Beach, FL\n",
      "San Diego, CA\n",
      "Des Moines, IA\n",
      "Greenville, SC\n",
      "Pittsburgh\n",
      "San Francisco Bay Area, CA\n",
      "Las Vegas, NV\n",
      "Oklahoma, OK\n"
     ]
    }
   ],
   "source": [
    "ct_byk = len(ct_byk_result['networks'])\n",
    "ct_byk\n",
    "\n",
    "# checking for country USA details in the result\n",
    "us_ct_byk = []\n",
    "for i in range(ct_byk):\n",
    "    if ct_byk_result['networks'][i]['location']['country'] == \"US\":\n",
    "         us_ct_byk.append(ct_byk_result['networks'][i])\n",
    "\n",
    "print(len(us_ct_byk))\n",
    "for i in range(52):\n",
    "    print(us_ct_byk[i]['location']['city'])"
   ]
  },
  {
   "cell_type": "markdown",
   "id": "220ad809-0910-4b80-b79c-66dd6102b228",
   "metadata": {},
   "source": [
    "## Chose city Boston, MA"
   ]
  },
  {
   "cell_type": "code",
   "execution_count": 15,
   "id": "9be7a659-7310-4069-91d8-2ad562182b3e",
   "metadata": {},
   "outputs": [
    {
     "name": "stdout",
     "output_type": "stream",
     "text": [
      "1\n"
     ]
    }
   ],
   "source": [
    "ct_byk_boston = []\n",
    "for i in range(52):\n",
    "    if us_ct_byk[i]['location']['city'] == \"Boston, MA\":\n",
    "        ct_byk_boston.append(us_ct_byk[i])\n",
    "ct_byk_boston    \n",
    "print(len(ct_byk_boston))"
   ]
  },
  {
   "cell_type": "code",
   "execution_count": 16,
   "id": "ee941810-45cb-46f3-8357-22749378c090",
   "metadata": {},
   "outputs": [
    {
     "name": "stdout",
     "output_type": "stream",
     "text": [
      "386\n"
     ]
    },
    {
     "data": {
      "text/plain": [
       "{'empty_slots': 6,\n",
       " 'extra': {'ebikes': 0,\n",
       "  'has_ebikes': True,\n",
       "  'last_updated': 1672884473,\n",
       "  'payment': ['key', 'creditcard'],\n",
       "  'payment-terminal': True,\n",
       "  'renting': 1,\n",
       "  'returning': 1,\n",
       "  'slots': 53,\n",
       "  'uid': '179'},\n",
       " 'free_bikes': 46,\n",
       " 'id': '943a5046e94d9462496182d9e38da371',\n",
       " 'latitude': 42.355601213279265,\n",
       " 'longitude': -71.10394477844238,\n",
       " 'name': 'MIT Vassar St',\n",
       " 'timestamp': '2023-01-05T02:32:27.261000Z'}"
      ]
     },
     "execution_count": 16,
     "metadata": {},
     "output_type": "execute_result"
    }
   ],
   "source": [
    "boston_byks = ct_byk_boston[0]['href']\n",
    "url = f'https://api.citybik.es{boston_byks}'\n",
    "boston_byk_stations = requests.get(url).json()['network']['stations']\n",
    "print(len(boston_byk_stations))\n",
    "boston_byk_stations[50]\n",
    "\n"
   ]
  },
  {
   "cell_type": "code",
   "execution_count": 18,
   "id": "f23ede75-ad99-4410-921e-89ee331dd6cb",
   "metadata": {},
   "outputs": [
    {
     "data": {
      "text/html": [
       "<div>\n",
       "<style scoped>\n",
       "    .dataframe tbody tr th:only-of-type {\n",
       "        vertical-align: middle;\n",
       "    }\n",
       "\n",
       "    .dataframe tbody tr th {\n",
       "        vertical-align: top;\n",
       "    }\n",
       "\n",
       "    .dataframe thead th {\n",
       "        text-align: right;\n",
       "    }\n",
       "</style>\n",
       "<table border=\"1\" class=\"dataframe\">\n",
       "  <thead>\n",
       "    <tr style=\"text-align: right;\">\n",
       "      <th></th>\n",
       "      <th>empty_slots</th>\n",
       "      <th>extra</th>\n",
       "      <th>free_bikes</th>\n",
       "      <th>id</th>\n",
       "      <th>latitude</th>\n",
       "      <th>longitude</th>\n",
       "      <th>name</th>\n",
       "      <th>timestamp</th>\n",
       "      <th>ll</th>\n",
       "    </tr>\n",
       "  </thead>\n",
       "  <tbody>\n",
       "    <tr>\n",
       "      <th>0</th>\n",
       "      <td>2</td>\n",
       "      <td>{'ebikes': 0, 'has_ebikes': True, 'last_update...</td>\n",
       "      <td>17</td>\n",
       "      <td>553ed0300d38108b4f21a6bafa3db70c</td>\n",
       "      <td>42.386781</td>\n",
       "      <td>-71.006098</td>\n",
       "      <td>Orient Heights T Stop - Bennington St at Sarat...</td>\n",
       "      <td>2023-01-05T02:32:27.407000Z</td>\n",
       "      <td>42.386781 -71.006098</td>\n",
       "    </tr>\n",
       "  </tbody>\n",
       "</table>\n",
       "</div>"
      ],
      "text/plain": [
       "   empty_slots                                              extra  free_bikes  \\\n",
       "0            2  {'ebikes': 0, 'has_ebikes': True, 'last_update...          17   \n",
       "\n",
       "                                 id   latitude  longitude  \\\n",
       "0  553ed0300d38108b4f21a6bafa3db70c  42.386781 -71.006098   \n",
       "\n",
       "                                                name  \\\n",
       "0  Orient Heights T Stop - Bennington St at Sarat...   \n",
       "\n",
       "                     timestamp                    ll  \n",
       "0  2023-01-05T02:32:27.407000Z  42.386781 -71.006098  "
      ]
     },
     "execution_count": 18,
     "metadata": {},
     "output_type": "execute_result"
    }
   ],
   "source": [
    "def boston_bykstations_name(station_name):\n",
    "    boston_byk_stations = {'name': i['name'], 'latitude': i['latitude'],        'longitude' : i['longitude'], \n",
    "                          'id' : i['id'], 'free_bikes': i['free_bikes'], 'ebikes': i['extra']['ebikes'],\n",
    "                          'normal_bikes': i['extra']['normal_bikes'],'slots': i['slots']}\n",
    "                                                                                                                                                                                                                                                                                                        \n",
    "BostonDF = pd.DataFrame(boston_byk_stations)\n",
    "BostonDF['ll'] = BostonDF['latitude'].astype(str) + ' ' + BostonDF['longitude'].astype(str)\n",
    "BostonDF.head(1)"
   ]
  },
  {
   "cell_type": "markdown",
   "id": "e039cb04-c7eb-4758-a34e-c215ac27201b",
   "metadata": {},
   "source": [
    "# Parsed into the dataframe"
   ]
  },
  {
   "cell_type": "code",
   "execution_count": 21,
   "id": "3f7ef2b3-caf7-42d1-bd8e-6c0a90c3965f",
   "metadata": {
    "tags": []
   },
   "outputs": [
    {
     "data": {
      "text/html": [
       "<div>\n",
       "<style scoped>\n",
       "    .dataframe tbody tr th:only-of-type {\n",
       "        vertical-align: middle;\n",
       "    }\n",
       "\n",
       "    .dataframe tbody tr th {\n",
       "        vertical-align: top;\n",
       "    }\n",
       "\n",
       "    .dataframe thead th {\n",
       "        text-align: right;\n",
       "    }\n",
       "</style>\n",
       "<table border=\"1\" class=\"dataframe\">\n",
       "  <thead>\n",
       "    <tr style=\"text-align: right;\">\n",
       "      <th></th>\n",
       "      <th>empty_slots</th>\n",
       "      <th>extra</th>\n",
       "      <th>free_bikes</th>\n",
       "      <th>id</th>\n",
       "      <th>latitude</th>\n",
       "      <th>longitude</th>\n",
       "      <th>name</th>\n",
       "      <th>timestamp</th>\n",
       "    </tr>\n",
       "  </thead>\n",
       "  <tbody>\n",
       "    <tr>\n",
       "      <th>0</th>\n",
       "      <td>2</td>\n",
       "      <td>{'ebikes': 0, 'has_ebikes': True, 'last_update...</td>\n",
       "      <td>17</td>\n",
       "      <td>553ed0300d38108b4f21a6bafa3db70c</td>\n",
       "      <td>42.386781</td>\n",
       "      <td>-71.006098</td>\n",
       "      <td>Orient Heights T Stop - Bennington St at Sarat...</td>\n",
       "      <td>2023-01-05T02:32:27.407000Z</td>\n",
       "    </tr>\n",
       "    <tr>\n",
       "      <th>1</th>\n",
       "      <td>21</td>\n",
       "      <td>{'ebikes': 0, 'has_ebikes': True, 'last_update...</td>\n",
       "      <td>11</td>\n",
       "      <td>93542dcbf21f5411569adb92cd7cc199</td>\n",
       "      <td>42.368844</td>\n",
       "      <td>-71.039778</td>\n",
       "      <td>Maverick Square - Lewis Mall</td>\n",
       "      <td>2023-01-05T02:32:27.409000Z</td>\n",
       "    </tr>\n",
       "    <tr>\n",
       "      <th>2</th>\n",
       "      <td>2</td>\n",
       "      <td>{'ebikes': 0, 'has_ebikes': True, 'last_update...</td>\n",
       "      <td>14</td>\n",
       "      <td>d9c7ef5dbda4ed944d1bf51fe540acb6</td>\n",
       "      <td>42.369536</td>\n",
       "      <td>-71.039431</td>\n",
       "      <td>East Boston Neighborhood Health Center - 20 Ma...</td>\n",
       "      <td>2023-01-05T02:32:27.410000Z</td>\n",
       "    </tr>\n",
       "    <tr>\n",
       "      <th>3</th>\n",
       "      <td>4</td>\n",
       "      <td>{'ebikes': 0, 'has_ebikes': True, 'last_update...</td>\n",
       "      <td>11</td>\n",
       "      <td>0568389e659e679fbe29a5ac12cd49c0</td>\n",
       "      <td>42.383533</td>\n",
       "      <td>-71.016191</td>\n",
       "      <td>Bennington St at Byron St</td>\n",
       "      <td>2023-01-05T02:32:27.411000Z</td>\n",
       "    </tr>\n",
       "    <tr>\n",
       "      <th>4</th>\n",
       "      <td>6</td>\n",
       "      <td>{'ebikes': 0, 'has_ebikes': True, 'last_update...</td>\n",
       "      <td>9</td>\n",
       "      <td>47b79abc28a54d0e4689b1096ceb8466</td>\n",
       "      <td>42.373312</td>\n",
       "      <td>-71.041020</td>\n",
       "      <td>Boston East - 126 Border St</td>\n",
       "      <td>2023-01-05T02:32:27.412000Z</td>\n",
       "    </tr>\n",
       "  </tbody>\n",
       "</table>\n",
       "</div>"
      ],
      "text/plain": [
       "   empty_slots                                              extra  free_bikes  \\\n",
       "0            2  {'ebikes': 0, 'has_ebikes': True, 'last_update...          17   \n",
       "1           21  {'ebikes': 0, 'has_ebikes': True, 'last_update...          11   \n",
       "2            2  {'ebikes': 0, 'has_ebikes': True, 'last_update...          14   \n",
       "3            4  {'ebikes': 0, 'has_ebikes': True, 'last_update...          11   \n",
       "4            6  {'ebikes': 0, 'has_ebikes': True, 'last_update...           9   \n",
       "\n",
       "                                 id   latitude  longitude  \\\n",
       "0  553ed0300d38108b4f21a6bafa3db70c  42.386781 -71.006098   \n",
       "1  93542dcbf21f5411569adb92cd7cc199  42.368844 -71.039778   \n",
       "2  d9c7ef5dbda4ed944d1bf51fe540acb6  42.369536 -71.039431   \n",
       "3  0568389e659e679fbe29a5ac12cd49c0  42.383533 -71.016191   \n",
       "4  47b79abc28a54d0e4689b1096ceb8466  42.373312 -71.041020   \n",
       "\n",
       "                                                name  \\\n",
       "0  Orient Heights T Stop - Bennington St at Sarat...   \n",
       "1                       Maverick Square - Lewis Mall   \n",
       "2  East Boston Neighborhood Health Center - 20 Ma...   \n",
       "3                          Bennington St at Byron St   \n",
       "4                        Boston East - 126 Border St   \n",
       "\n",
       "                     timestamp  \n",
       "0  2023-01-05T02:32:27.407000Z  \n",
       "1  2023-01-05T02:32:27.409000Z  \n",
       "2  2023-01-05T02:32:27.410000Z  \n",
       "3  2023-01-05T02:32:27.411000Z  \n",
       "4  2023-01-05T02:32:27.412000Z  "
      ]
     },
     "execution_count": 21,
     "metadata": {},
     "output_type": "execute_result"
    }
   ],
   "source": [
    "BostonDF = pd.DataFrame(boston_byk_stations)\n",
    "BostonDF.head(5)"
   ]
  },
  {
   "cell_type": "markdown",
   "id": "396101db-3143-44cb-bf38-fe7ebf977151",
   "metadata": {},
   "source": [
    "# Test - Saving the file in th system and extracting lat and long from the desired city (Boston)"
   ]
  },
  {
   "cell_type": "code",
   "execution_count": 22,
   "id": "0558ffb2-6558-44db-a1b6-c854c9a83acf",
   "metadata": {},
   "outputs": [],
   "source": [
    "BostonDF.to_csv(f'/Users/kamininayyar/Github_old_pc/GitHub_frm_old_pc/BostonDF.csv', index = False)"
   ]
  },
  {
   "cell_type": "code",
   "execution_count": 23,
   "id": "d7fedcf3-d1b0-4676-a35b-6743f081cad6",
   "metadata": {},
   "outputs": [],
   "source": [
    "ct_bks_df = pd.read_csv(f'/Users/kamininayyar/Github_old_pc/GitHub_frm_old_pc/BostonDF.csv')"
   ]
  },
  {
   "cell_type": "code",
   "execution_count": 24,
   "id": "61f57e81-0bf7-4262-9abf-df5eaa0fd9d9",
   "metadata": {},
   "outputs": [
    {
     "name": "stdout",
     "output_type": "stream",
     "text": [
      "42.341332,-71.076847\n"
     ]
    }
   ],
   "source": [
    "lat = ct_bks_df['latitude']\n",
    "long = ct_bks_df['longitude']\n",
    "print(f'{lat[10]},{long[10]}')"
   ]
  },
  {
   "cell_type": "code",
   "execution_count": null,
   "id": "25800db4-5cdd-4ebe-96c8-e4d65f9891a2",
   "metadata": {},
   "outputs": [],
   "source": []
  }
 ],
 "metadata": {
  "kernelspec": {
   "display_name": "Python 3 (ipykernel)",
   "language": "python",
   "name": "python3"
  },
  "language_info": {
   "codemirror_mode": {
    "name": "ipython",
    "version": 3
   },
   "file_extension": ".py",
   "mimetype": "text/x-python",
   "name": "python",
   "nbconvert_exporter": "python",
   "pygments_lexer": "ipython3",
   "version": "3.9.13"
  }
 },
 "nbformat": 4,
 "nbformat_minor": 5
}
