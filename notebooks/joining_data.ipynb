{
 "cells": [
  {
   "cell_type": "markdown",
   "metadata": {},
   "source": [
    "Join the data from Part 1 with the data from Part 2 to create a new dataframe."
   ]
  },
  {
   "cell_type": "code",
   "execution_count": 21,
   "metadata": {},
   "outputs": [],
   "source": [
    "import pandas as pd\n",
    "import numpy as np\n",
    "import matplotlib.pyplot as plt\n",
    "import seaborn as sns"
   ]
  },
  {
   "cell_type": "markdown",
   "metadata": {},
   "source": [
    "# Extracting the ct_byks, fsq and ylp data frame one by one and (data cleaning)"
   ]
  },
  {
   "cell_type": "code",
   "execution_count": 40,
   "metadata": {},
   "outputs": [
    {
     "data": {
      "text/html": [
       "<div>\n",
       "<style scoped>\n",
       "    .dataframe tbody tr th:only-of-type {\n",
       "        vertical-align: middle;\n",
       "    }\n",
       "\n",
       "    .dataframe tbody tr th {\n",
       "        vertical-align: top;\n",
       "    }\n",
       "\n",
       "    .dataframe thead th {\n",
       "        text-align: right;\n",
       "    }\n",
       "</style>\n",
       "<table border=\"1\" class=\"dataframe\">\n",
       "  <thead>\n",
       "    <tr style=\"text-align: right;\">\n",
       "      <th></th>\n",
       "      <th>empty_slots</th>\n",
       "      <th>extra</th>\n",
       "      <th>free_bikes</th>\n",
       "      <th>id</th>\n",
       "      <th>latitude</th>\n",
       "      <th>longitude</th>\n",
       "      <th>name</th>\n",
       "      <th>timestamp</th>\n",
       "    </tr>\n",
       "  </thead>\n",
       "  <tbody>\n",
       "    <tr>\n",
       "      <th>0</th>\n",
       "      <td>1</td>\n",
       "      <td>{'ebikes': 0, 'has_ebikes': True, 'last_update...</td>\n",
       "      <td>18</td>\n",
       "      <td>553ed0300d38108b4f21a6bafa3db70c</td>\n",
       "      <td>42.386781</td>\n",
       "      <td>-71.006098</td>\n",
       "      <td>Orient Heights T Stop - Bennington St at Sarat...</td>\n",
       "      <td>2023-01-04T20:51:05.211000Z</td>\n",
       "    </tr>\n",
       "    <tr>\n",
       "      <th>1</th>\n",
       "      <td>20</td>\n",
       "      <td>{'ebikes': 0, 'has_ebikes': True, 'last_update...</td>\n",
       "      <td>12</td>\n",
       "      <td>93542dcbf21f5411569adb92cd7cc199</td>\n",
       "      <td>42.368844</td>\n",
       "      <td>-71.039778</td>\n",
       "      <td>Maverick Square - Lewis Mall</td>\n",
       "      <td>2023-01-04T20:51:05.213000Z</td>\n",
       "    </tr>\n",
       "  </tbody>\n",
       "</table>\n",
       "</div>"
      ],
      "text/plain": [
       "   empty_slots                                              extra  free_bikes  \\\n",
       "0            1  {'ebikes': 0, 'has_ebikes': True, 'last_update...          18   \n",
       "1           20  {'ebikes': 0, 'has_ebikes': True, 'last_update...          12   \n",
       "\n",
       "                                 id   latitude  longitude  \\\n",
       "0  553ed0300d38108b4f21a6bafa3db70c  42.386781 -71.006098   \n",
       "1  93542dcbf21f5411569adb92cd7cc199  42.368844 -71.039778   \n",
       "\n",
       "                                                name  \\\n",
       "0  Orient Heights T Stop - Bennington St at Sarat...   \n",
       "1                       Maverick Square - Lewis Mall   \n",
       "\n",
       "                     timestamp  \n",
       "0  2023-01-04T20:51:05.211000Z  \n",
       "1  2023-01-04T20:51:05.213000Z  "
      ]
     },
     "execution_count": 40,
     "metadata": {},
     "output_type": "execute_result"
    }
   ],
   "source": [
    "ct_bks_df = pd.read_csv(f'/Users/kamininayyar/Github_old_pc/GitHub_frm_old_pc/BostonDF.csv')\n",
    "ct_bks_df.head(2)"
   ]
  },
  {
   "cell_type": "code",
   "execution_count": 41,
   "metadata": {},
   "outputs": [
    {
     "data": {
      "text/html": [
       "<div>\n",
       "<style scoped>\n",
       "    .dataframe tbody tr th:only-of-type {\n",
       "        vertical-align: middle;\n",
       "    }\n",
       "\n",
       "    .dataframe tbody tr th {\n",
       "        vertical-align: top;\n",
       "    }\n",
       "\n",
       "    .dataframe thead th {\n",
       "        text-align: right;\n",
       "    }\n",
       "</style>\n",
       "<table border=\"1\" class=\"dataframe\">\n",
       "  <thead>\n",
       "    <tr style=\"text-align: right;\">\n",
       "      <th></th>\n",
       "      <th>empty_slots</th>\n",
       "      <th>free_bikes</th>\n",
       "      <th>name</th>\n",
       "    </tr>\n",
       "  </thead>\n",
       "  <tbody>\n",
       "    <tr>\n",
       "      <th>0</th>\n",
       "      <td>1</td>\n",
       "      <td>18</td>\n",
       "      <td>Orient Heights T Stop - Bennington St at Sarat...</td>\n",
       "    </tr>\n",
       "    <tr>\n",
       "      <th>1</th>\n",
       "      <td>20</td>\n",
       "      <td>12</td>\n",
       "      <td>Maverick Square - Lewis Mall</td>\n",
       "    </tr>\n",
       "  </tbody>\n",
       "</table>\n",
       "</div>"
      ],
      "text/plain": [
       "   empty_slots  free_bikes                                               name\n",
       "0            1          18  Orient Heights T Stop - Bennington St at Sarat...\n",
       "1           20          12                       Maverick Square - Lewis Mall"
      ]
     },
     "execution_count": 41,
     "metadata": {},
     "output_type": "execute_result"
    }
   ],
   "source": [
    "ctbk_df=ct_bks_df.drop([ 'id', 'extra', 'latitude','longitude','timestamp'], axis=1)\n",
    "ctbk_df.head(2)"
   ]
  },
  {
   "cell_type": "code",
   "execution_count": 29,
   "metadata": {
    "tags": []
   },
   "outputs": [
    {
     "data": {
      "text/html": [
       "<div>\n",
       "<style scoped>\n",
       "    .dataframe tbody tr th:only-of-type {\n",
       "        vertical-align: middle;\n",
       "    }\n",
       "\n",
       "    .dataframe tbody tr th {\n",
       "        vertical-align: top;\n",
       "    }\n",
       "\n",
       "    .dataframe thead th {\n",
       "        text-align: right;\n",
       "    }\n",
       "</style>\n",
       "<table border=\"1\" class=\"dataframe\">\n",
       "  <thead>\n",
       "    <tr style=\"text-align: right;\">\n",
       "      <th></th>\n",
       "      <th>lat-long</th>\n",
       "      <th>cat_id</th>\n",
       "      <th>category_name</th>\n",
       "      <th>name</th>\n",
       "      <th>rating</th>\n",
       "      <th>distance</th>\n",
       "      <th>latitude</th>\n",
       "      <th>longitude</th>\n",
       "      <th>address</th>\n",
       "      <th>popularity</th>\n",
       "      <th>open_now</th>\n",
       "    </tr>\n",
       "  </thead>\n",
       "  <tbody>\n",
       "    <tr>\n",
       "      <th>0</th>\n",
       "      <td>0      42.386781\\n1      42.368844\\n2      42....</td>\n",
       "      <td>16032</td>\n",
       "      <td>Park</td>\n",
       "      <td>Harbour Square Park</td>\n",
       "      <td>9.3</td>\n",
       "      <td>983</td>\n",
       "      <td>43.639288</td>\n",
       "      <td>-79.378261</td>\n",
       "      <td>NaN</td>\n",
       "      <td>0.99542</td>\n",
       "      <td>False</td>\n",
       "    </tr>\n",
       "  </tbody>\n",
       "</table>\n",
       "</div>"
      ],
      "text/plain": [
       "                                            lat-long  cat_id category_name  \\\n",
       "0  0      42.386781\\n1      42.368844\\n2      42....   16032          Park   \n",
       "\n",
       "                  name  rating  distance   latitude  longitude  address  \\\n",
       "0  Harbour Square Park     9.3       983  43.639288 -79.378261      NaN   \n",
       "\n",
       "   popularity  open_now  \n",
       "0     0.99542     False  "
      ]
     },
     "execution_count": 29,
     "metadata": {},
     "output_type": "execute_result"
    }
   ],
   "source": [
    "boston_fsq = pd.read_csv(f'/Users/kamininayyar/Github_old_pc/GitHub_frm_old_pc/boston_entrtanmnt_fsq.csv')\n",
    "boston_fsq.head(1)"
   ]
  },
  {
   "cell_type": "code",
   "execution_count": 37,
   "metadata": {},
   "outputs": [
    {
     "data": {
      "text/html": [
       "<div>\n",
       "<style scoped>\n",
       "    .dataframe tbody tr th:only-of-type {\n",
       "        vertical-align: middle;\n",
       "    }\n",
       "\n",
       "    .dataframe tbody tr th {\n",
       "        vertical-align: top;\n",
       "    }\n",
       "\n",
       "    .dataframe thead th {\n",
       "        text-align: right;\n",
       "    }\n",
       "</style>\n",
       "<table border=\"1\" class=\"dataframe\">\n",
       "  <thead>\n",
       "    <tr style=\"text-align: right;\">\n",
       "      <th></th>\n",
       "      <th>lat-long</th>\n",
       "      <th>name</th>\n",
       "      <th>rating</th>\n",
       "      <th>distance</th>\n",
       "      <th>popularity</th>\n",
       "    </tr>\n",
       "  </thead>\n",
       "  <tbody>\n",
       "    <tr>\n",
       "      <th>0</th>\n",
       "      <td>0      42.386781\\n1      42.368844\\n2      42....</td>\n",
       "      <td>Harbour Square Park</td>\n",
       "      <td>9.3</td>\n",
       "      <td>983</td>\n",
       "      <td>0.995420</td>\n",
       "    </tr>\n",
       "    <tr>\n",
       "      <th>1</th>\n",
       "      <td>0      42.386781\\n1      42.368844\\n2      42....</td>\n",
       "      <td>Fleck Dance Theater</td>\n",
       "      <td>8.3</td>\n",
       "      <td>1007</td>\n",
       "      <td>0.934638</td>\n",
       "    </tr>\n",
       "  </tbody>\n",
       "</table>\n",
       "</div>"
      ],
      "text/plain": [
       "                                            lat-long                 name  \\\n",
       "0  0      42.386781\\n1      42.368844\\n2      42....  Harbour Square Park   \n",
       "1  0      42.386781\\n1      42.368844\\n2      42....  Fleck Dance Theater   \n",
       "\n",
       "   rating  distance  popularity  \n",
       "0     9.3       983    0.995420  \n",
       "1     8.3      1007    0.934638  "
      ]
     },
     "execution_count": 37,
     "metadata": {},
     "output_type": "execute_result"
    }
   ],
   "source": [
    "fsq_df=boston_fsq.drop([ 'cat_id', 'category_name', 'latitude','longitude','address','open_now'], axis=1)\n",
    "fsq_df.head(2)"
   ]
  },
  {
   "cell_type": "code",
   "execution_count": null,
   "metadata": {},
   "outputs": [],
   "source": []
  },
  {
   "cell_type": "code",
   "execution_count": 30,
   "metadata": {},
   "outputs": [
    {
     "data": {
      "text/html": [
       "<div>\n",
       "<style scoped>\n",
       "    .dataframe tbody tr th:only-of-type {\n",
       "        vertical-align: middle;\n",
       "    }\n",
       "\n",
       "    .dataframe tbody tr th {\n",
       "        vertical-align: top;\n",
       "    }\n",
       "\n",
       "    .dataframe thead th {\n",
       "        text-align: right;\n",
       "    }\n",
       "</style>\n",
       "<table border=\"1\" class=\"dataframe\">\n",
       "  <thead>\n",
       "    <tr style=\"text-align: right;\">\n",
       "      <th></th>\n",
       "      <th>lat-long</th>\n",
       "      <th>category_name</th>\n",
       "      <th>name</th>\n",
       "      <th>distance</th>\n",
       "      <th>latitude</th>\n",
       "      <th>longitude</th>\n",
       "      <th>address</th>\n",
       "      <th>is_closed</th>\n",
       "      <th>rating</th>\n",
       "      <th>rating_count</th>\n",
       "    </tr>\n",
       "  </thead>\n",
       "  <tbody>\n",
       "    <tr>\n",
       "      <th>0</th>\n",
       "      <td>0      42.386781\\n1      42.368844\\n2      42....</td>\n",
       "      <td>tapas</td>\n",
       "      <td>Toro</td>\n",
       "      <td>488.960833</td>\n",
       "      <td>42.336988</td>\n",
       "      <td>-71.075924</td>\n",
       "      <td>['1704 Washington St', 'Boston, MA 02118']</td>\n",
       "      <td>False</td>\n",
       "      <td>4.0</td>\n",
       "      <td>2425</td>\n",
       "    </tr>\n",
       "  </tbody>\n",
       "</table>\n",
       "</div>"
      ],
      "text/plain": [
       "                                            lat-long category_name  name  \\\n",
       "0  0      42.386781\\n1      42.368844\\n2      42....         tapas  Toro   \n",
       "\n",
       "     distance   latitude  longitude  \\\n",
       "0  488.960833  42.336988 -71.075924   \n",
       "\n",
       "                                      address  is_closed  rating  rating_count  \n",
       "0  ['1704 Washington St', 'Boston, MA 02118']      False     4.0          2425  "
      ]
     },
     "execution_count": 30,
     "metadata": {},
     "output_type": "execute_result"
    }
   ],
   "source": [
    "boston_ylp = pd.read_csv(f'/Users/kamininayyar/Github_old_pc/GitHub_frm_old_pc/boston_ylp_df.csv')\n",
    "boston_ylp.head(1)"
   ]
  },
  {
   "cell_type": "code",
   "execution_count": 38,
   "metadata": {},
   "outputs": [
    {
     "data": {
      "text/html": [
       "<div>\n",
       "<style scoped>\n",
       "    .dataframe tbody tr th:only-of-type {\n",
       "        vertical-align: middle;\n",
       "    }\n",
       "\n",
       "    .dataframe tbody tr th {\n",
       "        vertical-align: top;\n",
       "    }\n",
       "\n",
       "    .dataframe thead th {\n",
       "        text-align: right;\n",
       "    }\n",
       "</style>\n",
       "<table border=\"1\" class=\"dataframe\">\n",
       "  <thead>\n",
       "    <tr style=\"text-align: right;\">\n",
       "      <th></th>\n",
       "      <th>lat-long</th>\n",
       "      <th>name</th>\n",
       "      <th>distance</th>\n",
       "      <th>rating</th>\n",
       "    </tr>\n",
       "  </thead>\n",
       "  <tbody>\n",
       "    <tr>\n",
       "      <th>0</th>\n",
       "      <td>0      42.386781\\n1      42.368844\\n2      42....</td>\n",
       "      <td>Toro</td>\n",
       "      <td>488.960833</td>\n",
       "      <td>4.0</td>\n",
       "    </tr>\n",
       "    <tr>\n",
       "      <th>1</th>\n",
       "      <td>0      42.386781\\n1      42.368844\\n2      42....</td>\n",
       "      <td>The Friendly Toast</td>\n",
       "      <td>833.597293</td>\n",
       "      <td>4.5</td>\n",
       "    </tr>\n",
       "  </tbody>\n",
       "</table>\n",
       "</div>"
      ],
      "text/plain": [
       "                                            lat-long                name  \\\n",
       "0  0      42.386781\\n1      42.368844\\n2      42....                Toro   \n",
       "1  0      42.386781\\n1      42.368844\\n2      42....  The Friendly Toast   \n",
       "\n",
       "     distance  rating  \n",
       "0  488.960833     4.0  \n",
       "1  833.597293     4.5  "
      ]
     },
     "execution_count": 38,
     "metadata": {},
     "output_type": "execute_result"
    }
   ],
   "source": [
    "ylp_df=boston_ylp.drop([ 'category_name', 'latitude','longitude','address','is_closed','rating_count'], axis=1)\n",
    "ylp_df.head(2)"
   ]
  },
  {
   "cell_type": "markdown",
   "metadata": {},
   "source": [
    "# merging the fsq and ylp with cty byks one by one and then merging them together into one dataframe"
   ]
  },
  {
   "cell_type": "code",
   "execution_count": 55,
   "metadata": {},
   "outputs": [
    {
     "data": {
      "text/html": [
       "<div>\n",
       "<style scoped>\n",
       "    .dataframe tbody tr th:only-of-type {\n",
       "        vertical-align: middle;\n",
       "    }\n",
       "\n",
       "    .dataframe tbody tr th {\n",
       "        vertical-align: top;\n",
       "    }\n",
       "\n",
       "    .dataframe thead th {\n",
       "        text-align: right;\n",
       "    }\n",
       "</style>\n",
       "<table border=\"1\" class=\"dataframe\">\n",
       "  <thead>\n",
       "    <tr style=\"text-align: right;\">\n",
       "      <th></th>\n",
       "      <th>empty_slots</th>\n",
       "      <th>free_bikes</th>\n",
       "      <th>name</th>\n",
       "      <th>lat-long</th>\n",
       "      <th>rating</th>\n",
       "      <th>distance</th>\n",
       "      <th>popularity</th>\n",
       "    </tr>\n",
       "  </thead>\n",
       "  <tbody>\n",
       "    <tr>\n",
       "      <th>431</th>\n",
       "      <td>NaN</td>\n",
       "      <td>NaN</td>\n",
       "      <td>Starbucks</td>\n",
       "      <td>0      42.386781\\n1      42.368844\\n2      42....</td>\n",
       "      <td>6.9</td>\n",
       "      <td>1226.0</td>\n",
       "      <td>0.976767</td>\n",
       "    </tr>\n",
       "    <tr>\n",
       "      <th>432</th>\n",
       "      <td>NaN</td>\n",
       "      <td>NaN</td>\n",
       "      <td>Redpath Stage at Harbourfront</td>\n",
       "      <td>0      42.386781\\n1      42.368844\\n2      42....</td>\n",
       "      <td>6.9</td>\n",
       "      <td>1212.0</td>\n",
       "      <td>0.875322</td>\n",
       "    </tr>\n",
       "    <tr>\n",
       "      <th>433</th>\n",
       "      <td>NaN</td>\n",
       "      <td>NaN</td>\n",
       "      <td>E11Even</td>\n",
       "      <td>0      42.386781\\n1      42.368844\\n2      42....</td>\n",
       "      <td>7.6</td>\n",
       "      <td>1412.0</td>\n",
       "      <td>0.983906</td>\n",
       "    </tr>\n",
       "    <tr>\n",
       "      <th>434</th>\n",
       "      <td>NaN</td>\n",
       "      <td>NaN</td>\n",
       "      <td>Toronto Railway Heritage Centre</td>\n",
       "      <td>0      42.386781\\n1      42.368844\\n2      42....</td>\n",
       "      <td>8.0</td>\n",
       "      <td>1496.0</td>\n",
       "      <td>0.991425</td>\n",
       "    </tr>\n",
       "    <tr>\n",
       "      <th>435</th>\n",
       "      <td>NaN</td>\n",
       "      <td>NaN</td>\n",
       "      <td>Island Cafe</td>\n",
       "      <td>0      42.386781\\n1      42.368844\\n2      42....</td>\n",
       "      <td>7.0</td>\n",
       "      <td>1253.0</td>\n",
       "      <td>0.941678</td>\n",
       "    </tr>\n",
       "  </tbody>\n",
       "</table>\n",
       "</div>"
      ],
      "text/plain": [
       "     empty_slots  free_bikes                             name  \\\n",
       "431          NaN         NaN                        Starbucks   \n",
       "432          NaN         NaN    Redpath Stage at Harbourfront   \n",
       "433          NaN         NaN                          E11Even   \n",
       "434          NaN         NaN  Toronto Railway Heritage Centre   \n",
       "435          NaN         NaN                      Island Cafe   \n",
       "\n",
       "                                              lat-long  rating  distance  \\\n",
       "431  0      42.386781\\n1      42.368844\\n2      42....     6.9    1226.0   \n",
       "432  0      42.386781\\n1      42.368844\\n2      42....     6.9    1212.0   \n",
       "433  0      42.386781\\n1      42.368844\\n2      42....     7.6    1412.0   \n",
       "434  0      42.386781\\n1      42.368844\\n2      42....     8.0    1496.0   \n",
       "435  0      42.386781\\n1      42.368844\\n2      42....     7.0    1253.0   \n",
       "\n",
       "     popularity  \n",
       "431    0.976767  \n",
       "432    0.875322  \n",
       "433    0.983906  \n",
       "434    0.991425  \n",
       "435    0.941678  "
      ]
     },
     "execution_count": 55,
     "metadata": {},
     "output_type": "execute_result"
    }
   ],
   "source": [
    "fsq_ctbk_df = pd.merge(ctbk_df,fsq_df, how='outer')\n",
    "fsq_ctbk_df.tail(5)"
   ]
  },
  {
   "cell_type": "code",
   "execution_count": 54,
   "metadata": {},
   "outputs": [
    {
     "data": {
      "text/html": [
       "<div>\n",
       "<style scoped>\n",
       "    .dataframe tbody tr th:only-of-type {\n",
       "        vertical-align: middle;\n",
       "    }\n",
       "\n",
       "    .dataframe tbody tr th {\n",
       "        vertical-align: top;\n",
       "    }\n",
       "\n",
       "    .dataframe thead th {\n",
       "        text-align: right;\n",
       "    }\n",
       "</style>\n",
       "<table border=\"1\" class=\"dataframe\">\n",
       "  <thead>\n",
       "    <tr style=\"text-align: right;\">\n",
       "      <th></th>\n",
       "      <th>empty_slots</th>\n",
       "      <th>free_bikes</th>\n",
       "      <th>name</th>\n",
       "      <th>lat-long</th>\n",
       "      <th>distance</th>\n",
       "      <th>rating</th>\n",
       "    </tr>\n",
       "  </thead>\n",
       "  <tbody>\n",
       "    <tr>\n",
       "      <th>431</th>\n",
       "      <td>NaN</td>\n",
       "      <td>NaN</td>\n",
       "      <td>Franklin Cafe</td>\n",
       "      <td>0      42.386781\\n1      42.368844\\n2      42....</td>\n",
       "      <td>680.877986</td>\n",
       "      <td>4.0</td>\n",
       "    </tr>\n",
       "    <tr>\n",
       "      <th>432</th>\n",
       "      <td>NaN</td>\n",
       "      <td>NaN</td>\n",
       "      <td>The Elephant Walk</td>\n",
       "      <td>0      42.386781\\n1      42.368844\\n2      42....</td>\n",
       "      <td>515.599188</td>\n",
       "      <td>4.5</td>\n",
       "    </tr>\n",
       "    <tr>\n",
       "      <th>433</th>\n",
       "      <td>NaN</td>\n",
       "      <td>NaN</td>\n",
       "      <td>Oishii Boston</td>\n",
       "      <td>0      42.386781\\n1      42.368844\\n2      42....</td>\n",
       "      <td>885.452866</td>\n",
       "      <td>4.0</td>\n",
       "    </tr>\n",
       "    <tr>\n",
       "      <th>434</th>\n",
       "      <td>NaN</td>\n",
       "      <td>NaN</td>\n",
       "      <td>The Butcher Shop</td>\n",
       "      <td>0      42.386781\\n1      42.368844\\n2      42....</td>\n",
       "      <td>518.988566</td>\n",
       "      <td>4.0</td>\n",
       "    </tr>\n",
       "    <tr>\n",
       "      <th>435</th>\n",
       "      <td>NaN</td>\n",
       "      <td>NaN</td>\n",
       "      <td>Mana Escondido Café</td>\n",
       "      <td>0      42.386781\\n1      42.368844\\n2      42....</td>\n",
       "      <td>91.861892</td>\n",
       "      <td>4.5</td>\n",
       "    </tr>\n",
       "  </tbody>\n",
       "</table>\n",
       "</div>"
      ],
      "text/plain": [
       "     empty_slots  free_bikes                 name  \\\n",
       "431          NaN         NaN        Franklin Cafe   \n",
       "432          NaN         NaN    The Elephant Walk   \n",
       "433          NaN         NaN        Oishii Boston   \n",
       "434          NaN         NaN     The Butcher Shop   \n",
       "435          NaN         NaN  Mana Escondido Café   \n",
       "\n",
       "                                              lat-long    distance  rating  \n",
       "431  0      42.386781\\n1      42.368844\\n2      42....  680.877986     4.0  \n",
       "432  0      42.386781\\n1      42.368844\\n2      42....  515.599188     4.5  \n",
       "433  0      42.386781\\n1      42.368844\\n2      42....  885.452866     4.0  \n",
       "434  0      42.386781\\n1      42.368844\\n2      42....  518.988566     4.0  \n",
       "435  0      42.386781\\n1      42.368844\\n2      42....   91.861892     4.5  "
      ]
     },
     "execution_count": 54,
     "metadata": {},
     "output_type": "execute_result"
    }
   ],
   "source": [
    "ylp_ctbk_df = pd.merge(ctbk_df,ylp_df, how='outer')\n",
    "ylp_ctbk_df.tail(5)"
   ]
  },
  {
   "cell_type": "code",
   "execution_count": 57,
   "metadata": {},
   "outputs": [
    {
     "data": {
      "text/html": [
       "<div>\n",
       "<style scoped>\n",
       "    .dataframe tbody tr th:only-of-type {\n",
       "        vertical-align: middle;\n",
       "    }\n",
       "\n",
       "    .dataframe tbody tr th {\n",
       "        vertical-align: top;\n",
       "    }\n",
       "\n",
       "    .dataframe thead th {\n",
       "        text-align: right;\n",
       "    }\n",
       "</style>\n",
       "<table border=\"1\" class=\"dataframe\">\n",
       "  <thead>\n",
       "    <tr style=\"text-align: right;\">\n",
       "      <th></th>\n",
       "      <th>empty_slots</th>\n",
       "      <th>free_bikes</th>\n",
       "      <th>name</th>\n",
       "      <th>lat-long</th>\n",
       "      <th>distance</th>\n",
       "      <th>rating</th>\n",
       "      <th>popularity</th>\n",
       "    </tr>\n",
       "  </thead>\n",
       "  <tbody>\n",
       "    <tr>\n",
       "      <th>481</th>\n",
       "      <td>NaN</td>\n",
       "      <td>NaN</td>\n",
       "      <td>Starbucks</td>\n",
       "      <td>0      42.386781\\n1      42.368844\\n2      42....</td>\n",
       "      <td>1226.0</td>\n",
       "      <td>6.9</td>\n",
       "      <td>0.976767</td>\n",
       "    </tr>\n",
       "    <tr>\n",
       "      <th>482</th>\n",
       "      <td>NaN</td>\n",
       "      <td>NaN</td>\n",
       "      <td>Redpath Stage at Harbourfront</td>\n",
       "      <td>0      42.386781\\n1      42.368844\\n2      42....</td>\n",
       "      <td>1212.0</td>\n",
       "      <td>6.9</td>\n",
       "      <td>0.875322</td>\n",
       "    </tr>\n",
       "    <tr>\n",
       "      <th>483</th>\n",
       "      <td>NaN</td>\n",
       "      <td>NaN</td>\n",
       "      <td>E11Even</td>\n",
       "      <td>0      42.386781\\n1      42.368844\\n2      42....</td>\n",
       "      <td>1412.0</td>\n",
       "      <td>7.6</td>\n",
       "      <td>0.983906</td>\n",
       "    </tr>\n",
       "    <tr>\n",
       "      <th>484</th>\n",
       "      <td>NaN</td>\n",
       "      <td>NaN</td>\n",
       "      <td>Toronto Railway Heritage Centre</td>\n",
       "      <td>0      42.386781\\n1      42.368844\\n2      42....</td>\n",
       "      <td>1496.0</td>\n",
       "      <td>8.0</td>\n",
       "      <td>0.991425</td>\n",
       "    </tr>\n",
       "    <tr>\n",
       "      <th>485</th>\n",
       "      <td>NaN</td>\n",
       "      <td>NaN</td>\n",
       "      <td>Island Cafe</td>\n",
       "      <td>0      42.386781\\n1      42.368844\\n2      42....</td>\n",
       "      <td>1253.0</td>\n",
       "      <td>7.0</td>\n",
       "      <td>0.941678</td>\n",
       "    </tr>\n",
       "  </tbody>\n",
       "</table>\n",
       "</div>"
      ],
      "text/plain": [
       "     empty_slots  free_bikes                             name  \\\n",
       "481          NaN         NaN                        Starbucks   \n",
       "482          NaN         NaN    Redpath Stage at Harbourfront   \n",
       "483          NaN         NaN                          E11Even   \n",
       "484          NaN         NaN  Toronto Railway Heritage Centre   \n",
       "485          NaN         NaN                      Island Cafe   \n",
       "\n",
       "                                              lat-long  distance  rating  \\\n",
       "481  0      42.386781\\n1      42.368844\\n2      42....    1226.0     6.9   \n",
       "482  0      42.386781\\n1      42.368844\\n2      42....    1212.0     6.9   \n",
       "483  0      42.386781\\n1      42.368844\\n2      42....    1412.0     7.6   \n",
       "484  0      42.386781\\n1      42.368844\\n2      42....    1496.0     8.0   \n",
       "485  0      42.386781\\n1      42.368844\\n2      42....    1253.0     7.0   \n",
       "\n",
       "     popularity  \n",
       "481    0.976767  \n",
       "482    0.875322  \n",
       "483    0.983906  \n",
       "484    0.991425  \n",
       "485    0.941678  "
      ]
     },
     "execution_count": 57,
     "metadata": {},
     "output_type": "execute_result"
    }
   ],
   "source": [
    "fsq_ylp_ctbyk = pd.merge(ylp_ctbk_df,fsq_ctbk_df, how='outer')\n",
    "fsq_ylp_ctbyk.tail(5)"
   ]
  },
  {
   "cell_type": "code",
   "execution_count": 65,
   "metadata": {},
   "outputs": [],
   "source": [
    "fsq_ylp_ctbyk.to_csv(f'/Users/kamininayyar/Github_old_pc/GitHub_frm_old_pc/fsq_ylp_ctbyk.csv', index = False)"
   ]
  },
  {
   "cell_type": "markdown",
   "metadata": {},
   "source": [
    "Provide a visualization that you used as part of your EDA process. Explain the initial pattern or relationship you discoved through this visualization. "
   ]
  },
  {
   "cell_type": "code",
   "execution_count": 61,
   "metadata": {
    "collapsed": true,
    "jupyter": {
     "outputs_hidden": true
    },
    "tags": []
   },
   "outputs": [
    {
     "data": {
      "text/plain": [
       "empty_slots     26\n",
       "free_bikes      28\n",
       "name           485\n",
       "lat-long         1\n",
       "distance        99\n",
       "rating          23\n",
       "popularity      50\n",
       "dtype: int64"
      ]
     },
     "execution_count": 61,
     "metadata": {},
     "output_type": "execute_result"
    }
   ],
   "source": [
    "fsq_ylp_ctbyk.nunique()"
   ]
  },
  {
   "cell_type": "code",
   "execution_count": 62,
   "metadata": {},
   "outputs": [
    {
     "data": {
      "text/plain": [
       "empty_slots    100\n",
       "free_bikes     100\n",
       "name             0\n",
       "lat-long       386\n",
       "distance       386\n",
       "rating         386\n",
       "popularity     436\n",
       "dtype: int64"
      ]
     },
     "execution_count": 62,
     "metadata": {},
     "output_type": "execute_result"
    }
   ],
   "source": [
    "fsq_ylp_ctbyk.isnull().sum()"
   ]
  },
  {
   "cell_type": "code",
   "execution_count": 58,
   "metadata": {},
   "outputs": [
    {
     "data": {
      "text/html": [
       "<div>\n",
       "<style scoped>\n",
       "    .dataframe tbody tr th:only-of-type {\n",
       "        vertical-align: middle;\n",
       "    }\n",
       "\n",
       "    .dataframe tbody tr th {\n",
       "        vertical-align: top;\n",
       "    }\n",
       "\n",
       "    .dataframe thead th {\n",
       "        text-align: right;\n",
       "    }\n",
       "</style>\n",
       "<table border=\"1\" class=\"dataframe\">\n",
       "  <thead>\n",
       "    <tr style=\"text-align: right;\">\n",
       "      <th></th>\n",
       "      <th>empty_slots</th>\n",
       "      <th>free_bikes</th>\n",
       "      <th>distance</th>\n",
       "      <th>rating</th>\n",
       "      <th>popularity</th>\n",
       "    </tr>\n",
       "  </thead>\n",
       "  <tbody>\n",
       "    <tr>\n",
       "      <th>count</th>\n",
       "      <td>386.000000</td>\n",
       "      <td>386.000000</td>\n",
       "      <td>100.000000</td>\n",
       "      <td>100.000000</td>\n",
       "      <td>50.000000</td>\n",
       "    </tr>\n",
       "    <tr>\n",
       "      <th>mean</th>\n",
       "      <td>8.463731</td>\n",
       "      <td>8.476684</td>\n",
       "      <td>924.336594</td>\n",
       "      <td>5.950000</td>\n",
       "      <td>0.945324</td>\n",
       "    </tr>\n",
       "    <tr>\n",
       "      <th>std</th>\n",
       "      <td>5.489540</td>\n",
       "      <td>5.241267</td>\n",
       "      <td>366.165690</td>\n",
       "      <td>1.948556</td>\n",
       "      <td>0.125819</td>\n",
       "    </tr>\n",
       "    <tr>\n",
       "      <th>min</th>\n",
       "      <td>0.000000</td>\n",
       "      <td>0.000000</td>\n",
       "      <td>91.861892</td>\n",
       "      <td>3.500000</td>\n",
       "      <td>0.122031</td>\n",
       "    </tr>\n",
       "    <tr>\n",
       "      <th>25%</th>\n",
       "      <td>4.000000</td>\n",
       "      <td>4.250000</td>\n",
       "      <td>618.841296</td>\n",
       "      <td>4.000000</td>\n",
       "      <td>0.942355</td>\n",
       "    </tr>\n",
       "    <tr>\n",
       "      <th>50%</th>\n",
       "      <td>8.000000</td>\n",
       "      <td>8.000000</td>\n",
       "      <td>997.000000</td>\n",
       "      <td>5.400000</td>\n",
       "      <td>0.976820</td>\n",
       "    </tr>\n",
       "    <tr>\n",
       "      <th>75%</th>\n",
       "      <td>12.000000</td>\n",
       "      <td>12.000000</td>\n",
       "      <td>1209.750000</td>\n",
       "      <td>7.825000</td>\n",
       "      <td>0.991058</td>\n",
       "    </tr>\n",
       "    <tr>\n",
       "      <th>max</th>\n",
       "      <td>39.000000</td>\n",
       "      <td>34.000000</td>\n",
       "      <td>1496.000000</td>\n",
       "      <td>9.300000</td>\n",
       "      <td>0.999851</td>\n",
       "    </tr>\n",
       "  </tbody>\n",
       "</table>\n",
       "</div>"
      ],
      "text/plain": [
       "       empty_slots  free_bikes     distance      rating  popularity\n",
       "count   386.000000  386.000000   100.000000  100.000000   50.000000\n",
       "mean      8.463731    8.476684   924.336594    5.950000    0.945324\n",
       "std       5.489540    5.241267   366.165690    1.948556    0.125819\n",
       "min       0.000000    0.000000    91.861892    3.500000    0.122031\n",
       "25%       4.000000    4.250000   618.841296    4.000000    0.942355\n",
       "50%       8.000000    8.000000   997.000000    5.400000    0.976820\n",
       "75%      12.000000   12.000000  1209.750000    7.825000    0.991058\n",
       "max      39.000000   34.000000  1496.000000    9.300000    0.999851"
      ]
     },
     "execution_count": 58,
     "metadata": {},
     "output_type": "execute_result"
    }
   ],
   "source": [
    "fsq_ylp_ctbyk.describe()"
   ]
  },
  {
   "cell_type": "code",
   "execution_count": 59,
   "metadata": {
    "collapsed": true,
    "jupyter": {
     "outputs_hidden": true
    },
    "tags": []
   },
   "outputs": [
    {
     "data": {
      "text/plain": [
       "<AxesSubplot:xlabel='rating', ylabel='Count'>"
      ]
     },
     "execution_count": 59,
     "metadata": {},
     "output_type": "execute_result"
    },
    {
     "data": {
      "image/png": "[encoded data removed]",
      "text/plain": [
       "<Figure size 640x480 with 1 Axes>"
      ]
     },
     "metadata": {},
     "output_type": "display_data"
    }
   ],
   "source": [
    "sns.histplot(fsq_ylp_ctbyk['rating'])"
   ]
  },
  {
   "cell_type": "code",
   "execution_count": 63,
   "metadata": {
    "collapsed": true,
    "jupyter": {
     "outputs_hidden": true
    },
    "tags": []
   },
   "outputs": [
    {
     "data": {
      "image/png": "[encoded data removed]",
      "text/plain": [
       "<Figure size 1000x1000 with 2 Axes>"
      ]
     },
     "metadata": {},
     "output_type": "display_data"
    }
   ],
   "source": [
    "cormat = fsq_ylp_ctbyk.corr()\n",
    "top_corr_features = cormat.index[abs(cormat[\"rating\"])>0.5]\n",
    "plt.figure(figsize=(10,10))\n",
    "g = sns.heatmap(fsq_ylp_ctbyk[top_corr_features].corr(),annot=True,cmap=\"RdYlGn_r\")"
   ]
  },
  {
   "cell_type": "code",
   "execution_count": 64,
   "metadata": {
    "collapsed": true,
    "jupyter": {
     "outputs_hidden": true
    },
    "tags": []
   },
   "outputs": [
    {
     "data": {
      "text/plain": [
       "<AxesSubplot:xlabel='rating', ylabel='rating'>"
      ]
     },
     "execution_count": 64,
     "metadata": {},
     "output_type": "execute_result"
    },
    {
     "data": {
      "image/png": "[encoded data removed]",
      "text/plain": [
       "<Figure size 640x480 with 1 Axes>"
      ]
     },
     "metadata": {},
     "output_type": "display_data"
    }
   ],
   "source": [
    "var=\"rating\"\n",
    "data=fsq_ylp_ctbyk[['rating',var]]\n",
    "data.plot.scatter(x=var, y='rating', ylim=(0,800000))"
   ]
  },
  {
   "cell_type": "markdown",
   "metadata": {},
   "source": [
    "# Database"
   ]
  },
  {
   "cell_type": "markdown",
   "metadata": {},
   "source": [
    "Put all your results in an SQLite3 database (remember, SQLite stores its databases as files in your local machine - make sure to create your database in your project's data/ directory!)"
   ]
  },
  {
   "cell_type": "code",
   "execution_count": null,
   "metadata": {},
   "outputs": [],
   "source": [
    "connection = create_connection(\"fsq_ylp.sqlite\")"
   ]
  },
  {
   "cell_type": "code",
   "execution_count": null,
   "metadata": {},
   "outputs": [],
   "source": [
    "# to define the function\n",
    "def execute_query(connection, query):\n",
    "    cursor = connection.cursor()\n",
    "    try:\n",
    "        cursor.execute(query)\n",
    "        connection.commit()\n",
    "        print(\"Query executed successfully\")\n",
    "    except Error as e:\n",
    "        print(f\"the error '{e}' occured\")\n",
    "        "
   ]
  },
  {
   "cell_type": "code",
   "execution_count": null,
   "metadata": {},
   "outputs": [],
   "source": [
    "# query for the table\n",
    "create_rating_table = \"\"\"\n",
    "CREATE TABLE IF NOT EXISTS rating(\n",
    "        id VARCHAR(100) PRIMARY KEY AUTOINCREMENT,\n",
    "        name VARCHAR(25) NOT NULL,\n",
    "        distance DECIMAL,\n",
    "        rating DECIMAL);\"\"\""
   ]
  },
  {
   "cell_type": "code",
   "execution_count": null,
   "metadata": {},
   "outputs": [],
   "source": [
    "execute_query(connection, create_rating_table)"
   ]
  },
  {
   "cell_type": "code",
   "execution_count": null,
   "metadata": {},
   "outputs": [],
   "source": [
    "create_popularity_table = \"\"\"\n",
    "CREATE TABLE IF NOT EXISTs popularity(\n",
    "        id INTEGER PRIMARY KEY AUTOINCREMENT,\n",
    "        name TEXT NOT NULL,\n",
    "        distance DECIMAL,\n",
    "        popularity float,\n",
    "        FOREIGN KEY (distance) REFERENCES rating(distance));\"\"\""
   ]
  },
  {
   "cell_type": "code",
   "execution_count": null,
   "metadata": {},
   "outputs": [],
   "source": [
    "execute_query(connection, create_popularity_table)"
   ]
  },
  {
   "cell_type": "code",
   "execution_count": null,
   "metadata": {},
   "outputs": [],
   "source": []
  }
 ],
 "metadata": {
  "kernelspec": {
   "display_name": "Python 3 (ipykernel)",
   "language": "python",
   "name": "python3"
  },
  "language_info": {
   "codemirror_mode": {
    "name": "ipython",
    "version": 3
   },
   "file_extension": ".py",
   "mimetype": "text/x-python",
   "name": "python",
   "nbconvert_exporter": "python",
   "pygments_lexer": "ipython3",
   "version": "3.9.13"
  },
  "vscode": {
   "interpreter": {
    "hash": "44bac8ab58d6375e48af8fed110d39df3ec8ddf6fb4dd8da03249658af297214"
   }
  }
 },
 "nbformat": 4,
 "nbformat_minor": 4
}
