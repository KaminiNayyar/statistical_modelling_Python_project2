{
 "cells": [
  {
   "cell_type": "markdown",
   "metadata": {},
   "source": [
    "# CityBikes"
   ]
  },
  {
   "cell_type": "markdown",
   "metadata": {},
   "source": [
    "Send a request to CityBikes for the city of your choice. "
   ]
  },
  {
   "cell_type": "code",
   "execution_count": null,
   "metadata": {},
   "outputs": [],
   "source": [
    "import requests\n",
    "import pandas as pd\n",
    "import json\n",
    "\n",
    "\n",
    "\n",
    "\n",
    "ctyBks_services = []\n",
    "for i in range(num_of_networks): \n",
    "    city = ctyBks['networks'][i]['location']['city']\n",
    "    country = ctyBks['networks'][i]['location']['country']\n",
    "    id = ctyBks['networks'][i]['id']\n",
    "    \n",
    "    ctyBks_services.extend([{'city': city, 'country': country, 'id': id}])\n",
    "\n",
    "ctyBksServiceSites = pd.DataFrame(ctyBks_services)\n",
    "ctyBksServiceSites.head(10)\n",
    "\n",
    "\n",
    "\n",
    "ctyBks_CA = []\n",
    "for i in range(num_of_networks):\n",
    "  if ctyBks['networks'][i]['location']['country'] == 'CA':\n",
    "    \n",
    "    ctyBks_CA.append(ctyBks['networks'][i])\n",
    "\n",
    "\n",
    "print(len(ctyBks_CA))\n",
    "ctyBks_CA[1]"
   ]
  },
  {
   "cell_type": "markdown",
   "metadata": {},
   "source": [
    "Parse through the response to get the details you want for the bike stations in that city (latitude, longitude, number of bikes). "
   ]
  },
  {
   "cell_type": "code",
   "execution_count": null,
   "metadata": {},
   "outputs": [],
   "source": [
    "ctyBks_CA = []\n",
    "for i in range(num_of_networks):\n",
    "  if ctyBks['networks'][i]['location']['country'] == 'CA':\n",
    "    \n",
    "    ctyBks_CA.append(ctyBks['networks'][i])\n",
    "\n",
    "\n",
    "print(len(ctyBks_CA))\n",
    "ctyBks_CA[1]"
   ]
  },
  {
   "cell_type": "code",
   "execution_count": null,
   "metadata": {},
   "outputs": [],
   "source": [
    "def stationDataFrame(cityName):\n",
    "  data = ctyBks_cityStations(cityName)\n",
    "  df_list = []\n",
    "  for i in data:\n",
    "    stationData = {\n",
    "      'name': i['name']\n",
    "      , 'free_bikes': i['free_bikes']\n",
    "      , 'empty_slots': i['empty_slots']\n",
    "      , 'slots': i['extra']['slots']\n",
    "      , 'altitude': i['extra']['altitude']\n",
    "      , 'ebikes': i['extra']['ebikes']\n",
    "      , 'has_ebikes': i['extra']['has_ebikes']\n",
    "      , 'normal_bikes': i['extra']['normal_bikes']\n",
    "      , 'payment': i['extra']['payment']\n",
    "      , 'payment-terminal': i['extra']['payment-terminal']\n",
    "      , 'renting': i['extra']['renting']\n",
    "      , 'returning': i['extra']['returning']\n",
    "      , 'uid': i['extra']['uid']\n",
    "      , 'last_updated': i['extra']['last_updated']\n",
    "      , 'address': i['extra']['address']\n",
    "      , 'timestamp': i['timestamp']\n",
    "      , 'latitude': i['latitude']\n",
    "      , 'longitude': i['longitude']\n",
    "      , 'id': i['id']\n",
    "    }\n",
    "    df_list.append(stationData)\n",
    "  df = pd.DataFrame(df_list)\n",
    "\n",
    "  "
   ]
  },
  {
   "cell_type": "markdown",
   "metadata": {},
   "source": []
  },
  {
   "cell_type": "code",
   "execution_count": null,
   "metadata": {},
   "outputs": [],
   "source": [
    "\n",
    "df.to_csv(f'../data/ctyBks_csv/df_ctybks_{cityName}(mon1130).csv', index = False)\n",
    "return df"
   ]
  },
  {
   "cell_type": "markdown",
   "metadata": {},
   "source": [
    "Put your parsed results into a DataFrame."
   ]
  },
  {
   "cell_type": "code",
   "execution_count": null,
   "metadata": {},
   "outputs": [],
   "source": [
    "df = stationDataFrame('toronto')\n",
    "df.head()"
   ]
  }
 ],
 "metadata": {
  "kernelspec": {
   "display_name": "Python 3.10.5 64-bit",
   "language": "python",
   "name": "python3"
  },
  "language_info": {
   "codemirror_mode": {
    "name": "ipython",
    "version": 3
   },
   "file_extension": ".py",
   "mimetype": "text/x-python",
   "name": "python",
   "nbconvert_exporter": "python",
   "pygments_lexer": "ipython3",
   "version": "3.10.5"
  },
  "vscode": {
   "interpreter": {
    "hash": "44bac8ab58d6375e48af8fed110d39df3ec8ddf6fb4dd8da03249658af297214"
   }
  }
 },
 "nbformat": 4,
 "nbformat_minor": 4
}
