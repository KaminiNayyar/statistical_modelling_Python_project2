{
 "cells": [
  {
   "cell_type": "code",
   "execution_count": 1,
   "id": "73b813d5-8d5f-4aab-88d0-0cec86a00558",
   "metadata": {},
   "outputs": [],
   "source": [
    "import requests\n",
    "import json\n",
    "import pandas as pd\n",
    "import json\n",
    "import requests\n",
    "import scipy as sp\n",
    "from datetime import datetime\n",
    "from IPython.display import JSON\n",
    "\n",
    "import seaborn as sns\n",
    "import matplotlib.pyplot as plt\n",
    "import numpy as np"
   ]
  },
  {
   "cell_type": "markdown",
   "id": "e520b6fc-d495-4e94-8865-b00baaf708cf",
   "metadata": {},
   "source": [
    "# extracting the ct byks boston data frame"
   ]
  },
  {
   "cell_type": "code",
   "execution_count": 2,
   "id": "022c8c6f-6ac1-4887-b440-478feb4ef8f0",
   "metadata": {},
   "outputs": [],
   "source": [
    "ct_bks_df = pd.read_csv(f'/Users/kamininayyar/Github_old_pc/GitHub_frm_old_pc/BostonDF.csv')"
   ]
  },
  {
   "cell_type": "code",
   "execution_count": 3,
   "id": "695c5dbd-e4b0-4c9b-b3fa-c35e9e1c16f7",
   "metadata": {},
   "outputs": [
    {
     "name": "stdout",
     "output_type": "stream",
     "text": [
      "42.341332,-71.076847\n"
     ]
    }
   ],
   "source": [
    "# checking the lat and long\n",
    "\n",
    "lati = ct_bks_df['latitude']\n",
    "longi = ct_bks_df['longitude']\n",
    "print(f'{lati[10]},{longi[10]}')"
   ]
  },
  {
   "cell_type": "code",
   "execution_count": 4,
   "id": "e1d84e29-9cc4-478a-b200-2db2e43abc0d",
   "metadata": {},
   "outputs": [],
   "source": [
    "## in the below out put we see that foursquare generated entertainment locations for the above mentioned lati and longi"
   ]
  },
  {
   "cell_type": "code",
   "execution_count": 5,
   "id": "639d72f2-ace3-43ee-a8d1-0b7174aa97cc",
   "metadata": {},
   "outputs": [
    {
     "data": {
      "application/json": {
       "context": {
        "geo_bounds": {
         "circle": {
          "center": {
           "latitude": 43.63189697265625,
           "longitude": -79.37159729003906
          },
          "radius": 1500
         }
        }
       },
       "results": [
        {
         "categories": [
          {
           "icon": {
            "prefix": "https://ss3.4sqi.net/img/categories_v2/parks_outdoors/park_",
            "suffix": ".png"
           },
           "id": 16032,
           "name": "Park"
          }
         ],
         "distance": 983,
         "features": {},
         "fsq_id": "4e49413e81dc766f3e3d6312",
         "geocodes": {
          "main": {
           "latitude": 43.639288,
           "longitude": -79.378261
          },
          "roof": {
           "latitude": 43.639288,
           "longitude": -79.378261
          }
         },
         "hours": {
          "is_local_holiday": false,
          "open_now": false,
          "seasonal": []
         },
         "name": "Harbour Square Park",
         "popularity": 0.9954204829308909,
         "rating": 9.3
        },
        {
         "categories": [
          {
           "icon": {
            "prefix": "https://ss3.4sqi.net/img/categories_v2/arts_entertainment/performingarts_dancestudio_",
            "suffix": ".png"
           },
           "id": 18025,
           "name": "Dance Studio"
          }
         ],
         "distance": 1007,
         "features": {},
         "fsq_id": "4ad4c062f964a520bff720e3",
         "geocodes": {
          "main": {
           "latitude": 43.638298,
           "longitude": -79.3803
          },
          "roof": {
           "latitude": 43.638298,
           "longitude": -79.3803
          }
         },
         "hours": {
          "is_local_holiday": false,
          "open_now": false,
          "seasonal": []
         },
         "name": "Fleck Dance Theater",
         "popularity": 0.9346378018318068,
         "rating": 8.3
        },
        {
         "categories": [
          {
           "icon": {
            "prefix": "https://ss3.4sqi.net/img/categories_v2/food/diner_",
            "suffix": ".png"
           },
           "id": 13049,
           "name": "Diner"
          },
          {
           "icon": {
            "prefix": "https://ss3.4sqi.net/img/categories_v2/food/dimsum_",
            "suffix": ".png"
           },
           "id": 13106,
           "name": "Dim Sum Restaurant"
          }
         ],
         "distance": 1009,
         "features": {
          "amenities": {
           "live_music": false,
           "outdoor_seating": false
          },
          "food_and_drink": {
           "alcohol": {
            "cocktails": true,
            "full_bar": true
           },
           "meals": {
            "brunch": true,
            "dinner": true,
            "lunch": true
           }
          },
          "payment": {
           "credit_cards": {
            "accepts_credit_cards": true
           }
          },
          "services": {
           "delivery": true,
           "dine_in": {
            "reservations": true
           }
          }
         },
         "fsq_id": "4ae33054f964a520759121e3",
         "geocodes": {
          "main": {
           "latitude": 43.639446,
           "longitude": -79.380716
          },
          "roof": {
           "latitude": 43.639446,
           "longitude": -79.380716
          }
         },
         "hours": {
          "display": "Mon-Fri 11:00-15:30, 17:00-22:00; Sat-Sun 10:30-15:30, 17:00-22:00",
          "is_local_holiday": false,
          "open_now": true,
          "regular": [
           {
            "close": "1530",
            "day": 1,
            "open": "1100"
           },
           {
            "close": "2200",
            "day": 1,
            "open": "1700"
           },
           {
            "close": "1530",
            "day": 2,
            "open": "1100"
           },
           {
            "close": "2200",
            "day": 2,
            "open": "1700"
           },
           {
            "close": "1530",
            "day": 3,
            "open": "1100"
           },
           {
            "close": "2200",
            "day": 3,
            "open": "1700"
           },
           {
            "close": "1530",
            "day": 4,
            "open": "1100"
           },
           {
            "close": "2200",
            "day": 4,
            "open": "1700"
           },
           {
            "close": "1530",
            "day": 5,
            "open": "1100"
           },
           {
            "close": "2200",
            "day": 5,
            "open": "1700"
           },
           {
            "close": "1530",
            "day": 6,
            "open": "1030"
           },
           {
            "close": "2200",
            "day": 6,
            "open": "1700"
           },
           {
            "close": "1530",
            "day": 7,
            "open": "1030"
           },
           {
            "close": "2200",
            "day": 7,
            "open": "1700"
           }
          ],
          "seasonal": []
         },
         "name": "Pearl Harbourfront Restaurant",
         "popularity": 0.974126039245902,
         "rating": 8.2
        },
        {
         "categories": [
          {
           "icon": {
            "prefix": "https://ss3.4sqi.net/img/categories_v2/food/dessert_",
            "suffix": ".png"
           },
           "id": 13040,
           "name": "Dessert Shop"
          },
          {
           "icon": {
            "prefix": "https://ss3.4sqi.net/img/categories_v2/food/default_",
            "suffix": ".png"
           },
           "id": 13065,
           "name": "Restaurant"
          }
         ],
         "distance": 1105,
         "features": {
          "food_and_drink": {
           "meals": {
            "brunch": true,
            "dessert": true
           }
          }
         },
         "fsq_id": "55a19437498eeea53fa58b54",
         "geocodes": {
          "main": {
           "latitude": 43.639722,
           "longitude": -79.380012
          },
          "roof": {
           "latitude": 43.639722,
           "longitude": -79.380012
          }
         },
         "hours": {
          "display": "Fri-Sun 12:00-20:00",
          "is_local_holiday": false,
          "open_now": false,
          "regular": [
           {
            "close": "2000",
            "day": 5,
            "open": "1200"
           },
           {
            "close": "2000",
            "day": 6,
            "open": "1200"
           },
           {
            "close": "2000",
            "day": 7,
            "open": "1200"
           }
          ],
          "seasonal": [
           {
            "closed": true,
            "hours": [
             {
              "close": "+0000",
              "day": 1,
              "open": "0000"
             }
            ]
           },
           {
            "closed": true,
            "hours": [
             {
              "close": "+0000",
              "day": 2,
              "open": "0000"
             }
            ]
           },
           {
            "closed": true,
            "hours": [
             {
              "close": "+0000",
              "day": 3,
              "open": "0000"
             }
            ]
           },
           {
            "closed": true,
            "hours": [
             {
              "close": "+0000",
              "day": 4,
              "open": "0000"
             }
            ]
           },
           {
            "closed": true,
            "hours": [
             {
              "close": "+0000",
              "day": 5,
              "open": "0000"
             }
            ]
           },
           {
            "closed": true,
            "hours": [
             {
              "close": "+0000",
              "day": 6,
              "open": "0000"
             }
            ]
           },
           {
            "closed": true,
            "hours": [
             {
              "close": "+0000",
              "day": 7,
              "open": "0000"
             }
            ]
           },
           {
            "closed": true,
            "hours": [
             {
              "close": "+0000",
              "day": 1,
              "open": "0000"
             }
            ]
           },
           {
            "closed": true,
            "hours": [
             {
              "close": "+0000",
              "day": 2,
              "open": "0000"
             }
            ]
           },
           {
            "closed": true,
            "hours": [
             {
              "close": "+0000",
              "day": 3,
              "open": "0000"
             }
            ]
           },
           {
            "closed": true,
            "hours": [
             {
              "close": "+0000",
              "day": 4,
              "open": "0000"
             }
            ]
           },
           {
            "closed": true,
            "hours": [
             {
              "close": "+0000",
              "day": 5,
              "open": "0000"
             }
            ]
           },
           {
            "closed": true,
            "hours": [
             {
              "close": "+0000",
              "day": 6,
              "open": "0000"
             }
            ]
           },
           {
            "closed": true,
            "hours": [
             {
              "close": "+0000",
              "day": 7,
              "open": "0000"
             }
            ]
           },
           {
            "closed": true,
            "hours": [
             {
              "close": "+0000",
              "day": 1,
              "open": "0000"
             }
            ]
           },
           {
            "closed": true,
            "hours": [
             {
              "close": "+0000",
              "day": 2,
              "open": "0000"
             }
            ]
           },
           {
            "closed": true,
            "hours": [
             {
              "close": "+0000",
              "day": 3,
              "open": "0000"
             }
            ]
           },
           {
            "closed": true,
            "hours": [
             {
              "close": "+0000",
              "day": 4,
              "open": "0000"
             }
            ]
           },
           {
            "closed": true,
            "hours": [
             {
              "close": "+0000",
              "day": 5,
              "open": "0000"
             }
            ]
           },
           {
            "closed": true,
            "hours": [
             {
              "close": "+0000",
              "day": 6,
              "open": "0000"
             }
            ]
           },
           {
            "closed": true,
            "hours": [
             {
              "close": "+0000",
              "day": 7,
              "open": "0000"
             }
            ]
           },
           {
            "closed": true,
            "hours": [
             {
              "close": "+0000",
              "day": 1,
              "open": "0000"
             }
            ]
           }
          ]
         },
         "name": "BeaverTails",
         "popularity": 0.9900766773957026,
         "rating": 8.5
        },
        {
         "categories": [
          {
           "icon": {
            "prefix": "https://ss3.4sqi.net/img/categories_v2/food/icecream_",
            "suffix": ".png"
           },
           "id": 13046,
           "name": "Ice Cream Parlor"
          },
          {
           "icon": {
            "prefix": "https://ss3.4sqi.net/img/categories_v2/food/friedchicken_",
            "suffix": ".png"
           },
           "id": 13055,
           "name": "Fried Chicken Joint"
          }
         ],
         "distance": 993,
         "features": {
          "food_and_drink": {
           "meals": {
            "brunch": true,
            "dinner": true
           }
          }
         },
         "fsq_id": "597b72811b0ea5223f9f77f7",
         "geocodes": {
          "main": {
           "latitude": 43.638513,
           "longitude": -79.380428
          },
          "roof": {
           "latitude": 43.638513,
           "longitude": -79.380428
          }
         },
         "hours": {
          "display": "Mon-Wed 11:30-23:00; Thu-Fri 11:30-23:59; Sat 11:00-23:59; Sun 11:00-23:00",
          "is_local_holiday": false,
          "open_now": true,
          "regular": [
           {
            "close": "2300",
            "day": 1,
            "open": "1130"
           },
           {
            "close": "2300",
            "day": 2,
            "open": "1130"
           },
           {
            "close": "2300",
            "day": 3,
            "open": "1130"
           },
           {
            "close": "2359",
            "day": 4,
            "open": "1130"
           },
           {
            "close": "2359",
            "day": 5,
            "open": "1130"
           },
           {
            "close": "2359",
            "day": 6,
            "open": "1100"
           },
           {
            "close": "2300",
            "day": 7,
            "open": "1100"
           }
          ],
          "seasonal": []
         },
         "name": "Joe Bird",
         "popularity": 0.963084245715635,
         "rating": 7.6
        },
        {
         "categories": [
          {
           "icon": {
            "prefix": "https://ss3.4sqi.net/img/categories_v2/food/sushi_",
            "suffix": ".png"
           },
           "id": 13276,
           "name": "Sushi Restaurant"
          }
         ],
         "distance": 1156,
         "features": {
          "amenities": {
           "live_music": false,
           "outdoor_seating": false
          },
          "food_and_drink": {
           "alcohol": {
            "cocktails": true,
            "full_bar": true
           },
           "meals": {
            "brunch": true,
            "dinner": true,
            "happy_hour": false,
            "lunch": true
           }
          },
          "payment": {
           "credit_cards": {
            "accepts_credit_cards": true
           }
          },
          "services": {
           "delivery": false,
           "dine_in": {
            "online_reservations": true,
            "reservations": true
           }
          }
         },
         "fsq_id": "56201ed4498e7f700c462170",
         "geocodes": {
          "main": {
           "latitude": 43.641379,
           "longitude": -79.377285
          },
          "roof": {
           "latitude": 43.641379,
           "longitude": -79.377285
          }
         },
         "hours": {
          "display": "Mon-Thu 11:30-22:00; Fri 11:30-22:30; Sat 12:00-22:30; Sun 12:00-22:00",
          "is_local_holiday": false,
          "open_now": true,
          "regular": [
           {
            "close": "2200",
            "day": 1,
            "open": "1130"
           },
           {
            "close": "2200",
            "day": 2,
            "open": "1130"
           },
           {
            "close": "2200",
            "day": 3,
            "open": "1130"
           },
           {
            "close": "2200",
            "day": 4,
            "open": "1130"
           },
           {
            "close": "2230",
            "day": 5,
            "open": "1130"
           },
           {
            "close": "2230",
            "day": 6,
            "open": "1200"
           },
           {
            "close": "2200",
            "day": 7,
            "open": "1200"
           }
          ],
          "seasonal": []
         },
         "name": "Miku",
         "popularity": 0.9835833322977121,
         "rating": 9
        },
        {
         "categories": [
          {
           "icon": {
            "prefix": "https://ss3.4sqi.net/img/categories_v2/arts_entertainment/musicvenue_",
            "suffix": ".png"
           },
           "id": 10039,
           "name": "Music Venue"
          }
         ],
         "distance": 1190,
         "features": {
          "amenities": {
           "outdoor_seating": true
          },
          "payment": {
           "credit_cards": {
            "accepts_credit_cards": false
           },
           "digital_wallet": {
            "accepts_nfc": false
           }
          },
          "services": {
           "delivery": false
          }
         },
         "fsq_id": "4ad4c05ef964a52094f620e3",
         "geocodes": {
          "main": {
           "latitude": 43.638953,
           "longitude": -79.382881
          },
          "roof": {
           "latitude": 43.638953,
           "longitude": -79.382881
          }
         },
         "hours": {
          "display": "Open Daily 10:00-21:00",
          "is_local_holiday": false,
          "open_now": true,
          "regular": [
           {
            "close": "2100",
            "day": 1,
            "open": "1000"
           },
           {
            "close": "2100",
            "day": 2,
            "open": "1000"
           },
           {
            "close": "2100",
            "day": 3,
            "open": "1000"
           },
           {
            "close": "2100",
            "day": 4,
            "open": "1000"
           },
           {
            "close": "2100",
            "day": 5,
            "open": "1000"
           },
           {
            "close": "2100",
            "day": 6,
            "open": "1000"
           },
           {
            "close": "2100",
            "day": 7,
            "open": "1000"
           }
          ],
          "seasonal": []
         },
         "name": "Harbourfront Centre",
         "popularity": 0.9914499111436986,
         "rating": 9.1
        },
        {
         "categories": [
          {
           "icon": {
            "prefix": "https://ss3.4sqi.net/img/categories_v2/arts_entertainment/artgallery_",
            "suffix": ".png"
           },
           "id": 10004,
           "name": "Art Gallery"
          }
         ],
         "distance": 1095,
         "features": {
          "payment": {
           "credit_cards": {
            "accepts_credit_cards": true
           }
          }
         },
         "fsq_id": "4ad4c05ff964a520edf620e3",
         "geocodes": {
          "main": {
           "latitude": 43.638252,
           "longitude": -79.381993
          }
         },
         "hours": {
          "is_local_holiday": false,
          "open_now": false,
          "seasonal": []
         },
         "name": "The Power Plant",
         "popularity": 0.9558203984241987,
         "rating": 7.9
        },
        {
         "categories": [
          {
           "icon": {
            "prefix": "https://ss3.4sqi.net/img/categories_v2/nightlife/pub_",
            "suffix": ".png"
           },
           "id": 13003,
           "name": "Bar"
          },
          {
           "icon": {
            "prefix": "https://ss3.4sqi.net/img/categories_v2/food/cafe_",
            "suffix": ".png"
           },
           "id": 13034,
           "name": "Café"
          },
          {
           "icon": {
            "prefix": "https://ss3.4sqi.net/img/categories_v2/food/default_",
            "suffix": ".png"
           },
           "id": 13065,
           "name": "Restaurant"
          }
         ],
         "distance": 1128,
         "features": {
          "amenities": {
           "live_music": true,
           "music": true,
           "outdoor_seating": true,
           "restroom": true
          },
          "food_and_drink": {
           "alcohol": {
            "beer": true,
            "cocktails": true,
            "full_bar": true
           },
           "meals": {
            "dinner": true,
            "happy_hour": true
           }
          },
          "payment": {
           "credit_cards": {
            "accepts_credit_cards": true
           }
          },
          "services": {
           "delivery": false,
           "dine_in": {
            "groups_only_reservations": false,
            "reservations": false
           }
          }
         },
         "fsq_id": "57768fb1498ec8fca5cc0594",
         "geocodes": {
          "main": {
           "latitude": 43.639175,
           "longitude": -79.382916
          },
          "roof": {
           "latitude": 43.639175,
           "longitude": -79.382916
          }
         },
         "hours": {
          "display": "Mon 9:00-17:00; Tue-Fri 9:00-23:59; Sat 00:00-2:00, 9:00-23:59; Sun 00:00-2:00, 9:00-20:00",
          "is_local_holiday": false,
          "open_now": true,
          "regular": [
           {
            "close": "1700",
            "day": 1,
            "open": "0900"
           },
           {
            "close": "2359",
            "day": 2,
            "open": "0900"
           },
           {
            "close": "2359",
            "day": 3,
            "open": "0900"
           },
           {
            "close": "2359",
            "day": 4,
            "open": "0900"
           },
           {
            "close": "2359",
            "day": 5,
            "open": "0900"
           },
           {
            "close": "0200",
            "day": 6,
            "open": "0000"
           },
           {
            "close": "2359",
            "day": 6,
            "open": "0900"
           },
           {
            "close": "0200",
            "day": 7,
            "open": "0000"
           },
           {
            "close": "2000",
            "day": 7,
            "open": "0900"
           }
          ],
          "seasonal": []
         },
         "name": "Boxcar Social",
         "popularity": 0.9433618750543701,
         "rating": 8.1
        },
        {
         "categories": [
          {
           "icon": {
            "prefix": "https://ss3.4sqi.net/img/categories_v2/parks_outdoors/park_",
            "suffix": ".png"
           },
           "id": 16032,
           "name": "Park"
          }
         ],
         "distance": 1220,
         "features": {},
         "fsq_id": "4ad4c05ef964a5209af620e3",
         "geocodes": {
          "main": {
           "latitude": 43.621986,
           "longitude": -79.3785
          },
          "roof": {
           "latitude": 43.621986,
           "longitude": -79.3785
          }
         },
         "hours": {
          "is_local_holiday": false,
          "open_now": false,
          "seasonal": []
         },
         "name": "Toronto Islands",
         "popularity": 0.9990368722581928,
         "rating": 9.3
        },
        {
         "categories": [
          {
           "icon": {
            "prefix": "https://ss3.4sqi.net/img/categories_v2/food/coffeeshop_",
            "suffix": ".png"
           },
           "id": 13035,
           "name": "Coffee Shop"
          }
         ],
         "distance": 1183,
         "features": {
          "amenities": {
           "restroom": true,
           "wheelchair_accessible": true
          },
          "payment": {
           "credit_cards": {
            "accepts_credit_cards": true
           },
           "digital_wallet": {
            "accepts_nfc": true
           }
          }
         },
         "fsq_id": "5a53c6b0b0405614996330c6",
         "geocodes": {
          "main": {
           "latitude": 43.64164,
           "longitude": -79.377552
          }
         },
         "hours": {
          "display": "Mon-Fri 7:00-17:00; Sat-Sun 9:00-16:00",
          "is_local_holiday": false,
          "open_now": false,
          "regular": [
           {
            "close": "1700",
            "day": 1,
            "open": "0700"
           },
           {
            "close": "1700",
            "day": 2,
            "open": "0700"
           },
           {
            "close": "1700",
            "day": 3,
            "open": "0700"
           },
           {
            "close": "1700",
            "day": 4,
            "open": "0700"
           },
           {
            "close": "1700",
            "day": 5,
            "open": "0700"
           },
           {
            "close": "1600",
            "day": 6,
            "open": "0900"
           },
           {
            "close": "1600",
            "day": 7,
            "open": "0900"
           }
          ],
          "seasonal": []
         },
         "name": "Mos Mos",
         "popularity": 0.9871686529881815,
         "rating": 8.5
        },
        {
         "categories": [
          {
           "icon": {
            "prefix": "https://ss3.4sqi.net/img/categories_v2/food/brewery_",
            "suffix": ".png"
           },
           "id": 13029,
           "name": "Brewery"
          }
         ],
         "distance": 1001,
         "features": {
          "amenities": {
           "outdoor_seating": false
          },
          "food_and_drink": {
           "meals": {
            "brunch": false,
            "dessert": false,
            "happy_hour": false,
            "lunch": false
           }
          },
          "payment": {
           "credit_cards": {
            "accepts_credit_cards": false
           },
           "digital_wallet": {
            "accepts_nfc": false
           }
          }
         },
         "fsq_id": "4b8fd614f964a520b56433e3",
         "geocodes": {
          "main": {
           "latitude": 43.639446,
           "longitude": -79.380716
          },
          "roof": {
           "latitude": 43.639446,
           "longitude": -79.380716
          }
         },
         "hours": {
          "is_local_holiday": false,
          "open_now": false,
          "seasonal": []
         },
         "name": "Labatt Breweries of Canada",
         "popularity": 0.8387289199299092,
         "rating": 7.3
        },
        {
         "categories": [
          {
           "icon": {
            "prefix": "https://ss3.4sqi.net/img/categories_v2/food/pizza_",
            "suffix": ".png"
           },
           "id": 13064,
           "name": "Pizzeria"
          },
          {
           "icon": {
            "prefix": "https://ss3.4sqi.net/img/categories_v2/food/italian_",
            "suffix": ".png"
           },
           "id": 13236,
           "name": "Italian Restaurant"
          }
         ],
         "distance": 1002,
         "features": {},
         "fsq_id": "597d07dd3149b97652231223",
         "geocodes": {
          "main": {
           "latitude": 43.638552,
           "longitude": -79.380667
          },
          "roof": {
           "latitude": 43.638552,
           "longitude": -79.380667
          }
         },
         "hours": {
          "display": "Open Daily 11:00-23:00",
          "is_local_holiday": false,
          "open_now": true,
          "regular": [
           {
            "close": "2300",
            "day": 1,
            "open": "1100"
           },
           {
            "close": "2300",
            "day": 2,
            "open": "1100"
           },
           {
            "close": "2300",
            "day": 3,
            "open": "1100"
           },
           {
            "close": "2300",
            "day": 4,
            "open": "1100"
           },
           {
            "close": "2300",
            "day": 5,
            "open": "1100"
           },
           {
            "close": "2300",
            "day": 6,
            "open": "1100"
           },
           {
            "close": "2300",
            "day": 7,
            "open": "1100"
           }
          ],
          "seasonal": []
         },
         "name": "Pie Bar",
         "popularity": 0.9077696446990692,
         "rating": 7.3
        },
        {
         "categories": [
          {
           "icon": {
            "prefix": "https://ss3.4sqi.net/img/categories_v2/food/bubble_",
            "suffix": ".png"
           },
           "id": 13033,
           "name": "Bubble Tea Shop"
          },
          {
           "icon": {
            "prefix": "https://ss3.4sqi.net/img/categories_v2/food/tearoom_",
            "suffix": ".png"
           },
           "id": 13036,
           "name": "Tea Room"
          }
         ],
         "distance": 1123,
         "features": {
          "amenities": {
           "parking": {
            "parking": false,
            "private_lot": false,
            "public_lot": false,
            "street_parking": false,
            "valet_parking": false
           }
          },
          "payment": {
           "credit_cards": {
            "accepts_credit_cards": true
           },
           "digital_wallet": {
            "accepts_nfc": true
           }
          }
         },
         "fsq_id": "57b22076498efeeeb93cfc47",
         "geocodes": {
          "main": {
           "latitude": 43.640056,
           "longitude": -79.379271
          },
          "roof": {
           "latitude": 43.640056,
           "longitude": -79.379271
          }
         },
         "hours": {
          "display": "Mon-Thu 11:30-22:00; Fri 11:30-23:00; Sat 12:00-23:30; Sun 12:00-22:30",
          "is_local_holiday": false,
          "open_now": true,
          "regular": [
           {
            "close": "2200",
            "day": 1,
            "open": "1130"
           },
           {
            "close": "2200",
            "day": 2,
            "open": "1130"
           },
           {
            "close": "2200",
            "day": 3,
            "open": "1130"
           },
           {
            "close": "2200",
            "day": 4,
            "open": "1130"
           },
           {
            "close": "2300",
            "day": 5,
            "open": "1130"
           },
           {
            "close": "2330",
            "day": 6,
            "open": "1200"
           },
           {
            "close": "2230",
            "day": 7,
            "open": "1200"
           }
          ],
          "seasonal": []
         },
         "name": "Sharetea Waterfront",
         "popularity": 0.9420197099432065,
         "rating": 7.9
        },
        {
         "categories": [
          {
           "icon": {
            "prefix": "https://ss3.4sqi.net/img/categories_v2/shops/food_liquor_",
            "suffix": ".png"
           },
           "id": 17076,
           "name": "Liquor Store"
          },
          {
           "icon": {
            "prefix": "https://ss3.4sqi.net/img/categories_v2/shops/food_wineshop_",
            "suffix": ".png"
           },
           "id": 17080,
           "name": "Wine Store"
          }
         ],
         "distance": 1229,
         "features": {
          "food_and_drink": {
           "alcohol": {
            "beer": true,
            "wine": true
           }
          },
          "payment": {
           "credit_cards": {
            "accepts_credit_cards": true
           }
          }
         },
         "fsq_id": "4aeb719af964a52020c221e3",
         "geocodes": {
          "main": {
           "latitude": 43.642961,
           "longitude": -79.372488
          },
          "roof": {
           "latitude": 43.642961,
           "longitude": -79.372488
          }
         },
         "hours": {
          "display": "Mon-Sat 10:00-22:00; Sun 12:00-18:00",
          "is_local_holiday": false,
          "open_now": true,
          "regular": [
           {
            "close": "2200",
            "day": 1,
            "open": "1000"
           },
           {
            "close": "2200",
            "day": 2,
            "open": "1000"
           },
           {
            "close": "2200",
            "day": 3,
            "open": "1000"
           },
           {
            "close": "2200",
            "day": 4,
            "open": "1000"
           },
           {
            "close": "2200",
            "day": 5,
            "open": "1000"
           },
           {
            "close": "2200",
            "day": 6,
            "open": "1000"
           },
           {
            "close": "1800",
            "day": 7,
            "open": "1200"
           }
          ],
          "seasonal": []
         },
         "name": "Lcbo",
         "popularity": 0.9950165906520686,
         "rating": 8.3
        },
        {
         "categories": [
          {
           "icon": {
            "prefix": "https://ss3.4sqi.net/img/categories_v2/parks_outdoors/park_",
            "suffix": ".png"
           },
           "id": 16032,
           "name": "Park"
          }
         ],
         "distance": 1017,
         "features": {},
         "fsq_id": "4c029ec29a7920a165aece79",
         "geocodes": {
          "main": {
           "latitude": 43.62459,
           "longitude": -79.363982
          }
         },
         "hours": {
          "is_local_holiday": false,
          "open_now": false,
          "seasonal": []
         },
         "name": "Snake Island",
         "popularity": 0.9334323387227063,
         "rating": 7
        },
        {
         "categories": [
          {
           "icon": {
            "prefix": "https://ss3.4sqi.net/img/categories_v2/nightlife/pub_",
            "suffix": ".png"
           },
           "id": 13006,
           "name": "Beer Bar"
          },
          {
           "icon": {
            "prefix": "https://ss3.4sqi.net/img/categories_v2/food/brewery_",
            "suffix": ".png"
           },
           "id": 13029,
           "name": "Brewery"
          },
          {
           "icon": {
            "prefix": "https://ss3.4sqi.net/img/categories_v2/food/default_",
            "suffix": ".png"
           },
           "id": 13068,
           "name": "American Restaurant"
          }
         ],
         "distance": 1267,
         "features": {
          "amenities": {
           "live_music": false,
           "outdoor_seating": true
          },
          "food_and_drink": {
           "alcohol": {
            "beer": true,
            "cocktails": true,
            "full_bar": true
           },
           "meals": {
            "brunch": false,
            "happy_hour": true
           }
          },
          "payment": {
           "credit_cards": {
            "accepts_credit_cards": true
           }
          },
          "services": {
           "delivery": true,
           "dine_in": {
            "online_reservations": true,
            "reservations": true
           }
          }
         },
         "fsq_id": "516da5e0e4b0ad66584cf170",
         "geocodes": {
          "main": {
           "latitude": 43.63797,
           "longitude": -79.384828
          },
          "roof": {
           "latitude": 43.63797,
           "longitude": -79.384828
          }
         },
         "hours": {
          "display": "Mon-Thu 11:00-23:00; Fri 11:00-23:59; Sat 00:00-2:00, 11:00-23:59; Sun 00:00-2:00, 11:00-23:00",
          "is_local_holiday": false,
          "open_now": true,
          "regular": [
           {
            "close": "2300",
            "day": 1,
            "open": "1100"
           },
           {
            "close": "2300",
            "day": 2,
            "open": "1100"
           },
           {
            "close": "2300",
            "day": 3,
            "open": "1100"
           },
           {
            "close": "2300",
            "day": 4,
            "open": "1100"
           },
           {
            "close": "2359",
            "day": 5,
            "open": "1100"
           },
           {
            "close": "0200",
            "day": 6,
            "open": "0000"
           },
           {
            "close": "2359",
            "day": 6,
            "open": "1100"
           },
           {
            "close": "0200",
            "day": 7,
            "open": "0000"
           },
           {
            "close": "2300",
            "day": 7,
            "open": "1100"
           }
          ],
          "seasonal": []
         },
         "name": "Amsterdam BrewHouse",
         "popularity": 0.9913007816869027,
         "rating": 8.1
        },
        {
         "categories": [
          {
           "icon": {
            "prefix": "https://ss3.4sqi.net/img/categories_v2/food/greek_",
            "suffix": ".png"
           },
           "id": 13177,
           "name": "Greek Restaurant"
          }
         ],
         "distance": 1123,
         "features": {
          "amenities": {
           "outdoor_seating": true
          },
          "food_and_drink": {
           "meals": {
            "brunch": true,
            "dinner": true,
            "lunch": true
           }
          },
          "payment": {
           "credit_cards": {
            "accepts_credit_cards": true
           }
          },
          "services": {
           "delivery": false,
           "dine_in": {
            "groups_only_reservations": false,
            "reservations": false
           }
          }
         },
         "fsq_id": "4b75f350f964a5207c312ee3",
         "geocodes": {
          "main": {
           "latitude": 43.641526,
           "longitude": -79.375252
          },
          "roof": {
           "latitude": 43.641526,
           "longitude": -79.375252
          }
         },
         "hours": {
          "is_local_holiday": false,
          "open_now": false,
          "seasonal": []
         },
         "name": "Alexandro's World Famous Gyros",
         "popularity": 0.9901201734872681,
         "rating": 7.3
        },
        {
         "categories": [
          {
           "icon": {
            "prefix": "https://ss3.4sqi.net/img/categories_v2/food/steakhouse_",
            "suffix": ".png"
           },
           "id": 13383,
           "name": "Steakhouse"
          }
         ],
         "distance": 1255,
         "features": {
          "amenities": {
           "live_music": false,
           "outdoor_seating": false
          },
          "food_and_drink": {
           "alcohol": {
            "cocktails": false,
            "full_bar": true
           },
           "meals": {
            "brunch": true,
            "dinner": true,
            "lunch": true
           }
          },
          "payment": {
           "credit_cards": {
            "accepts_credit_cards": true
           }
          },
          "services": {
           "delivery": false,
           "dine_in": {
            "online_reservations": true,
            "reservations": true
           }
          }
         },
         "fsq_id": "4ad7b757f964a520ff0d21e3",
         "geocodes": {
          "main": {
           "latitude": 43.642089,
           "longitude": -79.378332
          },
          "roof": {
           "latitude": 43.642089,
           "longitude": -79.378332
          }
         },
         "hours": {
          "display": "Mon-Fri 00:00-1:00, 11:30-23:59; Sat-Sun 00:00-1:00, 17:00-23:59",
          "is_local_holiday": false,
          "open_now": true,
          "regular": [
           {
            "close": "0100",
            "day": 1,
            "open": "0000"
           },
           {
            "close": "2359",
            "day": 1,
            "open": "1130"
           },
           {
            "close": "0100",
            "day": 2,
            "open": "0000"
           },
           {
            "close": "2359",
            "day": 2,
            "open": "1130"
           },
           {
            "close": "0100",
            "day": 3,
            "open": "0000"
           },
           {
            "close": "2359",
            "day": 3,
            "open": "1130"
           },
           {
            "close": "0100",
            "day": 4,
            "open": "0000"
           },
           {
            "close": "2359",
            "day": 4,
            "open": "1130"
           },
           {
            "close": "0100",
            "day": 5,
            "open": "0000"
           },
           {
            "close": "2359",
            "day": 5,
            "open": "1130"
           },
           {
            "close": "0100",
            "day": 6,
            "open": "0000"
           },
           {
            "close": "2359",
            "day": 6,
            "open": "1700"
           },
           {
            "close": "0100",
            "day": 7,
            "open": "0000"
           },
           {
            "close": "2359",
            "day": 7,
            "open": "1700"
           }
          ],
          "seasonal": []
         },
         "name": "Harbour Sixty Steakhouse",
         "popularity": 0.9912572855953372,
         "rating": 7.9
        },
        {
         "categories": [
          {
           "icon": {
            "prefix": "https://ss3.4sqi.net/img/categories_v2/parks_outdoors/plaza_",
            "suffix": ".png"
           },
           "id": 16041,
           "name": "Plaza"
          }
         ],
         "distance": 1184,
         "features": {},
         "fsq_id": "515779bee4b0a9d4c8c9380d",
         "geocodes": {
          "main": {
           "latitude": 43.639314,
           "longitude": -79.38177
          },
          "roof": {
           "latitude": 43.639314,
           "longitude": -79.38177
          }
         },
         "hours": {
          "is_local_holiday": false,
          "open_now": false,
          "seasonal": []
         },
         "name": "Ontario Square",
         "popularity": 0.9451079324443561,
         "rating": 7.5
        },
        {
         "categories": [
          {
           "icon": {
            "prefix": "https://ss3.4sqi.net/img/categories_v2/food/coffeeshop_",
            "suffix": ".png"
           },
           "id": 13035,
           "name": "Coffee Shop"
          }
         ],
         "distance": 1127,
         "features": {
          "amenities": {
           "live_music": false,
           "outdoor_seating": true,
           "private_room": false,
           "restroom": true,
           "wheelchair_accessible": true
          },
          "food_and_drink": {
           "alcohol": {
            "cocktails": false,
            "full_bar": false
           },
           "meals": {
            "breakfast": true,
            "brunch": true,
            "dessert": true,
            "happy_hour": false,
            "lunch": true
           }
          },
          "payment": {
           "credit_cards": {
            "accepts_credit_cards": true
           }
          }
         },
         "fsq_id": "55a40a8e498e0819937a8534",
         "geocodes": {
          "main": {
           "latitude": 43.640946,
           "longitude": -79.378618
          },
          "roof": {
           "latitude": 43.640946,
           "longitude": -79.378618
          }
         },
         "hours": {
          "display": "Mon-Fri 7:00-21:00; Sat-Sun 8:00-21:00",
          "is_local_holiday": false,
          "open_now": true,
          "regular": [
           {
            "close": "2100",
            "day": 1,
            "open": "0700"
           },
           {
            "close": "2100",
            "day": 2,
            "open": "0700"
           },
           {
            "close": "2100",
            "day": 3,
            "open": "0700"
           },
           {
            "close": "2100",
            "day": 4,
            "open": "0700"
           },
           {
            "close": "2100",
            "day": 5,
            "open": "0700"
           },
           {
            "close": "2100",
            "day": 6,
            "open": "0800"
           },
           {
            "close": "2100",
            "day": 7,
            "open": "0800"
           }
          ],
          "seasonal": []
         },
         "name": "Aroma Espresso Bar",
         "popularity": 0.9724607603116806,
         "rating": 7.2
        },
        {
         "categories": [
          {
           "icon": {
            "prefix": "https://ss3.4sqi.net/img/categories_v2/parks_outdoors/beach_",
            "suffix": ".png"
           },
           "id": 16003,
           "name": "Beach"
          }
         ],
         "distance": 1319,
         "features": {
          "food_and_drink": {
           "alcohol": {
            "beer": true,
            "wine": true
           }
          }
         },
         "fsq_id": "4c2e1fc7e116e21eb5bc8f60",
         "geocodes": {
          "main": {
           "latitude": 43.643368,
           "longitude": -79.367645
          }
         },
         "hours": {
          "is_local_holiday": false,
          "open_now": false,
          "seasonal": []
         },
         "name": "Canada's Sugar Beach",
         "popularity": 0.9884176121888476,
         "rating": 8.1
        },
        {
         "categories": [
          {
           "icon": {
            "prefix": "https://ss3.4sqi.net/img/categories_v2/arts_entertainment/musicvenue_",
            "suffix": ".png"
           },
           "id": 10039,
           "name": "Music Venue"
          },
          {
           "icon": {
            "prefix": "https://ss3.4sqi.net/img/categories_v2/arts_entertainment/performingarts_theater_",
            "suffix": ".png"
           },
           "id": 10043,
           "name": "Theater"
          },
          {
           "icon": {
            "prefix": "https://ss3.4sqi.net/img/categories_v2/food/default_",
            "suffix": ".png"
           },
           "id": 13065,
           "name": "Restaurant"
          }
         ],
         "distance": 1140,
         "features": {},
         "fsq_id": "4b10746cf964a520ca7023e3",
         "geocodes": {
          "main": {
           "latitude": 43.63866,
           "longitude": -79.382274
          },
          "roof": {
           "latitude": 43.63866,
           "longitude": -79.382274
          }
         },
         "hours": {
          "is_local_holiday": false,
          "open_now": false,
          "seasonal": []
         },
         "name": "Enwave Theatre",
         "popularity": 0.12203139175065555,
         "rating": 7.2
        },
        {
         "categories": [
          {
           "icon": {
            "prefix": "https://ss3.4sqi.net/img/categories_v2/nightlife/default_",
            "suffix": ".png"
           },
           "id": 13016,
           "name": "Lounge"
          },
          {
           "icon": {
            "prefix": "https://ss3.4sqi.net/img/categories_v2/food/diner_",
            "suffix": ".png"
           },
           "id": 13049,
           "name": "Diner"
          }
         ],
         "distance": 1397,
         "features": {
          "amenities": {
           "live_music": false,
           "outdoor_seating": false
          },
          "food_and_drink": {
           "meals": {
            "happy_hour": true
           }
          },
          "payment": {
           "credit_cards": {
            "accepts_credit_cards": true
           }
          }
         },
         "fsq_id": "4b60d5b9f964a52071fc29e3",
         "geocodes": {
          "main": {
           "latitude": 43.643439,
           "longitude": -79.379061
          },
          "roof": {
           "latitude": 43.643439,
           "longitude": -79.379061
          }
         },
         "hours": {
          "is_local_holiday": false,
          "open_now": false,
          "seasonal": []
         },
         "name": "Air Canada Signature Club",
         "popularity": 0.9765804615556688,
         "rating": 8.6
        },
        {
         "categories": [
          {
           "icon": {
            "prefix": "https://ss3.4sqi.net/img/categories_v2/food/ramen_",
            "suffix": ".png"
           },
           "id": 13272,
           "name": "Ramen Restaurant"
          }
         ],
         "distance": 1240,
         "features": {
          "amenities": {
           "music": true,
           "outdoor_seating": true,
           "restroom": true
          },
          "food_and_drink": {
           "meals": {
            "brunch": true,
            "dinner": true,
            "lunch": true
           }
          },
          "payment": {
           "credit_cards": {
            "accepts_credit_cards": true
           }
          }
         },
         "fsq_id": "5de849003935b5000848a107",
         "geocodes": {
          "main": {
           "latitude": 43.641498,
           "longitude": -79.380295
          },
          "roof": {
           "latitude": 43.641498,
           "longitude": -79.380295
          }
         },
         "hours": {
          "display": "Open Daily 11:30-22:30",
          "is_local_holiday": false,
          "open_now": true,
          "regular": [
           {
            "close": "2230",
            "day": 1,
            "open": "1130"
           },
           {
            "close": "2230",
            "day": 2,
            "open": "1130"
           },
           {
            "close": "2230",
            "day": 3,
            "open": "1130"
           },
           {
            "close": "2230",
            "day": 4,
            "open": "1130"
           },
           {
            "close": "2230",
            "day": 5,
            "open": "1130"
           },
           {
            "close": "2230",
            "day": 6,
            "open": "1130"
           },
           {
            "close": "2230",
            "day": 7,
            "open": "1130"
           }
          ],
          "seasonal": []
         },
         "name": "Kinton Ramen",
         "popularity": 0.9586662855580549,
         "rating": 7.6
        },
        {
         "categories": [
          {
           "icon": {
            "prefix": "https://ss3.4sqi.net/img/categories_v2/shops/apparel_",
            "suffix": ".png"
           },
           "id": 17043,
           "name": "Clothing Store"
          }
         ],
         "distance": 1400,
         "features": {
          "payment": {
           "credit_cards": {
            "accepts_credit_cards": true
           }
          }
         },
         "fsq_id": "4be46c832468c92887c1fe42",
         "geocodes": {
          "main": {
           "latitude": 43.642345,
           "longitude": -79.38099
          },
          "roof": {
           "latitude": 43.642345,
           "longitude": -79.38099
          }
         },
         "hours": {
          "display": "Mon-Fri 10:00-20:00; Sat 10:00-18:00; Sun 11:00-18:00",
          "is_local_holiday": false,
          "open_now": true,
          "regular": [
           {
            "close": "2000",
            "day": 1,
            "open": "1000"
           },
           {
            "close": "2000",
            "day": 2,
            "open": "1000"
           },
           {
            "close": "2000",
            "day": 3,
            "open": "1000"
           },
           {
            "close": "2000",
            "day": 4,
            "open": "1000"
           },
           {
            "close": "2000",
            "day": 5,
            "open": "1000"
           },
           {
            "close": "1800",
            "day": 6,
            "open": "1000"
           },
           {
            "close": "1800",
            "day": 7,
            "open": "1100"
           }
          ],
          "seasonal": []
         },
         "name": "Real Sports Apparel",
         "popularity": 0.9868331117103906,
         "rating": 8.6
        },
        {
         "categories": [
          {
           "icon": {
            "prefix": "https://ss3.4sqi.net/img/categories_v2/arts_entertainment/stadium_",
            "suffix": ".png"
           },
           "id": 10051,
           "name": "Stadium"
          }
         ],
         "distance": 1416,
         "features": {
          "food_and_drink": {
           "alcohol": {
            "beer": true,
            "wine": true
           }
          },
          "payment": {
           "credit_cards": {
            "accepts_credit_cards": true
           }
          }
         },
         "fsq_id": "4b155081f964a520b4b023e3",
         "geocodes": {
          "main": {
           "latitude": 43.643485,
           "longitude": -79.379209
          },
          "roof": {
           "latitude": 43.643485,
           "longitude": -79.379209
          }
         },
         "hours": {
          "display": "Mon-Fri 9:30-18:00; Sat 9:30-17:00",
          "is_local_holiday": false,
          "open_now": true,
          "regular": [
           {
            "close": "1800",
            "day": 1,
            "open": "0930"
           },
           {
            "close": "1800",
            "day": 2,
            "open": "0930"
           },
           {
            "close": "1800",
            "day": 3,
            "open": "0930"
           },
           {
            "close": "1800",
            "day": 4,
            "open": "0930"
           },
           {
            "close": "1800",
            "day": 5,
            "open": "0930"
           },
           {
            "close": "1700",
            "day": 6,
            "open": "0930"
           }
          ],
          "seasonal": []
         },
         "name": "Scotiabank Arena",
         "popularity": 0.9998508705432041,
         "rating": 8.7
        },
        {
         "categories": [
          {
           "icon": {
            "prefix": "https://ss3.4sqi.net/img/categories_v2/food/cafe_",
            "suffix": ".png"
           },
           "id": 13034,
           "name": "Café"
          }
         ],
         "distance": 1166,
         "features": {},
         "fsq_id": "4e62a4a08877954de84c94c4",
         "geocodes": {
          "main": {
           "latitude": 43.638347,
           "longitude": -79.383046
          }
         },
         "hours": {
          "is_local_holiday": false,
          "open_now": false,
          "seasonal": []
         },
         "name": "World Café at Harbourfront Centre",
         "popularity": 0.8756322467595412,
         "rating": 7.2
        },
        {
         "categories": [
          {
           "icon": {
            "prefix": "https://ss3.4sqi.net/img/categories_v2/parks_outdoors/sceniclookout_",
            "suffix": ".png"
           },
           "id": 16046,
           "name": "Scenic Lookout"
          }
         ],
         "distance": 1320,
         "features": {},
         "fsq_id": "4e0f9e9e1838f62321d17b8d",
         "geocodes": {
          "main": {
           "latitude": 43.638799,
           "longitude": -79.385006
          },
          "roof": {
           "latitude": 43.638799,
           "longitude": -79.385006
          }
         },
         "hours": {
          "is_local_holiday": false,
          "open_now": false,
          "seasonal": []
         },
         "name": "Harbourfront Wavedecks",
         "popularity": 0.9835957597524451,
         "rating": 7.8
        },
        {
         "categories": [
          {
           "icon": {
            "prefix": "https://ss3.4sqi.net/img/categories_v2/parks_outdoors/plaza_",
            "suffix": ".png"
           },
           "id": 16041,
           "name": "Plaza"
          }
         ],
         "distance": 1435,
         "features": {},
         "fsq_id": "4bdb8c1cc79cc928a77583e9",
         "geocodes": {
          "main": {
           "latitude": 43.642925,
           "longitude": -79.380892
          }
         },
         "hours": {
          "is_local_holiday": false,
          "open_now": false,
          "seasonal": []
         },
         "name": "Maple Leaf Square",
         "popularity": 0.9967999304062535,
         "rating": 8.6
        },
        {
         "categories": [
          {
           "icon": {
            "prefix": "https://ss3.4sqi.net/img/categories_v2/nightlife/sportsbar_",
            "suffix": ".png"
           },
           "id": 13022,
           "name": "Sports Bar"
          }
         ],
         "distance": 1362,
         "features": {
          "amenities": {
           "live_music": false,
           "outdoor_seating": false,
           "restroom": true,
           "smoking": false,
           "tvs": true
          },
          "food_and_drink": {
           "alcohol": {
            "beer": true,
            "cocktails": true,
            "full_bar": true,
            "wine": true
           },
           "meals": {
            "brunch": true,
            "happy_hour": true
           }
          },
          "payment": {
           "credit_cards": {
            "accepts_credit_cards": true
           }
          },
          "services": {
           "delivery": false,
           "dine_in": {
            "online_reservations": true,
            "reservations": true
           }
          }
         },
         "fsq_id": "4c05b0ce5753c92838e739f1",
         "geocodes": {
          "main": {
           "latitude": 43.642558,
           "longitude": -79.379965
          }
         },
         "hours": {
          "is_local_holiday": false,
          "open_now": false,
          "seasonal": []
         },
         "name": "RS - Real Sports",
         "popularity": 0.9879205139995277,
         "rating": 8
        },
        {
         "categories": [
          {
           "icon": {
            "prefix": "https://ss3.4sqi.net/img/categories_v2/parks_outdoors/park_",
            "suffix": ".png"
           },
           "id": 16032,
           "name": "Park"
          }
         ],
         "distance": 1495,
         "features": {},
         "fsq_id": "4b642db1f964a520b7a22ae3",
         "geocodes": {
          "main": {
           "latitude": 43.641208,
           "longitude": -79.385063
          },
          "roof": {
           "latitude": 43.641208,
           "longitude": -79.385063
          }
         },
         "hours": {
          "is_local_holiday": false,
          "open_now": false,
          "seasonal": []
         },
         "name": "Roundhouse Park",
         "popularity": 0.99827879751948,
         "rating": 9.3
        },
        {
         "categories": [
          {
           "icon": {
            "prefix": "https://ss3.4sqi.net/img/categories_v2/food/deli_",
            "suffix": ".png"
           },
           "id": 13039,
           "name": "Deli"
          }
         ],
         "distance": 1437,
         "features": {
          "amenities": {
           "live_music": false,
           "outdoor_seating": false
          },
          "food_and_drink": {
           "alcohol": {
            "beer": true,
            "cocktails": true,
            "full_bar": true,
            "wine": true
           },
           "meals": {
            "breakfast": true,
            "brunch": true,
            "happy_hour": false,
            "lunch": true
           }
          },
          "payment": {
           "credit_cards": {
            "accepts_credit_cards": true
           }
          },
          "services": {
           "delivery": false,
           "dine_in": {
            "groups_only_reservations": false,
            "reservations": false
           }
          }
         },
         "fsq_id": "562922be498e2c6aad0e6091",
         "geocodes": {
          "main": {
           "latitude": 43.641002,
           "longitude": -79.383254
          },
          "roof": {
           "latitude": 43.641002,
           "longitude": -79.383254
          }
         },
         "hours": {
          "display": "Mon-Fri 7:00-16:00; Sat-Sun 7:00-17:00",
          "is_local_holiday": false,
          "open_now": false,
          "regular": [
           {
            "close": "1600",
            "day": 1,
            "open": "0700"
           },
           {
            "close": "1600",
            "day": 2,
            "open": "0700"
           },
           {
            "close": "1600",
            "day": 3,
            "open": "0700"
           },
           {
            "close": "1600",
            "day": 4,
            "open": "0700"
           },
           {
            "close": "1600",
            "day": 5,
            "open": "0700"
           },
           {
            "close": "1700",
            "day": 6,
            "open": "0700"
           },
           {
            "close": "1700",
            "day": 7,
            "open": "0700"
           }
          ],
          "seasonal": []
         },
         "name": "Evviva Breakfast Restaurant",
         "popularity": 0.9904619284924254,
         "rating": 8.3
        },
        {
         "categories": [
          {
           "icon": {
            "prefix": "https://ss3.4sqi.net/img/categories_v2/arts_entertainment/themepark_",
            "suffix": ".png"
           },
           "id": 10001,
           "name": "Amusement Park"
          }
         ],
         "distance": 1293,
         "features": {
          "payment": {
           "credit_cards": {
            "accepts_credit_cards": false
           },
           "digital_wallet": {
            "accepts_nfc": false
           }
          }
         },
         "fsq_id": "4c102721e7d29521b0bdd7b0",
         "geocodes": {
          "main": {
           "latitude": 43.62048,
           "longitude": -79.373729
          },
          "roof": {
           "latitude": 43.62048,
           "longitude": -79.373729
          }
         },
         "hours": {
          "is_local_holiday": false,
          "open_now": false,
          "seasonal": []
         },
         "name": "Centreville Amusement Park",
         "popularity": 0.9959548634844098,
         "rating": 7.5
        },
        {
         "categories": [
          {
           "icon": {
            "prefix": "https://ss3.4sqi.net/img/categories_v2/food/default_",
            "suffix": ".png"
           },
           "id": 13065,
           "name": "Restaurant"
          }
         ],
         "distance": 981,
         "features": {
          "food_and_drink": {
           "meals": {
            "brunch": true,
            "dinner": true,
            "lunch": true
           }
          }
         },
         "fsq_id": "5946e7ae31fd1427cb463751",
         "geocodes": {
          "main": {
           "latitude": 43.638898,
           "longitude": -79.380536
          },
          "roof": {
           "latitude": 43.638898,
           "longitude": -79.380536
          }
         },
         "hours": {
          "display": "Mon-Thu 00:00-1:00, 11:00-23:59; Fri 00:00-2:00, 11:00-23:59; Sat-Sun 00:00-2:00, 9:30-23:59",
          "is_local_holiday": false,
          "open_now": true,
          "regular": [
           {
            "close": "0100",
            "day": 1,
            "open": "0000"
           },
           {
            "close": "2359",
            "day": 1,
            "open": "1100"
           },
           {
            "close": "0100",
            "day": 2,
            "open": "0000"
           },
           {
            "close": "2359",
            "day": 2,
            "open": "1100"
           },
           {
            "close": "0100",
            "day": 3,
            "open": "0000"
           },
           {
            "close": "2359",
            "day": 3,
            "open": "1100"
           },
           {
            "close": "0100",
            "day": 4,
            "open": "0000"
           },
           {
            "close": "2359",
            "day": 4,
            "open": "1100"
           },
           {
            "close": "0200",
            "day": 5,
            "open": "0000"
           },
           {
            "close": "2359",
            "day": 5,
            "open": "1100"
           },
           {
            "close": "0200",
            "day": 6,
            "open": "0000"
           },
           {
            "close": "2359",
            "day": 6,
            "open": "0930"
           },
           {
            "close": "0200",
            "day": 7,
            "open": "0000"
           },
           {
            "close": "2359",
            "day": 7,
            "open": "0930"
           }
          ],
          "seasonal": []
         },
         "name": "The Goodman Pub and Kitchen",
         "popularity": 0.9768725067418942,
         "rating": 6.3
        },
        {
         "categories": [
          {
           "icon": {
            "prefix": "https://ss3.4sqi.net/img/categories_v2/shops/sports_outdoors_",
            "suffix": ".png"
           },
           "id": 17117,
           "name": "Sporting Goods Retail"
          }
         ],
         "distance": 1418,
         "features": {
          "food_and_drink": {
           "alcohol": {
            "beer": true,
            "wine": true
           }
          },
          "payment": {
           "credit_cards": {
            "accepts_credit_cards": true
           }
          }
         },
         "fsq_id": "4caaabd8f47ea143763b8521",
         "geocodes": {
          "main": {
           "latitude": 43.642306,
           "longitude": -79.380751
          },
          "roof": {
           "latitude": 43.642306,
           "longitude": -79.380751
          }
         },
         "hours": {
          "display": "Mon-Fri 10:00-21:00; Sat 10:00-19:00; Sun 11:00-18:00",
          "is_local_holiday": false,
          "open_now": true,
          "regular": [
           {
            "close": "2100",
            "day": 1,
            "open": "1000"
           },
           {
            "close": "2100",
            "day": 2,
            "open": "1000"
           },
           {
            "close": "2100",
            "day": 3,
            "open": "1000"
           },
           {
            "close": "2100",
            "day": 4,
            "open": "1000"
           },
           {
            "close": "2100",
            "day": 5,
            "open": "1000"
           },
           {
            "close": "1900",
            "day": 6,
            "open": "1000"
           },
           {
            "close": "1800",
            "day": 7,
            "open": "1100"
           }
          ],
          "seasonal": []
         },
         "name": "Sport Chek Maple Leaf Square",
         "popularity": 0.9953894142940585,
         "rating": 8.1
        },
        {
         "categories": [
          {
           "icon": {
            "prefix": "https://ss3.4sqi.net/img/categories_v2/parks_outdoors/beach_",
            "suffix": ".png"
           },
           "id": 16003,
           "name": "Beach"
          }
         ],
         "distance": 1430,
         "features": {},
         "fsq_id": "4bf9a9905317a59386aa017f",
         "geocodes": {
          "main": {
           "latitude": 43.630111,
           "longitude": -79.353859
          }
         },
         "hours": {
          "is_local_holiday": false,
          "open_now": false,
          "seasonal": []
         },
         "name": "Wards Beach",
         "popularity": 0.9663588800377795,
         "rating": 8.2
        },
        {
         "categories": [
          {
           "icon": {
            "prefix": "https://ss3.4sqi.net/img/categories_v2/arts_entertainment/musicvenue_",
            "suffix": ".png"
           },
           "id": 10037,
           "name": "Concert Hall"
          },
          {
           "icon": {
            "prefix": "https://ss3.4sqi.net/img/categories_v2/arts_entertainment/musicvenue_",
            "suffix": ".png"
           },
           "id": 10039,
           "name": "Music Venue"
          }
         ],
         "distance": 1176,
         "features": {
          "payment": {
           "credit_cards": {
            "accepts_credit_cards": false
           },
           "digital_wallet": {
            "accepts_nfc": false
           }
          }
         },
         "fsq_id": "4e4fe00cc65bb313ba8bd2a8",
         "geocodes": {
          "main": {
           "latitude": 43.637966,
           "longitude": -79.383332
          },
          "roof": {
           "latitude": 43.637966,
           "longitude": -79.383332
          }
         },
         "hours": {
          "is_local_holiday": false,
          "open_now": false,
          "seasonal": []
         },
         "name": "WestJet Stage",
         "popularity": 0.930884710502442,
         "rating": 6.9
        },
        {
         "categories": [
          {
           "icon": {
            "prefix": "https://ss3.4sqi.net/img/categories_v2/food/deli_",
            "suffix": ".png"
           },
           "id": 13039,
           "name": "Deli"
          },
          {
           "icon": {
            "prefix": "https://ss3.4sqi.net/img/categories_v2/food/fastfood_",
            "suffix": ".png"
           },
           "id": 13145,
           "name": "Fast Food Restaurant"
          }
         ],
         "distance": 1288,
         "features": {
          "amenities": {
           "outdoor_seating": false
          },
          "payment": {
           "credit_cards": {
            "accepts_credit_cards": true
           }
          },
          "services": {
           "delivery": false,
           "dine_in": {
            "groups_only_reservations": false,
            "reservations": false
           }
          }
         },
         "fsq_id": "4ba2c7acf964a5209f1838e3",
         "geocodes": {
          "main": {
           "latitude": 43.63956,
           "longitude": -79.383435
          },
          "roof": {
           "latitude": 43.639578,
           "longitude": -79.383541
          }
         },
         "hours": {
          "display": "Mon-Thu 9:00-22:00; Fri-Sat 9:00-23:00; Sun 9:00-22:00",
          "is_local_holiday": false,
          "open_now": true,
          "regular": [
           {
            "close": "2200",
            "day": 1,
            "open": "0900"
           },
           {
            "close": "2200",
            "day": 2,
            "open": "0900"
           },
           {
            "close": "2200",
            "day": 3,
            "open": "0900"
           },
           {
            "close": "2200",
            "day": 4,
            "open": "0900"
           },
           {
            "close": "2300",
            "day": 5,
            "open": "0900"
           },
           {
            "close": "2300",
            "day": 6,
            "open": "0900"
           },
           {
            "close": "2200",
            "day": 7,
            "open": "0900"
           }
          ],
          "seasonal": []
         },
         "name": "Subway",
         "popularity": 0.9639914499111437,
         "rating": 7.3
        },
        {
         "categories": [
          {
           "icon": {
            "prefix": "https://ss3.4sqi.net/img/categories_v2/food/cafe_",
            "suffix": ".png"
           },
           "id": 13034,
           "name": "Café"
          },
          {
           "icon": {
            "prefix": "https://ss3.4sqi.net/img/categories_v2/food/coffeeshop_",
            "suffix": ".png"
           },
           "id": 13035,
           "name": "Coffee Shop"
          },
          {
           "icon": {
            "prefix": "https://ss3.4sqi.net/img/categories_v2/food/default_",
            "suffix": ".png"
           },
           "id": 13065,
           "name": "Restaurant"
          }
         ],
         "distance": 1178,
         "features": {
          "amenities": {
           "live_music": false,
           "outdoor_seating": true
          },
          "food_and_drink": {
           "alcohol": {
            "cocktails": false,
            "full_bar": false
           },
           "meals": {
            "happy_hour": false
           }
          },
          "payment": {
           "credit_cards": {
            "accepts_credit_cards": true
           }
          },
          "services": {
           "delivery": false
          }
         },
         "fsq_id": "51cf6105498e99bf4fc45d1b",
         "geocodes": {
          "main": {
           "latitude": 43.639314,
           "longitude": -79.38177
          },
          "roof": {
           "latitude": 43.639314,
           "longitude": -79.38177
          }
         },
         "hours": {
          "display": "Mon-Fri 7:30-18:00; Sat-Sun 8:00-18:00",
          "is_local_holiday": false,
          "open_now": true,
          "regular": [
           {
            "close": "1800",
            "day": 1,
            "open": "0730"
           },
           {
            "close": "1800",
            "day": 2,
            "open": "0730"
           },
           {
            "close": "1800",
            "day": 3,
            "open": "0730"
           },
           {
            "close": "1800",
            "day": 4,
            "open": "0730"
           },
           {
            "close": "1800",
            "day": 5,
            "open": "0730"
           },
           {
            "close": "1800",
            "day": 6,
            "open": "0800"
           },
           {
            "close": "1800",
            "day": 7,
            "open": "0800"
           }
          ],
          "seasonal": []
         },
         "name": "Lavazza Espression",
         "popularity": 0.8643170492251482,
         "rating": 6.9
        },
        {
         "categories": [
          {
           "icon": {
            "prefix": "https://ss3.4sqi.net/img/categories_v2/food/default_",
            "suffix": ".png"
           },
           "id": 13032,
           "name": "Cafes, Coffee, and Tea Houses"
          },
          {
           "icon": {
            "prefix": "https://ss3.4sqi.net/img/categories_v2/food/default_",
            "suffix": ".png"
           },
           "id": 13065,
           "name": "Restaurant"
          }
         ],
         "distance": 1044,
         "features": {
          "amenities": {
           "outdoor_seating": true
          },
          "payment": {
           "credit_cards": {
            "accepts_credit_cards": true
           }
          }
         },
         "fsq_id": "4ba3d8def964a520086638e3",
         "geocodes": {
          "main": {
           "latitude": 43.638892,
           "longitude": -79.380628
          },
          "roof": {
           "latitude": 43.638892,
           "longitude": -79.380628
          }
         },
         "hours": {
          "display": "Open Daily 8:00-15:00",
          "is_local_holiday": false,
          "open_now": false,
          "regular": [
           {
            "close": "1500",
            "day": 1,
            "open": "0800"
           },
           {
            "close": "1500",
            "day": 2,
            "open": "0800"
           },
           {
            "close": "1500",
            "day": 3,
            "open": "0800"
           },
           {
            "close": "1500",
            "day": 4,
            "open": "0800"
           },
           {
            "close": "1500",
            "day": 5,
            "open": "0800"
           },
           {
            "close": "1500",
            "day": 6,
            "open": "0800"
           },
           {
            "close": "1500",
            "day": 7,
            "open": "0800"
           }
          ],
          "seasonal": []
         },
         "name": "Tim Hortons",
         "popularity": 0.9411000782929648,
         "rating": 6.3
        },
        {
         "categories": [
          {
           "icon": {
            "prefix": "https://ss3.4sqi.net/img/categories_v2/shops/apparel_",
            "suffix": ".png"
           },
           "id": 17043,
           "name": "Clothing Store"
          }
         ],
         "distance": 1384,
         "features": {
          "payment": {
           "credit_cards": {
            "accepts_credit_cards": true
           }
          }
         },
         "fsq_id": "4b09c4a9f964a5203b1d23e3",
         "geocodes": {
          "main": {
           "latitude": 43.643887,
           "longitude": -79.369784
          },
          "roof": {
           "latitude": 43.643887,
           "longitude": -79.369784
          }
         },
         "hours": {
          "display": "Open Daily 10:00-18:00",
          "is_local_holiday": false,
          "open_now": true,
          "regular": [
           {
            "close": "1800",
            "day": 1,
            "open": "1000"
           },
           {
            "close": "1800",
            "day": 2,
            "open": "1000"
           },
           {
            "close": "1800",
            "day": 3,
            "open": "1000"
           },
           {
            "close": "1800",
            "day": 4,
            "open": "1000"
           },
           {
            "close": "1800",
            "day": 5,
            "open": "1000"
           },
           {
            "close": "1800",
            "day": 6,
            "open": "1000"
           },
           {
            "close": "1800",
            "day": 7,
            "open": "1000"
           }
          ],
          "seasonal": [
           {
            "closed": true,
            "hours": [
             {
              "close": "+0000",
              "day": 2,
              "open": "0000"
             },
             {
              "close": "+0000",
              "day": 2,
              "open": "0000"
             }
            ]
           },
           {
            "closed": true,
            "hours": [
             {
              "close": "+0000",
              "day": 3,
              "open": "0000"
             },
             {
              "close": "+0000",
              "day": 3,
              "open": "0000"
             }
            ]
           },
           {
            "closed": true,
            "hours": [
             {
              "close": "+0000",
              "day": 4,
              "open": "0000"
             },
             {
              "close": "+0000",
              "day": 4,
              "open": "0000"
             }
            ]
           },
           {
            "closed": true,
            "hours": [
             {
              "close": "+0000",
              "day": 5,
              "open": "0000"
             },
             {
              "close": "+0000",
              "day": 5,
              "open": "0000"
             }
            ]
           },
           {
            "closed": true,
            "hours": [
             {
              "close": "+0000",
              "day": 6,
              "open": "0000"
             },
             {
              "close": "+0000",
              "day": 6,
              "open": "0000"
             }
            ]
           },
           {
            "closed": true,
            "hours": [
             {
              "close": "+0000",
              "day": 7,
              "open": "0000"
             },
             {
              "close": "+0000",
              "day": 7,
              "open": "0000"
             }
            ]
           },
           {
            "closed": true,
            "hours": [
             {
              "close": "+0000",
              "day": 1,
              "open": "0000"
             },
             {
              "close": "+0000",
              "day": 1,
              "open": "0000"
             }
            ]
           },
           {
            "closed": true,
            "hours": [
             {
              "close": "+0000",
              "day": 2,
              "open": "0000"
             },
             {
              "close": "+0000",
              "day": 2,
              "open": "0000"
             }
            ]
           },
           {
            "closed": true,
            "hours": [
             {
              "close": "+0000",
              "day": 3,
              "open": "0000"
             },
             {
              "close": "+0000",
              "day": 3,
              "open": "0000"
             }
            ]
           },
           {
            "closed": true,
            "hours": [
             {
              "close": "+0000",
              "day": 4,
              "open": "0000"
             },
             {
              "close": "+0000",
              "day": 4,
              "open": "0000"
             }
            ]
           },
           {
            "closed": true,
            "hours": [
             {
              "close": "+0000",
              "day": 5,
              "open": "0000"
             },
             {
              "close": "+0000",
              "day": 5,
              "open": "0000"
             }
            ]
           },
           {
            "closed": true,
            "hours": [
             {
              "close": "+0000",
              "day": 6,
              "open": "0000"
             },
             {
              "close": "+0000",
              "day": 6,
              "open": "0000"
             }
            ]
           },
           {
            "closed": true,
            "hours": [
             {
              "close": "+0000",
              "day": 7,
              "open": "0000"
             },
             {
              "close": "+0000",
              "day": 7,
              "open": "0000"
             }
            ]
           },
           {
            "closed": true,
            "hours": [
             {
              "close": "+0000",
              "day": 1,
              "open": "0000"
             },
             {
              "close": "+0000",
              "day": 1,
              "open": "0000"
             }
            ]
           },
           {
            "closed": true,
            "hours": [
             {
              "close": "+0000",
              "day": 2,
              "open": "0000"
             },
             {
              "close": "+0000",
              "day": 2,
              "open": "0000"
             }
            ]
           },
           {
            "closed": true,
            "hours": [
             {
              "close": "+0000",
              "day": 3,
              "open": "0000"
             },
             {
              "close": "+0000",
              "day": 3,
              "open": "0000"
             }
            ]
           },
           {
            "closed": true,
            "hours": [
             {
              "close": "+0000",
              "day": 4,
              "open": "0000"
             },
             {
              "close": "+0000",
              "day": 4,
              "open": "0000"
             }
            ]
           },
           {
            "closed": true,
            "hours": [
             {
              "close": "+0000",
              "day": 5,
              "open": "0000"
             },
             {
              "close": "+0000",
              "day": 5,
              "open": "0000"
             }
            ]
           },
           {
            "closed": true,
            "hours": [
             {
              "close": "+0000",
              "day": 6,
              "open": "0000"
             },
             {
              "close": "+0000",
              "day": 6,
              "open": "0000"
             }
            ]
           },
           {
            "closed": true,
            "hours": [
             {
              "close": "+0000",
              "day": 7,
              "open": "0000"
             },
             {
              "close": "+0000",
              "day": 7,
              "open": "0000"
             }
            ]
           },
           {
            "closed": true,
            "hours": [
             {
              "close": "+0000",
              "day": 1,
              "open": "0000"
             },
             {
              "close": "+0000",
              "day": 1,
              "open": "0000"
             }
            ]
           },
           {
            "closed": true,
            "hours": [
             {
              "close": "+0000",
              "day": 2,
              "open": "0000"
             },
             {
              "close": "+0000",
              "day": 2,
              "open": "0000"
             }
            ]
           },
           {
            "closed": true,
            "hours": [
             {
              "close": "+0000",
              "day": 3,
              "open": "0000"
             },
             {
              "close": "+0000",
              "day": 3,
              "open": "0000"
             }
            ]
           },
           {
            "closed": true,
            "hours": [
             {
              "close": "+0000",
              "day": 4,
              "open": "0000"
             },
             {
              "close": "+0000",
              "day": 4,
              "open": "0000"
             }
            ]
           },
           {
            "closed": true,
            "hours": [
             {
              "close": "+0000",
              "day": 5,
              "open": "0000"
             },
             {
              "close": "+0000",
              "day": 5,
              "open": "0000"
             }
            ]
           },
           {
            "closed": true,
            "hours": [
             {
              "close": "+0000",
              "day": 6,
              "open": "0000"
             },
             {
              "close": "+0000",
              "day": 6,
              "open": "0000"
             }
            ]
           },
           {
            "closed": true,
            "hours": [
             {
              "close": "+0000",
              "day": 7,
              "open": "0000"
             },
             {
              "close": "+0000",
              "day": 7,
              "open": "0000"
             }
            ]
           },
           {
            "closed": true,
            "hours": [
             {
              "close": "+0000",
              "day": 1,
              "open": "0000"
             },
             {
              "close": "+0000",
              "day": 1,
              "open": "0000"
             }
            ]
           },
           {
            "closed": true,
            "hours": [
             {
              "close": "+0000",
              "day": 2,
              "open": "0000"
             },
             {
              "close": "+0000",
              "day": 2,
              "open": "0000"
             }
            ]
           },
           {
            "closed": true,
            "hours": [
             {
              "close": "+0000",
              "day": 3,
              "open": "0000"
             },
             {
              "close": "+0000",
              "day": 3,
              "open": "0000"
             }
            ]
           },
           {
            "closed": true,
            "hours": [
             {
              "close": "+0000",
              "day": 4,
              "open": "0000"
             },
             {
              "close": "+0000",
              "day": 4,
              "open": "0000"
             }
            ]
           },
           {
            "closed": true,
            "hours": [
             {
              "close": "+0000",
              "day": 5,
              "open": "0000"
             },
             {
              "close": "+0000",
              "day": 5,
              "open": "0000"
             }
            ]
           },
           {
            "closed": true,
            "hours": [
             {
              "close": "+0000",
              "day": 6,
              "open": "0000"
             },
             {
              "close": "+0000",
              "day": 6,
              "open": "0000"
             }
            ]
           },
           {
            "closed": true,
            "hours": [
             {
              "close": "+0000",
              "day": 7,
              "open": "0000"
             },
             {
              "close": "+0000",
              "day": 7,
              "open": "0000"
             }
            ]
           },
           {
            "closed": true,
            "hours": [
             {
              "close": "+0000",
              "day": 1,
              "open": "0000"
             },
             {
              "close": "+0000",
              "day": 1,
              "open": "0000"
             }
            ]
           },
           {
            "closed": true,
            "hours": [
             {
              "close": "+0000",
              "day": 2,
              "open": "0000"
             },
             {
              "close": "+0000",
              "day": 2,
              "open": "0000"
             }
            ]
           },
           {
            "closed": true,
            "hours": [
             {
              "close": "+0000",
              "day": 3,
              "open": "0000"
             },
             {
              "close": "+0000",
              "day": 3,
              "open": "0000"
             }
            ]
           },
           {
            "closed": true,
            "hours": [
             {
              "close": "+0000",
              "day": 4,
              "open": "0000"
             },
             {
              "close": "+0000",
              "day": 4,
              "open": "0000"
             }
            ]
           }
          ]
         },
         "name": "Joe Fresh",
         "popularity": 0.9963401145811326,
         "rating": 7.6
        },
        {
         "categories": [
          {
           "icon": {
            "prefix": "https://ss3.4sqi.net/img/categories_v2/food/icecream_",
            "suffix": ".png"
           },
           "id": 13046,
           "name": "Ice Cream Parlor"
          }
         ],
         "distance": 1051,
         "features": {},
         "fsq_id": "598859002632ec78a08edcc8",
         "geocodes": {
          "main": {
           "latitude": 43.638892,
           "longitude": -79.380628
          },
          "roof": {
           "latitude": 43.638892,
           "longitude": -79.380628
          }
         },
         "hours": {
          "is_local_holiday": false,
          "open_now": false,
          "seasonal": []
         },
         "name": "The Fix",
         "popularity": 0.8428796898107299,
         "rating": 6.3
        },
        {
         "categories": [
          {
           "icon": {
            "prefix": "https://ss3.4sqi.net/img/categories_v2/food/default_",
            "suffix": ".png"
           },
           "id": 13032,
           "name": "Cafes, Coffee, and Tea Houses"
          },
          {
           "icon": {
            "prefix": "https://ss3.4sqi.net/img/categories_v2/food/default_",
            "suffix": ".png"
           },
           "id": 13065,
           "name": "Restaurant"
          }
         ],
         "distance": 1407,
         "features": {
          "food_and_drink": {
           "meals": {
            "breakfast": true
           }
          },
          "payment": {
           "credit_cards": {
            "accepts_credit_cards": false
           },
           "digital_wallet": {
            "accepts_nfc": false
           }
          },
          "services": {
           "dine_in": {
            "groups_only_reservations": false,
            "reservations": false
           }
          }
         },
         "fsq_id": "53af56a1498ee47d2a3a06d7",
         "geocodes": {
          "main": {
           "latitude": 43.638705,
           "longitude": -79.3863
          },
          "roof": {
           "latitude": 43.638705,
           "longitude": -79.3863
          }
         },
         "hours": {
          "display": "Open Daily 7:00-21:00",
          "is_local_holiday": false,
          "open_now": true,
          "regular": [
           {
            "close": "2100",
            "day": 1,
            "open": "0700"
           },
           {
            "close": "2100",
            "day": 2,
            "open": "0700"
           },
           {
            "close": "2100",
            "day": 3,
            "open": "0700"
           },
           {
            "close": "2100",
            "day": 4,
            "open": "0700"
           },
           {
            "close": "2100",
            "day": 5,
            "open": "0700"
           },
           {
            "close": "2100",
            "day": 6,
            "open": "0700"
           },
           {
            "close": "2100",
            "day": 7,
            "open": "0700"
           }
          ],
          "seasonal": []
         },
         "name": "Tim Hortons",
         "popularity": 0.9878894453626953,
         "rating": 7.7
        },
        {
         "categories": [
          {
           "icon": {
            "prefix": "https://ss3.4sqi.net/img/categories_v2/food/sushi_",
            "suffix": ".png"
           },
           "id": 13276,
           "name": "Sushi Restaurant"
          }
         ],
         "distance": 1209,
         "features": {
          "amenities": {
           "live_music": false,
           "outdoor_seating": false
          },
          "food_and_drink": {
           "alcohol": {
            "full_bar": false
           },
           "meals": {
            "brunch": false
           }
          },
          "payment": {
           "credit_cards": {
            "accepts_credit_cards": true
           }
          },
          "services": {
           "delivery": true,
           "dine_in": {
            "reservations": true
           }
          }
         },
         "fsq_id": "4b3d5882f964a520d29225e3",
         "geocodes": {
          "main": {
           "latitude": 43.641819,
           "longitude": -79.375859
          },
          "roof": {
           "latitude": 43.641819,
           "longitude": -79.375859
          }
         },
         "hours": {
          "display": "Mon-Fri 10:00-19:00; Sat-Sun 9:00-18:00",
          "is_local_holiday": false,
          "open_now": true,
          "regular": [
           {
            "close": "1900",
            "day": 1,
            "open": "1000"
           },
           {
            "close": "1900",
            "day": 2,
            "open": "1000"
           },
           {
            "close": "1900",
            "day": 3,
            "open": "1000"
           },
           {
            "close": "1900",
            "day": 4,
            "open": "1000"
           },
           {
            "close": "1900",
            "day": 5,
            "open": "1000"
           },
           {
            "close": "1800",
            "day": 6,
            "open": "0900"
           },
           {
            "close": "1800",
            "day": 7,
            "open": "0900"
           }
          ],
          "seasonal": []
         },
         "name": "Oyshi Sushi",
         "popularity": 0.9450706500801571,
         "rating": 6.9
        },
        {
         "categories": [
          {
           "icon": {
            "prefix": "https://ss3.4sqi.net/img/categories_v2/food/coffeeshop_",
            "suffix": ".png"
           },
           "id": 13035,
           "name": "Coffee Shop"
          }
         ],
         "distance": 1226,
         "features": {
          "amenities": {
           "live_music": false,
           "outdoor_seating": true
          },
          "food_and_drink": {
           "alcohol": {
            "cocktails": false,
            "full_bar": false
           },
           "meals": {
            "breakfast": true,
            "brunch": true,
            "happy_hour": false
           }
          },
          "payment": {
           "credit_cards": {
            "accepts_credit_cards": true
           }
          },
          "services": {
           "delivery": false
          }
         },
         "fsq_id": "4ada6dfcf964a520842221e3",
         "geocodes": {
          "main": {
           "latitude": 43.639975,
           "longitude": -79.381174
          },
          "roof": {
           "latitude": 43.639975,
           "longitude": -79.381174
          }
         },
         "hours": {
          "display": "Mon-Fri 5:30-22:00; Sat-Sun 6:00-22:00",
          "is_local_holiday": false,
          "open_now": true,
          "regular": [
           {
            "close": "2200",
            "day": 1,
            "open": "0530"
           },
           {
            "close": "2200",
            "day": 2,
            "open": "0530"
           },
           {
            "close": "2200",
            "day": 3,
            "open": "0530"
           },
           {
            "close": "2200",
            "day": 4,
            "open": "0530"
           },
           {
            "close": "2200",
            "day": 5,
            "open": "0530"
           },
           {
            "close": "2200",
            "day": 6,
            "open": "0600"
           },
           {
            "close": "2200",
            "day": 7,
            "open": "0600"
           }
          ],
          "seasonal": []
         },
         "name": "Starbucks",
         "popularity": 0.9767668733766637,
         "rating": 6.9
        },
        {
         "categories": [
          {
           "icon": {
            "prefix": "https://ss3.4sqi.net/img/categories_v2/arts_entertainment/musicvenue_",
            "suffix": ".png"
           },
           "id": 10039,
           "name": "Music Venue"
          },
          {
           "icon": {
            "prefix": "https://ss3.4sqi.net/img/categories_v2/arts_entertainment/performingarts_",
            "suffix": ".png"
           },
           "id": 10035,
           "name": "Performing Arts Venue"
          }
         ],
         "distance": 1212,
         "features": {},
         "fsq_id": "4c38f4103849c9285a76c0b1",
         "geocodes": {
          "main": {
           "latitude": 43.638736,
           "longitude": -79.383548
          },
          "roof": {
           "latitude": 43.638736,
           "longitude": -79.383548
          }
         },
         "hours": {
          "is_local_holiday": false,
          "open_now": false,
          "seasonal": []
         },
         "name": "Redpath Stage at Harbourfront",
         "popularity": 0.8753215603912162,
         "rating": 6.9
        },
        {
         "categories": [
          {
           "icon": {
            "prefix": "https://ss3.4sqi.net/img/categories_v2/food/default_",
            "suffix": ".png"
           },
           "id": 13068,
           "name": "American Restaurant"
          },
          {
           "icon": {
            "prefix": "https://ss3.4sqi.net/img/categories_v2/food/newamerican_",
            "suffix": ".png"
           },
           "id": 13314,
           "name": "New American Restaurant"
          },
          {
           "icon": {
            "prefix": "https://ss3.4sqi.net/img/categories_v2/food/steakhouse_",
            "suffix": ".png"
           },
           "id": 13383,
           "name": "Steakhouse"
          }
         ],
         "distance": 1412,
         "features": {
          "amenities": {
           "outdoor_seating": true
          },
          "food_and_drink": {
           "alcohol": {
            "cocktails": true,
            "full_bar": true,
            "wine": true
           },
           "meals": {
            "brunch": true,
            "dinner": true,
            "happy_hour": true,
            "lunch": true
           }
          },
          "payment": {
           "credit_cards": {
            "accepts_credit_cards": true
           }
          },
          "services": {
           "dine_in": {
            "online_reservations": true,
            "reservations": true
           }
          }
         },
         "fsq_id": "4c9fbdd77c096dcbfe43e1d1",
         "geocodes": {
          "main": {
           "latitude": 43.642508,
           "longitude": -79.381063
          },
          "roof": {
           "latitude": 43.642508,
           "longitude": -79.381063
          }
         },
         "hours": {
          "display": "Mon-Sat 12:00-23:59; Sun 10:30-14:30",
          "is_local_holiday": false,
          "open_now": true,
          "regular": [
           {
            "close": "2359",
            "day": 1,
            "open": "1200"
           },
           {
            "close": "2359",
            "day": 2,
            "open": "1200"
           },
           {
            "close": "2359",
            "day": 3,
            "open": "1200"
           },
           {
            "close": "2359",
            "day": 4,
            "open": "1200"
           },
           {
            "close": "2359",
            "day": 5,
            "open": "1200"
           },
           {
            "close": "2359",
            "day": 6,
            "open": "1200"
           },
           {
            "close": "1430",
            "day": 7,
            "open": "1030"
           }
          ],
          "seasonal": []
         },
         "name": "E11Even",
         "popularity": 0.98390644612077,
         "rating": 7.6
        },
        {
         "categories": [
          {
           "icon": {
            "prefix": "https://ss3.4sqi.net/img/categories_v2/arts_entertainment/museum_history_",
            "suffix": ".png"
           },
           "id": 10030,
           "name": "History Museum"
          },
          {
           "icon": {
            "prefix": "https://ss3.4sqi.net/img/categories_v2/parks_outdoors/outdoors_",
            "suffix": ".png"
           },
           "id": 16030,
           "name": "Other Great Outdoors"
          }
         ],
         "distance": 1496,
         "features": {},
         "fsq_id": "4c57636330d82d7f57d3d962",
         "geocodes": {
          "main": {
           "latitude": 43.6409,
           "longitude": -79.385434
          },
          "roof": {
           "latitude": 43.6409,
           "longitude": -79.385434
          }
         },
         "hours": {
          "is_local_holiday": false,
          "open_now": false,
          "seasonal": []
         },
         "name": "Toronto Railway Heritage Centre",
         "popularity": 0.9914250562342327,
         "rating": 8
        },
        {
         "categories": [
          {
           "icon": {
            "prefix": "https://ss3.4sqi.net/img/categories_v2/food/cafe_",
            "suffix": ".png"
           },
           "id": 13034,
           "name": "Café"
          }
         ],
         "distance": 1253,
         "features": {
          "amenities": {
           "outdoor_seating": true
          },
          "food_and_drink": {
           "alcohol": {
            "beer": true,
            "cocktails": true
           },
           "meals": {
            "brunch": true,
            "dinner": true,
            "lunch": true
           }
          }
         },
         "fsq_id": "4bf03befc601a5939873c3d1",
         "geocodes": {
          "main": {
           "latitude": 43.630917,
           "longitude": -79.355902
          },
          "roof": {
           "latitude": 43.630917,
           "longitude": -79.355902
          }
         },
         "hours": {
          "display": "Open Daily 7:00-23:00",
          "is_local_holiday": false,
          "open_now": true,
          "regular": [
           {
            "close": "2300",
            "day": 1,
            "open": "0700"
           },
           {
            "close": "2300",
            "day": 2,
            "open": "0700"
           },
           {
            "close": "2300",
            "day": 3,
            "open": "0700"
           },
           {
            "close": "2300",
            "day": 4,
            "open": "0700"
           },
           {
            "close": "2300",
            "day": 5,
            "open": "0700"
           },
           {
            "close": "2300",
            "day": 6,
            "open": "0700"
           },
           {
            "close": "2300",
            "day": 7,
            "open": "0700"
           }
          ],
          "seasonal": []
         },
         "name": "Island Cafe",
         "popularity": 0.9416779549380492,
         "rating": 7
        }
       ]
      },
      "text/plain": [
       "<IPython.core.display.JSON object>"
      ]
     },
     "execution_count": 5,
     "metadata": {
      "application/json": {
       "expanded": false,
       "root": "root"
      }
     },
     "output_type": "execute_result"
    }
   ],
   "source": [
    "fields = 'fsq_id,name,geocodes,categories,distance,rating,hours,popularity,features'\n",
    "\n",
    "headers = {\"Accept\": \"application/json\",  \"Authorization\": 'fsq3n080DfbZyBZQmDa7lBlZ1Z5ycpNJrKKFnh4ATEPok8o='}\n",
    "# below query is to request the data into json\n",
    "url1 = (f'https://api.foursquare.com/v3/places/search?latitude={lati}&longitude={longi}&fields={fields}&radius=1500&limit=50')\n",
    "response = requests.request(\"GET\", url1 , headers=headers).json()\n",
    "resp = JSON(response)\n",
    "resp"
   ]
  },
  {
   "cell_type": "code",
   "execution_count": 20,
   "id": "50e69182-aa43-4216-8226-4ea4f9869751",
   "metadata": {},
   "outputs": [],
   "source": [
    "entertainment_boston = []\n",
    "for enter in response['results']:\n",
    "    categories = enter.get('categories', None)\n",
    "    cat_id = categories[0]['id'] if len(categories) > 0 else None\n",
    "    category_name = categories[0]['name'] if len(categories) > 0 else None\n",
    "\n",
    "    poi_boston_enter = {'lat-long': f'{lati},{longi}', 'fsq_id': enter['fsq_id'], 'cat_id': cat_id\n",
    "          , 'category_name': category_name, 'categories': categories, 'name': enter.get('name', None)\n",
    "           , 'rating': enter.get('rating', None), 'distance': enter.get('distance', None)\n",
    "          , 'latitude': enter.get('geocodes', {}).get('main', {}).get('latitude', None)\n",
    "          , 'longitude': enter.get('geocodes', {}).get('main', {}).get('longitude', None)\n",
    "          , 'address': enter.get('location', {}).get('formatted_address', None)\n",
    "          , 'popularity': enter.get('popularity', None), 'open_now': enter.get('hours', {}).get('open_now', None)\n",
    "          \n",
    "      }\n",
    "      \n",
    "    entertainment_boston.append(poi_boston_enter)\n",
    "\n"
   ]
  },
  {
   "cell_type": "code",
   "execution_count": 7,
   "id": "148db787-1ba9-48b5-b7cd-4d2795592ad9",
   "metadata": {
    "collapsed": true,
    "jupyter": {
     "outputs_hidden": true
    },
    "tags": []
   },
   "outputs": [
    {
     "data": {
      "text/html": [
       "<div>\n",
       "<style scoped>\n",
       "    .dataframe tbody tr th:only-of-type {\n",
       "        vertical-align: middle;\n",
       "    }\n",
       "\n",
       "    .dataframe tbody tr th {\n",
       "        vertical-align: top;\n",
       "    }\n",
       "\n",
       "    .dataframe thead th {\n",
       "        text-align: right;\n",
       "    }\n",
       "</style>\n",
       "<table border=\"1\" class=\"dataframe\">\n",
       "  <thead>\n",
       "    <tr style=\"text-align: right;\">\n",
       "      <th></th>\n",
       "      <th>lat-long</th>\n",
       "      <th>fsq_id</th>\n",
       "      <th>cat_id</th>\n",
       "      <th>category_name</th>\n",
       "      <th>categories</th>\n",
       "      <th>name</th>\n",
       "      <th>rating</th>\n",
       "      <th>distance</th>\n",
       "      <th>latitude</th>\n",
       "      <th>longitude</th>\n",
       "      <th>address</th>\n",
       "      <th>popularity</th>\n",
       "      <th>open_now</th>\n",
       "    </tr>\n",
       "  </thead>\n",
       "  <tbody>\n",
       "    <tr>\n",
       "      <th>0</th>\n",
       "      <td>0      42.386781\\n1      42.368844\\n2      42....</td>\n",
       "      <td>4e49413e81dc766f3e3d6312</td>\n",
       "      <td>16032</td>\n",
       "      <td>Park</td>\n",
       "      <td>[{'id': 16032, 'name': 'Park', 'icon': {'prefi...</td>\n",
       "      <td>Harbour Square Park</td>\n",
       "      <td>9.3</td>\n",
       "      <td>983</td>\n",
       "      <td>43.639288</td>\n",
       "      <td>-79.378261</td>\n",
       "      <td>None</td>\n",
       "      <td>0.995420</td>\n",
       "      <td>False</td>\n",
       "    </tr>\n",
       "    <tr>\n",
       "      <th>1</th>\n",
       "      <td>0      42.386781\\n1      42.368844\\n2      42....</td>\n",
       "      <td>4ad4c062f964a520bff720e3</td>\n",
       "      <td>18025</td>\n",
       "      <td>Dance Studio</td>\n",
       "      <td>[{'id': 18025, 'name': 'Dance Studio', 'icon':...</td>\n",
       "      <td>Fleck Dance Theater</td>\n",
       "      <td>8.3</td>\n",
       "      <td>1007</td>\n",
       "      <td>43.638298</td>\n",
       "      <td>-79.380300</td>\n",
       "      <td>None</td>\n",
       "      <td>0.934638</td>\n",
       "      <td>False</td>\n",
       "    </tr>\n",
       "    <tr>\n",
       "      <th>2</th>\n",
       "      <td>0      42.386781\\n1      42.368844\\n2      42....</td>\n",
       "      <td>4ae33054f964a520759121e3</td>\n",
       "      <td>13049</td>\n",
       "      <td>Diner</td>\n",
       "      <td>[{'id': 13049, 'name': 'Diner', 'icon': {'pref...</td>\n",
       "      <td>Pearl Harbourfront Restaurant</td>\n",
       "      <td>8.2</td>\n",
       "      <td>1009</td>\n",
       "      <td>43.639446</td>\n",
       "      <td>-79.380716</td>\n",
       "      <td>None</td>\n",
       "      <td>0.974126</td>\n",
       "      <td>True</td>\n",
       "    </tr>\n",
       "    <tr>\n",
       "      <th>3</th>\n",
       "      <td>0      42.386781\\n1      42.368844\\n2      42....</td>\n",
       "      <td>55a19437498eeea53fa58b54</td>\n",
       "      <td>13040</td>\n",
       "      <td>Dessert Shop</td>\n",
       "      <td>[{'id': 13040, 'name': 'Dessert Shop', 'icon':...</td>\n",
       "      <td>BeaverTails</td>\n",
       "      <td>8.5</td>\n",
       "      <td>1105</td>\n",
       "      <td>43.639722</td>\n",
       "      <td>-79.380012</td>\n",
       "      <td>None</td>\n",
       "      <td>0.990077</td>\n",
       "      <td>False</td>\n",
       "    </tr>\n",
       "    <tr>\n",
       "      <th>4</th>\n",
       "      <td>0      42.386781\\n1      42.368844\\n2      42....</td>\n",
       "      <td>597b72811b0ea5223f9f77f7</td>\n",
       "      <td>13046</td>\n",
       "      <td>Ice Cream Parlor</td>\n",
       "      <td>[{'id': 13046, 'name': 'Ice Cream Parlor', 'ic...</td>\n",
       "      <td>Joe Bird</td>\n",
       "      <td>7.6</td>\n",
       "      <td>993</td>\n",
       "      <td>43.638513</td>\n",
       "      <td>-79.380428</td>\n",
       "      <td>None</td>\n",
       "      <td>0.963084</td>\n",
       "      <td>True</td>\n",
       "    </tr>\n",
       "    <tr>\n",
       "      <th>5</th>\n",
       "      <td>0      42.386781\\n1      42.368844\\n2      42....</td>\n",
       "      <td>56201ed4498e7f700c462170</td>\n",
       "      <td>13276</td>\n",
       "      <td>Sushi Restaurant</td>\n",
       "      <td>[{'id': 13276, 'name': 'Sushi Restaurant', 'ic...</td>\n",
       "      <td>Miku</td>\n",
       "      <td>9.0</td>\n",
       "      <td>1156</td>\n",
       "      <td>43.641379</td>\n",
       "      <td>-79.377285</td>\n",
       "      <td>None</td>\n",
       "      <td>0.983583</td>\n",
       "      <td>True</td>\n",
       "    </tr>\n",
       "    <tr>\n",
       "      <th>6</th>\n",
       "      <td>0      42.386781\\n1      42.368844\\n2      42....</td>\n",
       "      <td>4ad4c05ef964a52094f620e3</td>\n",
       "      <td>10039</td>\n",
       "      <td>Music Venue</td>\n",
       "      <td>[{'id': 10039, 'name': 'Music Venue', 'icon': ...</td>\n",
       "      <td>Harbourfront Centre</td>\n",
       "      <td>9.1</td>\n",
       "      <td>1190</td>\n",
       "      <td>43.638953</td>\n",
       "      <td>-79.382881</td>\n",
       "      <td>None</td>\n",
       "      <td>0.991450</td>\n",
       "      <td>True</td>\n",
       "    </tr>\n",
       "    <tr>\n",
       "      <th>7</th>\n",
       "      <td>0      42.386781\\n1      42.368844\\n2      42....</td>\n",
       "      <td>4ad4c05ff964a520edf620e3</td>\n",
       "      <td>10004</td>\n",
       "      <td>Art Gallery</td>\n",
       "      <td>[{'id': 10004, 'name': 'Art Gallery', 'icon': ...</td>\n",
       "      <td>The Power Plant</td>\n",
       "      <td>7.9</td>\n",
       "      <td>1095</td>\n",
       "      <td>43.638252</td>\n",
       "      <td>-79.381993</td>\n",
       "      <td>None</td>\n",
       "      <td>0.955820</td>\n",
       "      <td>False</td>\n",
       "    </tr>\n",
       "    <tr>\n",
       "      <th>8</th>\n",
       "      <td>0      42.386781\\n1      42.368844\\n2      42....</td>\n",
       "      <td>57768fb1498ec8fca5cc0594</td>\n",
       "      <td>13003</td>\n",
       "      <td>Bar</td>\n",
       "      <td>[{'id': 13003, 'name': 'Bar', 'icon': {'prefix...</td>\n",
       "      <td>Boxcar Social</td>\n",
       "      <td>8.1</td>\n",
       "      <td>1128</td>\n",
       "      <td>43.639175</td>\n",
       "      <td>-79.382916</td>\n",
       "      <td>None</td>\n",
       "      <td>0.943362</td>\n",
       "      <td>True</td>\n",
       "    </tr>\n",
       "    <tr>\n",
       "      <th>9</th>\n",
       "      <td>0      42.386781\\n1      42.368844\\n2      42....</td>\n",
       "      <td>4ad4c05ef964a5209af620e3</td>\n",
       "      <td>16032</td>\n",
       "      <td>Park</td>\n",
       "      <td>[{'id': 16032, 'name': 'Park', 'icon': {'prefi...</td>\n",
       "      <td>Toronto Islands</td>\n",
       "      <td>9.3</td>\n",
       "      <td>1220</td>\n",
       "      <td>43.621986</td>\n",
       "      <td>-79.378500</td>\n",
       "      <td>None</td>\n",
       "      <td>0.999037</td>\n",
       "      <td>False</td>\n",
       "    </tr>\n",
       "  </tbody>\n",
       "</table>\n",
       "</div>"
      ],
      "text/plain": [
       "                                            lat-long  \\\n",
       "0  0      42.386781\\n1      42.368844\\n2      42....   \n",
       "1  0      42.386781\\n1      42.368844\\n2      42....   \n",
       "2  0      42.386781\\n1      42.368844\\n2      42....   \n",
       "3  0      42.386781\\n1      42.368844\\n2      42....   \n",
       "4  0      42.386781\\n1      42.368844\\n2      42....   \n",
       "5  0      42.386781\\n1      42.368844\\n2      42....   \n",
       "6  0      42.386781\\n1      42.368844\\n2      42....   \n",
       "7  0      42.386781\\n1      42.368844\\n2      42....   \n",
       "8  0      42.386781\\n1      42.368844\\n2      42....   \n",
       "9  0      42.386781\\n1      42.368844\\n2      42....   \n",
       "\n",
       "                     fsq_id  cat_id     category_name  \\\n",
       "0  4e49413e81dc766f3e3d6312   16032              Park   \n",
       "1  4ad4c062f964a520bff720e3   18025      Dance Studio   \n",
       "2  4ae33054f964a520759121e3   13049             Diner   \n",
       "3  55a19437498eeea53fa58b54   13040      Dessert Shop   \n",
       "4  597b72811b0ea5223f9f77f7   13046  Ice Cream Parlor   \n",
       "5  56201ed4498e7f700c462170   13276  Sushi Restaurant   \n",
       "6  4ad4c05ef964a52094f620e3   10039       Music Venue   \n",
       "7  4ad4c05ff964a520edf620e3   10004       Art Gallery   \n",
       "8  57768fb1498ec8fca5cc0594   13003               Bar   \n",
       "9  4ad4c05ef964a5209af620e3   16032              Park   \n",
       "\n",
       "                                          categories  \\\n",
       "0  [{'id': 16032, 'name': 'Park', 'icon': {'prefi...   \n",
       "1  [{'id': 18025, 'name': 'Dance Studio', 'icon':...   \n",
       "2  [{'id': 13049, 'name': 'Diner', 'icon': {'pref...   \n",
       "3  [{'id': 13040, 'name': 'Dessert Shop', 'icon':...   \n",
       "4  [{'id': 13046, 'name': 'Ice Cream Parlor', 'ic...   \n",
       "5  [{'id': 13276, 'name': 'Sushi Restaurant', 'ic...   \n",
       "6  [{'id': 10039, 'name': 'Music Venue', 'icon': ...   \n",
       "7  [{'id': 10004, 'name': 'Art Gallery', 'icon': ...   \n",
       "8  [{'id': 13003, 'name': 'Bar', 'icon': {'prefix...   \n",
       "9  [{'id': 16032, 'name': 'Park', 'icon': {'prefi...   \n",
       "\n",
       "                            name  rating  distance   latitude  longitude  \\\n",
       "0            Harbour Square Park     9.3       983  43.639288 -79.378261   \n",
       "1            Fleck Dance Theater     8.3      1007  43.638298 -79.380300   \n",
       "2  Pearl Harbourfront Restaurant     8.2      1009  43.639446 -79.380716   \n",
       "3                    BeaverTails     8.5      1105  43.639722 -79.380012   \n",
       "4                       Joe Bird     7.6       993  43.638513 -79.380428   \n",
       "5                           Miku     9.0      1156  43.641379 -79.377285   \n",
       "6            Harbourfront Centre     9.1      1190  43.638953 -79.382881   \n",
       "7                The Power Plant     7.9      1095  43.638252 -79.381993   \n",
       "8                  Boxcar Social     8.1      1128  43.639175 -79.382916   \n",
       "9                Toronto Islands     9.3      1220  43.621986 -79.378500   \n",
       "\n",
       "  address  popularity  open_now  \n",
       "0    None    0.995420     False  \n",
       "1    None    0.934638     False  \n",
       "2    None    0.974126      True  \n",
       "3    None    0.990077     False  \n",
       "4    None    0.963084      True  \n",
       "5    None    0.983583      True  \n",
       "6    None    0.991450      True  \n",
       "7    None    0.955820     False  \n",
       "8    None    0.943362      True  \n",
       "9    None    0.999037     False  "
      ]
     },
     "execution_count": 7,
     "metadata": {},
     "output_type": "execute_result"
    }
   ],
   "source": [
    "boston_entrtanmnt = pd.DataFrame(entertainment_boston)\n",
    "boston_entrtanmnt.head(10)"
   ]
  },
  {
   "cell_type": "code",
   "execution_count": 8,
   "id": "2ec7da64-3f53-4d8a-a4b1-ec8e5c054e64",
   "metadata": {
    "collapsed": true,
    "jupyter": {
     "outputs_hidden": true
    },
    "tags": []
   },
   "outputs": [
    {
     "data": {
      "text/html": [
       "<div>\n",
       "<style scoped>\n",
       "    .dataframe tbody tr th:only-of-type {\n",
       "        vertical-align: middle;\n",
       "    }\n",
       "\n",
       "    .dataframe tbody tr th {\n",
       "        vertical-align: top;\n",
       "    }\n",
       "\n",
       "    .dataframe thead th {\n",
       "        text-align: right;\n",
       "    }\n",
       "</style>\n",
       "<table border=\"1\" class=\"dataframe\">\n",
       "  <thead>\n",
       "    <tr style=\"text-align: right;\">\n",
       "      <th></th>\n",
       "      <th>lat-long</th>\n",
       "      <th>cat_id</th>\n",
       "      <th>category_name</th>\n",
       "      <th>name</th>\n",
       "      <th>rating</th>\n",
       "      <th>distance</th>\n",
       "      <th>latitude</th>\n",
       "      <th>longitude</th>\n",
       "      <th>address</th>\n",
       "      <th>popularity</th>\n",
       "      <th>open_now</th>\n",
       "    </tr>\n",
       "  </thead>\n",
       "  <tbody>\n",
       "    <tr>\n",
       "      <th>0</th>\n",
       "      <td>0      42.386781\\n1      42.368844\\n2      42....</td>\n",
       "      <td>16032</td>\n",
       "      <td>Park</td>\n",
       "      <td>Harbour Square Park</td>\n",
       "      <td>9.3</td>\n",
       "      <td>983</td>\n",
       "      <td>43.639288</td>\n",
       "      <td>-79.378261</td>\n",
       "      <td>None</td>\n",
       "      <td>0.995420</td>\n",
       "      <td>False</td>\n",
       "    </tr>\n",
       "    <tr>\n",
       "      <th>1</th>\n",
       "      <td>0      42.386781\\n1      42.368844\\n2      42....</td>\n",
       "      <td>18025</td>\n",
       "      <td>Dance Studio</td>\n",
       "      <td>Fleck Dance Theater</td>\n",
       "      <td>8.3</td>\n",
       "      <td>1007</td>\n",
       "      <td>43.638298</td>\n",
       "      <td>-79.380300</td>\n",
       "      <td>None</td>\n",
       "      <td>0.934638</td>\n",
       "      <td>False</td>\n",
       "    </tr>\n",
       "    <tr>\n",
       "      <th>2</th>\n",
       "      <td>0      42.386781\\n1      42.368844\\n2      42....</td>\n",
       "      <td>13049</td>\n",
       "      <td>Diner</td>\n",
       "      <td>Pearl Harbourfront Restaurant</td>\n",
       "      <td>8.2</td>\n",
       "      <td>1009</td>\n",
       "      <td>43.639446</td>\n",
       "      <td>-79.380716</td>\n",
       "      <td>None</td>\n",
       "      <td>0.974126</td>\n",
       "      <td>True</td>\n",
       "    </tr>\n",
       "    <tr>\n",
       "      <th>3</th>\n",
       "      <td>0      42.386781\\n1      42.368844\\n2      42....</td>\n",
       "      <td>13040</td>\n",
       "      <td>Dessert Shop</td>\n",
       "      <td>BeaverTails</td>\n",
       "      <td>8.5</td>\n",
       "      <td>1105</td>\n",
       "      <td>43.639722</td>\n",
       "      <td>-79.380012</td>\n",
       "      <td>None</td>\n",
       "      <td>0.990077</td>\n",
       "      <td>False</td>\n",
       "    </tr>\n",
       "    <tr>\n",
       "      <th>4</th>\n",
       "      <td>0      42.386781\\n1      42.368844\\n2      42....</td>\n",
       "      <td>13046</td>\n",
       "      <td>Ice Cream Parlor</td>\n",
       "      <td>Joe Bird</td>\n",
       "      <td>7.6</td>\n",
       "      <td>993</td>\n",
       "      <td>43.638513</td>\n",
       "      <td>-79.380428</td>\n",
       "      <td>None</td>\n",
       "      <td>0.963084</td>\n",
       "      <td>True</td>\n",
       "    </tr>\n",
       "    <tr>\n",
       "      <th>5</th>\n",
       "      <td>0      42.386781\\n1      42.368844\\n2      42....</td>\n",
       "      <td>13276</td>\n",
       "      <td>Sushi Restaurant</td>\n",
       "      <td>Miku</td>\n",
       "      <td>9.0</td>\n",
       "      <td>1156</td>\n",
       "      <td>43.641379</td>\n",
       "      <td>-79.377285</td>\n",
       "      <td>None</td>\n",
       "      <td>0.983583</td>\n",
       "      <td>True</td>\n",
       "    </tr>\n",
       "    <tr>\n",
       "      <th>6</th>\n",
       "      <td>0      42.386781\\n1      42.368844\\n2      42....</td>\n",
       "      <td>10039</td>\n",
       "      <td>Music Venue</td>\n",
       "      <td>Harbourfront Centre</td>\n",
       "      <td>9.1</td>\n",
       "      <td>1190</td>\n",
       "      <td>43.638953</td>\n",
       "      <td>-79.382881</td>\n",
       "      <td>None</td>\n",
       "      <td>0.991450</td>\n",
       "      <td>True</td>\n",
       "    </tr>\n",
       "    <tr>\n",
       "      <th>7</th>\n",
       "      <td>0      42.386781\\n1      42.368844\\n2      42....</td>\n",
       "      <td>10004</td>\n",
       "      <td>Art Gallery</td>\n",
       "      <td>The Power Plant</td>\n",
       "      <td>7.9</td>\n",
       "      <td>1095</td>\n",
       "      <td>43.638252</td>\n",
       "      <td>-79.381993</td>\n",
       "      <td>None</td>\n",
       "      <td>0.955820</td>\n",
       "      <td>False</td>\n",
       "    </tr>\n",
       "    <tr>\n",
       "      <th>8</th>\n",
       "      <td>0      42.386781\\n1      42.368844\\n2      42....</td>\n",
       "      <td>13003</td>\n",
       "      <td>Bar</td>\n",
       "      <td>Boxcar Social</td>\n",
       "      <td>8.1</td>\n",
       "      <td>1128</td>\n",
       "      <td>43.639175</td>\n",
       "      <td>-79.382916</td>\n",
       "      <td>None</td>\n",
       "      <td>0.943362</td>\n",
       "      <td>True</td>\n",
       "    </tr>\n",
       "    <tr>\n",
       "      <th>9</th>\n",
       "      <td>0      42.386781\\n1      42.368844\\n2      42....</td>\n",
       "      <td>16032</td>\n",
       "      <td>Park</td>\n",
       "      <td>Toronto Islands</td>\n",
       "      <td>9.3</td>\n",
       "      <td>1220</td>\n",
       "      <td>43.621986</td>\n",
       "      <td>-79.378500</td>\n",
       "      <td>None</td>\n",
       "      <td>0.999037</td>\n",
       "      <td>False</td>\n",
       "    </tr>\n",
       "    <tr>\n",
       "      <th>10</th>\n",
       "      <td>0      42.386781\\n1      42.368844\\n2      42....</td>\n",
       "      <td>13035</td>\n",
       "      <td>Coffee Shop</td>\n",
       "      <td>Mos Mos</td>\n",
       "      <td>8.5</td>\n",
       "      <td>1183</td>\n",
       "      <td>43.641640</td>\n",
       "      <td>-79.377552</td>\n",
       "      <td>None</td>\n",
       "      <td>0.987169</td>\n",
       "      <td>False</td>\n",
       "    </tr>\n",
       "    <tr>\n",
       "      <th>11</th>\n",
       "      <td>0      42.386781\\n1      42.368844\\n2      42....</td>\n",
       "      <td>13029</td>\n",
       "      <td>Brewery</td>\n",
       "      <td>Labatt Breweries of Canada</td>\n",
       "      <td>7.3</td>\n",
       "      <td>1001</td>\n",
       "      <td>43.639446</td>\n",
       "      <td>-79.380716</td>\n",
       "      <td>None</td>\n",
       "      <td>0.838729</td>\n",
       "      <td>False</td>\n",
       "    </tr>\n",
       "    <tr>\n",
       "      <th>12</th>\n",
       "      <td>0      42.386781\\n1      42.368844\\n2      42....</td>\n",
       "      <td>13064</td>\n",
       "      <td>Pizzeria</td>\n",
       "      <td>Pie Bar</td>\n",
       "      <td>7.3</td>\n",
       "      <td>1002</td>\n",
       "      <td>43.638552</td>\n",
       "      <td>-79.380667</td>\n",
       "      <td>None</td>\n",
       "      <td>0.907770</td>\n",
       "      <td>True</td>\n",
       "    </tr>\n",
       "    <tr>\n",
       "      <th>13</th>\n",
       "      <td>0      42.386781\\n1      42.368844\\n2      42....</td>\n",
       "      <td>13033</td>\n",
       "      <td>Bubble Tea Shop</td>\n",
       "      <td>Sharetea Waterfront</td>\n",
       "      <td>7.9</td>\n",
       "      <td>1123</td>\n",
       "      <td>43.640056</td>\n",
       "      <td>-79.379271</td>\n",
       "      <td>None</td>\n",
       "      <td>0.942020</td>\n",
       "      <td>True</td>\n",
       "    </tr>\n",
       "    <tr>\n",
       "      <th>14</th>\n",
       "      <td>0      42.386781\\n1      42.368844\\n2      42....</td>\n",
       "      <td>17076</td>\n",
       "      <td>Liquor Store</td>\n",
       "      <td>Lcbo</td>\n",
       "      <td>8.3</td>\n",
       "      <td>1229</td>\n",
       "      <td>43.642961</td>\n",
       "      <td>-79.372488</td>\n",
       "      <td>None</td>\n",
       "      <td>0.995017</td>\n",
       "      <td>True</td>\n",
       "    </tr>\n",
       "    <tr>\n",
       "      <th>15</th>\n",
       "      <td>0      42.386781\\n1      42.368844\\n2      42....</td>\n",
       "      <td>16032</td>\n",
       "      <td>Park</td>\n",
       "      <td>Snake Island</td>\n",
       "      <td>7.0</td>\n",
       "      <td>1017</td>\n",
       "      <td>43.624590</td>\n",
       "      <td>-79.363982</td>\n",
       "      <td>None</td>\n",
       "      <td>0.933432</td>\n",
       "      <td>False</td>\n",
       "    </tr>\n",
       "    <tr>\n",
       "      <th>16</th>\n",
       "      <td>0      42.386781\\n1      42.368844\\n2      42....</td>\n",
       "      <td>13006</td>\n",
       "      <td>Beer Bar</td>\n",
       "      <td>Amsterdam BrewHouse</td>\n",
       "      <td>8.1</td>\n",
       "      <td>1267</td>\n",
       "      <td>43.637970</td>\n",
       "      <td>-79.384828</td>\n",
       "      <td>None</td>\n",
       "      <td>0.991301</td>\n",
       "      <td>True</td>\n",
       "    </tr>\n",
       "    <tr>\n",
       "      <th>17</th>\n",
       "      <td>0      42.386781\\n1      42.368844\\n2      42....</td>\n",
       "      <td>13177</td>\n",
       "      <td>Greek Restaurant</td>\n",
       "      <td>Alexandro's World Famous Gyros</td>\n",
       "      <td>7.3</td>\n",
       "      <td>1123</td>\n",
       "      <td>43.641526</td>\n",
       "      <td>-79.375252</td>\n",
       "      <td>None</td>\n",
       "      <td>0.990120</td>\n",
       "      <td>False</td>\n",
       "    </tr>\n",
       "    <tr>\n",
       "      <th>18</th>\n",
       "      <td>0      42.386781\\n1      42.368844\\n2      42....</td>\n",
       "      <td>13383</td>\n",
       "      <td>Steakhouse</td>\n",
       "      <td>Harbour Sixty Steakhouse</td>\n",
       "      <td>7.9</td>\n",
       "      <td>1255</td>\n",
       "      <td>43.642089</td>\n",
       "      <td>-79.378332</td>\n",
       "      <td>None</td>\n",
       "      <td>0.991257</td>\n",
       "      <td>True</td>\n",
       "    </tr>\n",
       "    <tr>\n",
       "      <th>19</th>\n",
       "      <td>0      42.386781\\n1      42.368844\\n2      42....</td>\n",
       "      <td>16041</td>\n",
       "      <td>Plaza</td>\n",
       "      <td>Ontario Square</td>\n",
       "      <td>7.5</td>\n",
       "      <td>1184</td>\n",
       "      <td>43.639314</td>\n",
       "      <td>-79.381770</td>\n",
       "      <td>None</td>\n",
       "      <td>0.945108</td>\n",
       "      <td>False</td>\n",
       "    </tr>\n",
       "    <tr>\n",
       "      <th>20</th>\n",
       "      <td>0      42.386781\\n1      42.368844\\n2      42....</td>\n",
       "      <td>13035</td>\n",
       "      <td>Coffee Shop</td>\n",
       "      <td>Aroma Espresso Bar</td>\n",
       "      <td>7.2</td>\n",
       "      <td>1127</td>\n",
       "      <td>43.640946</td>\n",
       "      <td>-79.378618</td>\n",
       "      <td>None</td>\n",
       "      <td>0.972461</td>\n",
       "      <td>True</td>\n",
       "    </tr>\n",
       "    <tr>\n",
       "      <th>21</th>\n",
       "      <td>0      42.386781\\n1      42.368844\\n2      42....</td>\n",
       "      <td>16003</td>\n",
       "      <td>Beach</td>\n",
       "      <td>Canada's Sugar Beach</td>\n",
       "      <td>8.1</td>\n",
       "      <td>1319</td>\n",
       "      <td>43.643368</td>\n",
       "      <td>-79.367645</td>\n",
       "      <td>None</td>\n",
       "      <td>0.988418</td>\n",
       "      <td>False</td>\n",
       "    </tr>\n",
       "    <tr>\n",
       "      <th>22</th>\n",
       "      <td>0      42.386781\\n1      42.368844\\n2      42....</td>\n",
       "      <td>10039</td>\n",
       "      <td>Music Venue</td>\n",
       "      <td>Enwave Theatre</td>\n",
       "      <td>7.2</td>\n",
       "      <td>1140</td>\n",
       "      <td>43.638660</td>\n",
       "      <td>-79.382274</td>\n",
       "      <td>None</td>\n",
       "      <td>0.122031</td>\n",
       "      <td>False</td>\n",
       "    </tr>\n",
       "    <tr>\n",
       "      <th>23</th>\n",
       "      <td>0      42.386781\\n1      42.368844\\n2      42....</td>\n",
       "      <td>13016</td>\n",
       "      <td>Lounge</td>\n",
       "      <td>Air Canada Signature Club</td>\n",
       "      <td>8.6</td>\n",
       "      <td>1397</td>\n",
       "      <td>43.643439</td>\n",
       "      <td>-79.379061</td>\n",
       "      <td>None</td>\n",
       "      <td>0.976580</td>\n",
       "      <td>False</td>\n",
       "    </tr>\n",
       "    <tr>\n",
       "      <th>24</th>\n",
       "      <td>0      42.386781\\n1      42.368844\\n2      42....</td>\n",
       "      <td>13272</td>\n",
       "      <td>Ramen Restaurant</td>\n",
       "      <td>Kinton Ramen</td>\n",
       "      <td>7.6</td>\n",
       "      <td>1240</td>\n",
       "      <td>43.641498</td>\n",
       "      <td>-79.380295</td>\n",
       "      <td>None</td>\n",
       "      <td>0.958666</td>\n",
       "      <td>True</td>\n",
       "    </tr>\n",
       "    <tr>\n",
       "      <th>25</th>\n",
       "      <td>0      42.386781\\n1      42.368844\\n2      42....</td>\n",
       "      <td>17043</td>\n",
       "      <td>Clothing Store</td>\n",
       "      <td>Real Sports Apparel</td>\n",
       "      <td>8.6</td>\n",
       "      <td>1400</td>\n",
       "      <td>43.642345</td>\n",
       "      <td>-79.380990</td>\n",
       "      <td>None</td>\n",
       "      <td>0.986833</td>\n",
       "      <td>True</td>\n",
       "    </tr>\n",
       "    <tr>\n",
       "      <th>26</th>\n",
       "      <td>0      42.386781\\n1      42.368844\\n2      42....</td>\n",
       "      <td>10051</td>\n",
       "      <td>Stadium</td>\n",
       "      <td>Scotiabank Arena</td>\n",
       "      <td>8.7</td>\n",
       "      <td>1416</td>\n",
       "      <td>43.643485</td>\n",
       "      <td>-79.379209</td>\n",
       "      <td>None</td>\n",
       "      <td>0.999851</td>\n",
       "      <td>True</td>\n",
       "    </tr>\n",
       "    <tr>\n",
       "      <th>27</th>\n",
       "      <td>0      42.386781\\n1      42.368844\\n2      42....</td>\n",
       "      <td>13034</td>\n",
       "      <td>Café</td>\n",
       "      <td>World Café at Harbourfront Centre</td>\n",
       "      <td>7.2</td>\n",
       "      <td>1166</td>\n",
       "      <td>43.638347</td>\n",
       "      <td>-79.383046</td>\n",
       "      <td>None</td>\n",
       "      <td>0.875632</td>\n",
       "      <td>False</td>\n",
       "    </tr>\n",
       "    <tr>\n",
       "      <th>28</th>\n",
       "      <td>0      42.386781\\n1      42.368844\\n2      42....</td>\n",
       "      <td>16046</td>\n",
       "      <td>Scenic Lookout</td>\n",
       "      <td>Harbourfront Wavedecks</td>\n",
       "      <td>7.8</td>\n",
       "      <td>1320</td>\n",
       "      <td>43.638799</td>\n",
       "      <td>-79.385006</td>\n",
       "      <td>None</td>\n",
       "      <td>0.983596</td>\n",
       "      <td>False</td>\n",
       "    </tr>\n",
       "    <tr>\n",
       "      <th>29</th>\n",
       "      <td>0      42.386781\\n1      42.368844\\n2      42....</td>\n",
       "      <td>16041</td>\n",
       "      <td>Plaza</td>\n",
       "      <td>Maple Leaf Square</td>\n",
       "      <td>8.6</td>\n",
       "      <td>1435</td>\n",
       "      <td>43.642925</td>\n",
       "      <td>-79.380892</td>\n",
       "      <td>None</td>\n",
       "      <td>0.996800</td>\n",
       "      <td>False</td>\n",
       "    </tr>\n",
       "    <tr>\n",
       "      <th>30</th>\n",
       "      <td>0      42.386781\\n1      42.368844\\n2      42....</td>\n",
       "      <td>13022</td>\n",
       "      <td>Sports Bar</td>\n",
       "      <td>RS - Real Sports</td>\n",
       "      <td>8.0</td>\n",
       "      <td>1362</td>\n",
       "      <td>43.642558</td>\n",
       "      <td>-79.379965</td>\n",
       "      <td>None</td>\n",
       "      <td>0.987921</td>\n",
       "      <td>False</td>\n",
       "    </tr>\n",
       "    <tr>\n",
       "      <th>31</th>\n",
       "      <td>0      42.386781\\n1      42.368844\\n2      42....</td>\n",
       "      <td>16032</td>\n",
       "      <td>Park</td>\n",
       "      <td>Roundhouse Park</td>\n",
       "      <td>9.3</td>\n",
       "      <td>1495</td>\n",
       "      <td>43.641208</td>\n",
       "      <td>-79.385063</td>\n",
       "      <td>None</td>\n",
       "      <td>0.998279</td>\n",
       "      <td>False</td>\n",
       "    </tr>\n",
       "    <tr>\n",
       "      <th>32</th>\n",
       "      <td>0      42.386781\\n1      42.368844\\n2      42....</td>\n",
       "      <td>13039</td>\n",
       "      <td>Deli</td>\n",
       "      <td>Evviva Breakfast Restaurant</td>\n",
       "      <td>8.3</td>\n",
       "      <td>1437</td>\n",
       "      <td>43.641002</td>\n",
       "      <td>-79.383254</td>\n",
       "      <td>None</td>\n",
       "      <td>0.990462</td>\n",
       "      <td>False</td>\n",
       "    </tr>\n",
       "    <tr>\n",
       "      <th>33</th>\n",
       "      <td>0      42.386781\\n1      42.368844\\n2      42....</td>\n",
       "      <td>10001</td>\n",
       "      <td>Amusement Park</td>\n",
       "      <td>Centreville Amusement Park</td>\n",
       "      <td>7.5</td>\n",
       "      <td>1293</td>\n",
       "      <td>43.620480</td>\n",
       "      <td>-79.373729</td>\n",
       "      <td>None</td>\n",
       "      <td>0.995955</td>\n",
       "      <td>False</td>\n",
       "    </tr>\n",
       "    <tr>\n",
       "      <th>34</th>\n",
       "      <td>0      42.386781\\n1      42.368844\\n2      42....</td>\n",
       "      <td>13065</td>\n",
       "      <td>Restaurant</td>\n",
       "      <td>The Goodman Pub and Kitchen</td>\n",
       "      <td>6.3</td>\n",
       "      <td>981</td>\n",
       "      <td>43.638898</td>\n",
       "      <td>-79.380536</td>\n",
       "      <td>None</td>\n",
       "      <td>0.976873</td>\n",
       "      <td>True</td>\n",
       "    </tr>\n",
       "    <tr>\n",
       "      <th>35</th>\n",
       "      <td>0      42.386781\\n1      42.368844\\n2      42....</td>\n",
       "      <td>17117</td>\n",
       "      <td>Sporting Goods Retail</td>\n",
       "      <td>Sport Chek Maple Leaf Square</td>\n",
       "      <td>8.1</td>\n",
       "      <td>1418</td>\n",
       "      <td>43.642306</td>\n",
       "      <td>-79.380751</td>\n",
       "      <td>None</td>\n",
       "      <td>0.995389</td>\n",
       "      <td>True</td>\n",
       "    </tr>\n",
       "    <tr>\n",
       "      <th>36</th>\n",
       "      <td>0      42.386781\\n1      42.368844\\n2      42....</td>\n",
       "      <td>16003</td>\n",
       "      <td>Beach</td>\n",
       "      <td>Wards Beach</td>\n",
       "      <td>8.2</td>\n",
       "      <td>1430</td>\n",
       "      <td>43.630111</td>\n",
       "      <td>-79.353859</td>\n",
       "      <td>None</td>\n",
       "      <td>0.966359</td>\n",
       "      <td>False</td>\n",
       "    </tr>\n",
       "    <tr>\n",
       "      <th>37</th>\n",
       "      <td>0      42.386781\\n1      42.368844\\n2      42....</td>\n",
       "      <td>10037</td>\n",
       "      <td>Concert Hall</td>\n",
       "      <td>WestJet Stage</td>\n",
       "      <td>6.9</td>\n",
       "      <td>1176</td>\n",
       "      <td>43.637966</td>\n",
       "      <td>-79.383332</td>\n",
       "      <td>None</td>\n",
       "      <td>0.930885</td>\n",
       "      <td>False</td>\n",
       "    </tr>\n",
       "    <tr>\n",
       "      <th>38</th>\n",
       "      <td>0      42.386781\\n1      42.368844\\n2      42....</td>\n",
       "      <td>13039</td>\n",
       "      <td>Deli</td>\n",
       "      <td>Subway</td>\n",
       "      <td>7.3</td>\n",
       "      <td>1288</td>\n",
       "      <td>43.639560</td>\n",
       "      <td>-79.383435</td>\n",
       "      <td>None</td>\n",
       "      <td>0.963991</td>\n",
       "      <td>True</td>\n",
       "    </tr>\n",
       "    <tr>\n",
       "      <th>39</th>\n",
       "      <td>0      42.386781\\n1      42.368844\\n2      42....</td>\n",
       "      <td>13034</td>\n",
       "      <td>Café</td>\n",
       "      <td>Lavazza Espression</td>\n",
       "      <td>6.9</td>\n",
       "      <td>1178</td>\n",
       "      <td>43.639314</td>\n",
       "      <td>-79.381770</td>\n",
       "      <td>None</td>\n",
       "      <td>0.864317</td>\n",
       "      <td>True</td>\n",
       "    </tr>\n",
       "    <tr>\n",
       "      <th>40</th>\n",
       "      <td>0      42.386781\\n1      42.368844\\n2      42....</td>\n",
       "      <td>13032</td>\n",
       "      <td>Cafes, Coffee, and Tea Houses</td>\n",
       "      <td>Tim Hortons</td>\n",
       "      <td>6.3</td>\n",
       "      <td>1044</td>\n",
       "      <td>43.638892</td>\n",
       "      <td>-79.380628</td>\n",
       "      <td>None</td>\n",
       "      <td>0.941100</td>\n",
       "      <td>False</td>\n",
       "    </tr>\n",
       "    <tr>\n",
       "      <th>41</th>\n",
       "      <td>0      42.386781\\n1      42.368844\\n2      42....</td>\n",
       "      <td>17043</td>\n",
       "      <td>Clothing Store</td>\n",
       "      <td>Joe Fresh</td>\n",
       "      <td>7.6</td>\n",
       "      <td>1384</td>\n",
       "      <td>43.643887</td>\n",
       "      <td>-79.369784</td>\n",
       "      <td>None</td>\n",
       "      <td>0.996340</td>\n",
       "      <td>True</td>\n",
       "    </tr>\n",
       "    <tr>\n",
       "      <th>42</th>\n",
       "      <td>0      42.386781\\n1      42.368844\\n2      42....</td>\n",
       "      <td>13046</td>\n",
       "      <td>Ice Cream Parlor</td>\n",
       "      <td>The Fix</td>\n",
       "      <td>6.3</td>\n",
       "      <td>1051</td>\n",
       "      <td>43.638892</td>\n",
       "      <td>-79.380628</td>\n",
       "      <td>None</td>\n",
       "      <td>0.842880</td>\n",
       "      <td>False</td>\n",
       "    </tr>\n",
       "    <tr>\n",
       "      <th>43</th>\n",
       "      <td>0      42.386781\\n1      42.368844\\n2      42....</td>\n",
       "      <td>13032</td>\n",
       "      <td>Cafes, Coffee, and Tea Houses</td>\n",
       "      <td>Tim Hortons</td>\n",
       "      <td>7.7</td>\n",
       "      <td>1407</td>\n",
       "      <td>43.638705</td>\n",
       "      <td>-79.386300</td>\n",
       "      <td>None</td>\n",
       "      <td>0.987889</td>\n",
       "      <td>True</td>\n",
       "    </tr>\n",
       "    <tr>\n",
       "      <th>44</th>\n",
       "      <td>0      42.386781\\n1      42.368844\\n2      42....</td>\n",
       "      <td>13276</td>\n",
       "      <td>Sushi Restaurant</td>\n",
       "      <td>Oyshi Sushi</td>\n",
       "      <td>6.9</td>\n",
       "      <td>1209</td>\n",
       "      <td>43.641819</td>\n",
       "      <td>-79.375859</td>\n",
       "      <td>None</td>\n",
       "      <td>0.945071</td>\n",
       "      <td>True</td>\n",
       "    </tr>\n",
       "    <tr>\n",
       "      <th>45</th>\n",
       "      <td>0      42.386781\\n1      42.368844\\n2      42....</td>\n",
       "      <td>13035</td>\n",
       "      <td>Coffee Shop</td>\n",
       "      <td>Starbucks</td>\n",
       "      <td>6.9</td>\n",
       "      <td>1226</td>\n",
       "      <td>43.639975</td>\n",
       "      <td>-79.381174</td>\n",
       "      <td>None</td>\n",
       "      <td>0.976767</td>\n",
       "      <td>True</td>\n",
       "    </tr>\n",
       "    <tr>\n",
       "      <th>46</th>\n",
       "      <td>0      42.386781\\n1      42.368844\\n2      42....</td>\n",
       "      <td>10039</td>\n",
       "      <td>Music Venue</td>\n",
       "      <td>Redpath Stage at Harbourfront</td>\n",
       "      <td>6.9</td>\n",
       "      <td>1212</td>\n",
       "      <td>43.638736</td>\n",
       "      <td>-79.383548</td>\n",
       "      <td>None</td>\n",
       "      <td>0.875322</td>\n",
       "      <td>False</td>\n",
       "    </tr>\n",
       "    <tr>\n",
       "      <th>47</th>\n",
       "      <td>0      42.386781\\n1      42.368844\\n2      42....</td>\n",
       "      <td>13068</td>\n",
       "      <td>American Restaurant</td>\n",
       "      <td>E11Even</td>\n",
       "      <td>7.6</td>\n",
       "      <td>1412</td>\n",
       "      <td>43.642508</td>\n",
       "      <td>-79.381063</td>\n",
       "      <td>None</td>\n",
       "      <td>0.983906</td>\n",
       "      <td>True</td>\n",
       "    </tr>\n",
       "    <tr>\n",
       "      <th>48</th>\n",
       "      <td>0      42.386781\\n1      42.368844\\n2      42....</td>\n",
       "      <td>10030</td>\n",
       "      <td>History Museum</td>\n",
       "      <td>Toronto Railway Heritage Centre</td>\n",
       "      <td>8.0</td>\n",
       "      <td>1496</td>\n",
       "      <td>43.640900</td>\n",
       "      <td>-79.385434</td>\n",
       "      <td>None</td>\n",
       "      <td>0.991425</td>\n",
       "      <td>False</td>\n",
       "    </tr>\n",
       "    <tr>\n",
       "      <th>49</th>\n",
       "      <td>0      42.386781\\n1      42.368844\\n2      42....</td>\n",
       "      <td>13034</td>\n",
       "      <td>Café</td>\n",
       "      <td>Island Cafe</td>\n",
       "      <td>7.0</td>\n",
       "      <td>1253</td>\n",
       "      <td>43.630917</td>\n",
       "      <td>-79.355902</td>\n",
       "      <td>None</td>\n",
       "      <td>0.941678</td>\n",
       "      <td>True</td>\n",
       "    </tr>\n",
       "  </tbody>\n",
       "</table>\n",
       "</div>"
      ],
      "text/plain": [
       "                                             lat-long  cat_id  \\\n",
       "0   0      42.386781\\n1      42.368844\\n2      42....   16032   \n",
       "1   0      42.386781\\n1      42.368844\\n2      42....   18025   \n",
       "2   0      42.386781\\n1      42.368844\\n2      42....   13049   \n",
       "3   0      42.386781\\n1      42.368844\\n2      42....   13040   \n",
       "4   0      42.386781\\n1      42.368844\\n2      42....   13046   \n",
       "5   0      42.386781\\n1      42.368844\\n2      42....   13276   \n",
       "6   0      42.386781\\n1      42.368844\\n2      42....   10039   \n",
       "7   0      42.386781\\n1      42.368844\\n2      42....   10004   \n",
       "8   0      42.386781\\n1      42.368844\\n2      42....   13003   \n",
       "9   0      42.386781\\n1      42.368844\\n2      42....   16032   \n",
       "10  0      42.386781\\n1      42.368844\\n2      42....   13035   \n",
       "11  0      42.386781\\n1      42.368844\\n2      42....   13029   \n",
       "12  0      42.386781\\n1      42.368844\\n2      42....   13064   \n",
       "13  0      42.386781\\n1      42.368844\\n2      42....   13033   \n",
       "14  0      42.386781\\n1      42.368844\\n2      42....   17076   \n",
       "15  0      42.386781\\n1      42.368844\\n2      42....   16032   \n",
       "16  0      42.386781\\n1      42.368844\\n2      42....   13006   \n",
       "17  0      42.386781\\n1      42.368844\\n2      42....   13177   \n",
       "18  0      42.386781\\n1      42.368844\\n2      42....   13383   \n",
       "19  0      42.386781\\n1      42.368844\\n2      42....   16041   \n",
       "20  0      42.386781\\n1      42.368844\\n2      42....   13035   \n",
       "21  0      42.386781\\n1      42.368844\\n2      42....   16003   \n",
       "22  0      42.386781\\n1      42.368844\\n2      42....   10039   \n",
       "23  0      42.386781\\n1      42.368844\\n2      42....   13016   \n",
       "24  0      42.386781\\n1      42.368844\\n2      42....   13272   \n",
       "25  0      42.386781\\n1      42.368844\\n2      42....   17043   \n",
       "26  0      42.386781\\n1      42.368844\\n2      42....   10051   \n",
       "27  0      42.386781\\n1      42.368844\\n2      42....   13034   \n",
       "28  0      42.386781\\n1      42.368844\\n2      42....   16046   \n",
       "29  0      42.386781\\n1      42.368844\\n2      42....   16041   \n",
       "30  0      42.386781\\n1      42.368844\\n2      42....   13022   \n",
       "31  0      42.386781\\n1      42.368844\\n2      42....   16032   \n",
       "32  0      42.386781\\n1      42.368844\\n2      42....   13039   \n",
       "33  0      42.386781\\n1      42.368844\\n2      42....   10001   \n",
       "34  0      42.386781\\n1      42.368844\\n2      42....   13065   \n",
       "35  0      42.386781\\n1      42.368844\\n2      42....   17117   \n",
       "36  0      42.386781\\n1      42.368844\\n2      42....   16003   \n",
       "37  0      42.386781\\n1      42.368844\\n2      42....   10037   \n",
       "38  0      42.386781\\n1      42.368844\\n2      42....   13039   \n",
       "39  0      42.386781\\n1      42.368844\\n2      42....   13034   \n",
       "40  0      42.386781\\n1      42.368844\\n2      42....   13032   \n",
       "41  0      42.386781\\n1      42.368844\\n2      42....   17043   \n",
       "42  0      42.386781\\n1      42.368844\\n2      42....   13046   \n",
       "43  0      42.386781\\n1      42.368844\\n2      42....   13032   \n",
       "44  0      42.386781\\n1      42.368844\\n2      42....   13276   \n",
       "45  0      42.386781\\n1      42.368844\\n2      42....   13035   \n",
       "46  0      42.386781\\n1      42.368844\\n2      42....   10039   \n",
       "47  0      42.386781\\n1      42.368844\\n2      42....   13068   \n",
       "48  0      42.386781\\n1      42.368844\\n2      42....   10030   \n",
       "49  0      42.386781\\n1      42.368844\\n2      42....   13034   \n",
       "\n",
       "                    category_name                               name  rating  \\\n",
       "0                            Park                Harbour Square Park     9.3   \n",
       "1                    Dance Studio                Fleck Dance Theater     8.3   \n",
       "2                           Diner      Pearl Harbourfront Restaurant     8.2   \n",
       "3                    Dessert Shop                        BeaverTails     8.5   \n",
       "4                Ice Cream Parlor                           Joe Bird     7.6   \n",
       "5                Sushi Restaurant                               Miku     9.0   \n",
       "6                     Music Venue                Harbourfront Centre     9.1   \n",
       "7                     Art Gallery                    The Power Plant     7.9   \n",
       "8                             Bar                      Boxcar Social     8.1   \n",
       "9                            Park                    Toronto Islands     9.3   \n",
       "10                    Coffee Shop                            Mos Mos     8.5   \n",
       "11                        Brewery         Labatt Breweries of Canada     7.3   \n",
       "12                       Pizzeria                            Pie Bar     7.3   \n",
       "13                Bubble Tea Shop                Sharetea Waterfront     7.9   \n",
       "14                   Liquor Store                               Lcbo     8.3   \n",
       "15                           Park                       Snake Island     7.0   \n",
       "16                       Beer Bar                Amsterdam BrewHouse     8.1   \n",
       "17               Greek Restaurant     Alexandro's World Famous Gyros     7.3   \n",
       "18                     Steakhouse           Harbour Sixty Steakhouse     7.9   \n",
       "19                          Plaza                     Ontario Square     7.5   \n",
       "20                    Coffee Shop                 Aroma Espresso Bar     7.2   \n",
       "21                          Beach               Canada's Sugar Beach     8.1   \n",
       "22                    Music Venue                     Enwave Theatre     7.2   \n",
       "23                         Lounge          Air Canada Signature Club     8.6   \n",
       "24               Ramen Restaurant                       Kinton Ramen     7.6   \n",
       "25                 Clothing Store                Real Sports Apparel     8.6   \n",
       "26                        Stadium                   Scotiabank Arena     8.7   \n",
       "27                           Café  World Café at Harbourfront Centre     7.2   \n",
       "28                 Scenic Lookout             Harbourfront Wavedecks     7.8   \n",
       "29                          Plaza                  Maple Leaf Square     8.6   \n",
       "30                     Sports Bar                   RS - Real Sports     8.0   \n",
       "31                           Park                    Roundhouse Park     9.3   \n",
       "32                           Deli        Evviva Breakfast Restaurant     8.3   \n",
       "33                 Amusement Park         Centreville Amusement Park     7.5   \n",
       "34                     Restaurant        The Goodman Pub and Kitchen     6.3   \n",
       "35          Sporting Goods Retail       Sport Chek Maple Leaf Square     8.1   \n",
       "36                          Beach                        Wards Beach     8.2   \n",
       "37                   Concert Hall                      WestJet Stage     6.9   \n",
       "38                           Deli                             Subway     7.3   \n",
       "39                           Café                 Lavazza Espression     6.9   \n",
       "40  Cafes, Coffee, and Tea Houses                        Tim Hortons     6.3   \n",
       "41                 Clothing Store                          Joe Fresh     7.6   \n",
       "42               Ice Cream Parlor                            The Fix     6.3   \n",
       "43  Cafes, Coffee, and Tea Houses                        Tim Hortons     7.7   \n",
       "44               Sushi Restaurant                        Oyshi Sushi     6.9   \n",
       "45                    Coffee Shop                          Starbucks     6.9   \n",
       "46                    Music Venue      Redpath Stage at Harbourfront     6.9   \n",
       "47            American Restaurant                            E11Even     7.6   \n",
       "48                 History Museum    Toronto Railway Heritage Centre     8.0   \n",
       "49                           Café                        Island Cafe     7.0   \n",
       "\n",
       "    distance   latitude  longitude address  popularity  open_now  \n",
       "0        983  43.639288 -79.378261    None    0.995420     False  \n",
       "1       1007  43.638298 -79.380300    None    0.934638     False  \n",
       "2       1009  43.639446 -79.380716    None    0.974126      True  \n",
       "3       1105  43.639722 -79.380012    None    0.990077     False  \n",
       "4        993  43.638513 -79.380428    None    0.963084      True  \n",
       "5       1156  43.641379 -79.377285    None    0.983583      True  \n",
       "6       1190  43.638953 -79.382881    None    0.991450      True  \n",
       "7       1095  43.638252 -79.381993    None    0.955820     False  \n",
       "8       1128  43.639175 -79.382916    None    0.943362      True  \n",
       "9       1220  43.621986 -79.378500    None    0.999037     False  \n",
       "10      1183  43.641640 -79.377552    None    0.987169     False  \n",
       "11      1001  43.639446 -79.380716    None    0.838729     False  \n",
       "12      1002  43.638552 -79.380667    None    0.907770      True  \n",
       "13      1123  43.640056 -79.379271    None    0.942020      True  \n",
       "14      1229  43.642961 -79.372488    None    0.995017      True  \n",
       "15      1017  43.624590 -79.363982    None    0.933432     False  \n",
       "16      1267  43.637970 -79.384828    None    0.991301      True  \n",
       "17      1123  43.641526 -79.375252    None    0.990120     False  \n",
       "18      1255  43.642089 -79.378332    None    0.991257      True  \n",
       "19      1184  43.639314 -79.381770    None    0.945108     False  \n",
       "20      1127  43.640946 -79.378618    None    0.972461      True  \n",
       "21      1319  43.643368 -79.367645    None    0.988418     False  \n",
       "22      1140  43.638660 -79.382274    None    0.122031     False  \n",
       "23      1397  43.643439 -79.379061    None    0.976580     False  \n",
       "24      1240  43.641498 -79.380295    None    0.958666      True  \n",
       "25      1400  43.642345 -79.380990    None    0.986833      True  \n",
       "26      1416  43.643485 -79.379209    None    0.999851      True  \n",
       "27      1166  43.638347 -79.383046    None    0.875632     False  \n",
       "28      1320  43.638799 -79.385006    None    0.983596     False  \n",
       "29      1435  43.642925 -79.380892    None    0.996800     False  \n",
       "30      1362  43.642558 -79.379965    None    0.987921     False  \n",
       "31      1495  43.641208 -79.385063    None    0.998279     False  \n",
       "32      1437  43.641002 -79.383254    None    0.990462     False  \n",
       "33      1293  43.620480 -79.373729    None    0.995955     False  \n",
       "34       981  43.638898 -79.380536    None    0.976873      True  \n",
       "35      1418  43.642306 -79.380751    None    0.995389      True  \n",
       "36      1430  43.630111 -79.353859    None    0.966359     False  \n",
       "37      1176  43.637966 -79.383332    None    0.930885     False  \n",
       "38      1288  43.639560 -79.383435    None    0.963991      True  \n",
       "39      1178  43.639314 -79.381770    None    0.864317      True  \n",
       "40      1044  43.638892 -79.380628    None    0.941100     False  \n",
       "41      1384  43.643887 -79.369784    None    0.996340      True  \n",
       "42      1051  43.638892 -79.380628    None    0.842880     False  \n",
       "43      1407  43.638705 -79.386300    None    0.987889      True  \n",
       "44      1209  43.641819 -79.375859    None    0.945071      True  \n",
       "45      1226  43.639975 -79.381174    None    0.976767      True  \n",
       "46      1212  43.638736 -79.383548    None    0.875322     False  \n",
       "47      1412  43.642508 -79.381063    None    0.983906      True  \n",
       "48      1496  43.640900 -79.385434    None    0.991425     False  \n",
       "49      1253  43.630917 -79.355902    None    0.941678      True  "
      ]
     },
     "execution_count": 8,
     "metadata": {},
     "output_type": "execute_result"
    }
   ],
   "source": [
    "boston_entrtanmnt = boston_entrtanmnt.drop(['fsq_id','categories'], axis=1)\n",
    "boston_entrtanmnt"
   ]
  },
  {
   "cell_type": "code",
   "execution_count": 9,
   "id": "191a6a79-e905-4786-9ef9-1f1cb2261b4c",
   "metadata": {},
   "outputs": [],
   "source": [
    "# save the data for future use\n",
    "boston_entrtanmnt.to_csv(f'/Users/kamininayyar/Github_old_pc/GitHub_frm_old_pc/boston_entrtanmnt_fsq.csv', index = False)"
   ]
  },
  {
   "cell_type": "markdown",
   "id": "b03590da-0837-485a-9e7b-830c6c41f890",
   "metadata": {},
   "source": [
    "# yelp api"
   ]
  },
  {
   "cell_type": "code",
   "execution_count": 10,
   "id": "927ba603-8493-4f7d-b3e0-d49b3dace41e",
   "metadata": {},
   "outputs": [],
   "source": [
    "from IPython.display import JSON"
   ]
  },
  {
   "cell_type": "code",
   "execution_count": 11,
   "id": "20b23d20-041d-4c93-86b6-365d7426a7d2",
   "metadata": {},
   "outputs": [],
   "source": [
    "api_key='Ih7ZOj3LbZz6kpbzENfPvbjh0l4oVSDMUf4SbLPJSCIUueExyhoiwk9Fm6dRmXCL59D3Bvi-Ok57nILnlXGPIvW-V-19R9nbqjV7fL4F2N-28gQrWlNy2FGAHB-NY3Yx'\n",
    "headers = {'Authorization': 'Bearer %s' % api_key}"
   ]
  },
  {
   "cell_type": "code",
   "execution_count": 12,
   "id": "8d8ab675-22a0-4337-9fd7-5ba3a1522e28",
   "metadata": {},
   "outputs": [],
   "source": [
    "url='https://api.yelp.com/v3/businesses/search?latitude=42.341332&longitude=-71.076847&radius=1000&limit=50'\n",
    "# I had to use specific lat and long because seems like ylp URL can't take the dictionary of lat and long as four square did\n",
    "\n",
    "response1 =requests.get(url, headers=headers)"
   ]
  },
  {
   "cell_type": "code",
   "execution_count": 13,
   "id": "880edf11-7770-498b-994d-2ee6ed3ee66d",
   "metadata": {},
   "outputs": [],
   "source": [
    "json.loads(response1.text)\n",
    "data = json.loads(response1.text)"
   ]
  },
  {
   "cell_type": "code",
   "execution_count": 14,
   "id": "4408a3e2-9a11-47c4-a4e3-ae533017c772",
   "metadata": {},
   "outputs": [
    {
     "data": {
      "text/html": [
       "<div>\n",
       "<style scoped>\n",
       "    .dataframe tbody tr th:only-of-type {\n",
       "        vertical-align: middle;\n",
       "    }\n",
       "\n",
       "    .dataframe tbody tr th {\n",
       "        vertical-align: top;\n",
       "    }\n",
       "\n",
       "    .dataframe thead th {\n",
       "        text-align: right;\n",
       "    }\n",
       "</style>\n",
       "<table border=\"1\" class=\"dataframe\">\n",
       "  <thead>\n",
       "    <tr style=\"text-align: right;\">\n",
       "      <th></th>\n",
       "      <th>businesses</th>\n",
       "      <th>total</th>\n",
       "      <th>region.center.longitude</th>\n",
       "      <th>region.center.latitude</th>\n",
       "    </tr>\n",
       "  </thead>\n",
       "  <tbody>\n",
       "    <tr>\n",
       "      <th>0</th>\n",
       "      <td>[{'id': 'NYa-JphaaB41ElGsb3iawA', 'alias': 'to...</td>\n",
       "      <td>431</td>\n",
       "      <td>-71.076847</td>\n",
       "      <td>42.341332</td>\n",
       "    </tr>\n",
       "  </tbody>\n",
       "</table>\n",
       "</div>"
      ],
      "text/plain": [
       "                                          businesses  total  \\\n",
       "0  [{'id': 'NYa-JphaaB41ElGsb3iawA', 'alias': 'to...    431   \n",
       "\n",
       "   region.center.longitude  region.center.latitude  \n",
       "0               -71.076847               42.341332  "
      ]
     },
     "execution_count": 14,
     "metadata": {},
     "output_type": "execute_result"
    }
   ],
   "source": [
    "df = pd.json_normalize(data)\n",
    "df"
   ]
  },
  {
   "cell_type": "code",
   "execution_count": 15,
   "id": "4e1c9e54-5de7-440e-8a73-783926f24b82",
   "metadata": {},
   "outputs": [],
   "source": [
    "seperating_sites = []\n",
    "for sites in data['businesses']:\n",
    "    all_sites = {\n",
    "          'lat-long': f'{lati},{longi}', 'category_name': sites['categories'][0]['alias'], 'name': sites['name']\n",
    "          , 'distance': sites['distance'], 'latitude': sites['coordinates']['latitude']\n",
    "          , 'longitude': sites['coordinates']['longitude'], 'address': sites['location']['display_address']\n",
    "          , 'is_closed': sites.get('is_closed'), 'rating': sites.get('rating')\n",
    "          , 'rating_count': sites.get('review_count')\n",
    "         \n",
    "      }\n",
    "      \n",
    "    seperating_sites.append(all_sites)\n",
    "    "
   ]
  },
  {
   "cell_type": "code",
   "execution_count": 16,
   "id": "8364f40f-c768-48af-a3ca-d31cac4bba8f",
   "metadata": {
    "collapsed": true,
    "jupyter": {
     "outputs_hidden": true
    },
    "tags": []
   },
   "outputs": [
    {
     "data": {
      "text/html": [
       "<div>\n",
       "<style scoped>\n",
       "    .dataframe tbody tr th:only-of-type {\n",
       "        vertical-align: middle;\n",
       "    }\n",
       "\n",
       "    .dataframe tbody tr th {\n",
       "        vertical-align: top;\n",
       "    }\n",
       "\n",
       "    .dataframe thead th {\n",
       "        text-align: right;\n",
       "    }\n",
       "</style>\n",
       "<table border=\"1\" class=\"dataframe\">\n",
       "  <thead>\n",
       "    <tr style=\"text-align: right;\">\n",
       "      <th></th>\n",
       "      <th>lat-long</th>\n",
       "      <th>category_name</th>\n",
       "      <th>name</th>\n",
       "      <th>distance</th>\n",
       "      <th>latitude</th>\n",
       "      <th>longitude</th>\n",
       "      <th>address</th>\n",
       "      <th>is_closed</th>\n",
       "      <th>rating</th>\n",
       "      <th>rating_count</th>\n",
       "    </tr>\n",
       "  </thead>\n",
       "  <tbody>\n",
       "    <tr>\n",
       "      <th>0</th>\n",
       "      <td>0      42.386781\\n1      42.368844\\n2      42....</td>\n",
       "      <td>tapas</td>\n",
       "      <td>Toro</td>\n",
       "      <td>488.960833</td>\n",
       "      <td>42.336988</td>\n",
       "      <td>-71.075924</td>\n",
       "      <td>[1704 Washington St, Boston, MA 02118]</td>\n",
       "      <td>False</td>\n",
       "      <td>4.0</td>\n",
       "      <td>2425</td>\n",
       "    </tr>\n",
       "    <tr>\n",
       "      <th>1</th>\n",
       "      <td>0      42.386781\\n1      42.368844\\n2      42....</td>\n",
       "      <td>bars</td>\n",
       "      <td>The Friendly Toast</td>\n",
       "      <td>833.597293</td>\n",
       "      <td>42.348348</td>\n",
       "      <td>-71.073273</td>\n",
       "      <td>[35 Stanhope St, Back Bay, MA 02116]</td>\n",
       "      <td>False</td>\n",
       "      <td>4.5</td>\n",
       "      <td>2533</td>\n",
       "    </tr>\n",
       "    <tr>\n",
       "      <th>2</th>\n",
       "      <td>0      42.386781\\n1      42.368844\\n2      42....</td>\n",
       "      <td>seafood</td>\n",
       "      <td>Atlantic Fish</td>\n",
       "      <td>945.200651</td>\n",
       "      <td>42.349222</td>\n",
       "      <td>-71.081127</td>\n",
       "      <td>[761 Boylston St, Boston, MA 02116]</td>\n",
       "      <td>False</td>\n",
       "      <td>4.0</td>\n",
       "      <td>2967</td>\n",
       "    </tr>\n",
       "    <tr>\n",
       "      <th>3</th>\n",
       "      <td>0      42.386781\\n1      42.368844\\n2      42....</td>\n",
       "      <td>newamerican</td>\n",
       "      <td>The Salty Pig</td>\n",
       "      <td>622.001099</td>\n",
       "      <td>42.346900</td>\n",
       "      <td>-71.076121</td>\n",
       "      <td>[130 Dartmouth St, Boston, MA 02116]</td>\n",
       "      <td>False</td>\n",
       "      <td>4.0</td>\n",
       "      <td>1813</td>\n",
       "    </tr>\n",
       "    <tr>\n",
       "      <th>4</th>\n",
       "      <td>0      42.386781\\n1      42.368844\\n2      42....</td>\n",
       "      <td>bakeries</td>\n",
       "      <td>Flour Bakery + Cafe</td>\n",
       "      <td>369.029836</td>\n",
       "      <td>42.338330</td>\n",
       "      <td>-71.074880</td>\n",
       "      <td>[1595 Washington St, Boston, MA 02118]</td>\n",
       "      <td>False</td>\n",
       "      <td>4.0</td>\n",
       "      <td>920</td>\n",
       "    </tr>\n",
       "    <tr>\n",
       "      <th>5</th>\n",
       "      <td>0      42.386781\\n1      42.368844\\n2      42....</td>\n",
       "      <td>spanish</td>\n",
       "      <td>Barcelona Wine Bar South End</td>\n",
       "      <td>654.929928</td>\n",
       "      <td>42.344936</td>\n",
       "      <td>-71.070544</td>\n",
       "      <td>[525 Tremont St, Boston, MA 02116]</td>\n",
       "      <td>False</td>\n",
       "      <td>4.5</td>\n",
       "      <td>1326</td>\n",
       "    </tr>\n",
       "    <tr>\n",
       "      <th>6</th>\n",
       "      <td>0      42.386781\\n1      42.368844\\n2      42....</td>\n",
       "      <td>seafood</td>\n",
       "      <td>Luke's Lobster Back Bay</td>\n",
       "      <td>841.359679</td>\n",
       "      <td>42.348691</td>\n",
       "      <td>-71.079227</td>\n",
       "      <td>[75 Exeter Street, Boston, MA 02116]</td>\n",
       "      <td>False</td>\n",
       "      <td>4.0</td>\n",
       "      <td>1984</td>\n",
       "    </tr>\n",
       "    <tr>\n",
       "      <th>7</th>\n",
       "      <td>0      42.386781\\n1      42.368844\\n2      42....</td>\n",
       "      <td>sandwiches</td>\n",
       "      <td>Mike &amp; Patty's - Boston</td>\n",
       "      <td>1087.856223</td>\n",
       "      <td>42.348561</td>\n",
       "      <td>-71.067928</td>\n",
       "      <td>[12 Church St, Boston, MA 02116]</td>\n",
       "      <td>False</td>\n",
       "      <td>4.5</td>\n",
       "      <td>2038</td>\n",
       "    </tr>\n",
       "    <tr>\n",
       "      <th>8</th>\n",
       "      <td>0      42.386781\\n1      42.368844\\n2      42....</td>\n",
       "      <td>pizza</td>\n",
       "      <td>Picco Pizza &amp; Ice Cream</td>\n",
       "      <td>651.662905</td>\n",
       "      <td>42.344875</td>\n",
       "      <td>-71.070531</td>\n",
       "      <td>[513 Tremont St, Boston, MA 02116]</td>\n",
       "      <td>False</td>\n",
       "      <td>4.0</td>\n",
       "      <td>1299</td>\n",
       "    </tr>\n",
       "    <tr>\n",
       "      <th>9</th>\n",
       "      <td>0      42.386781\\n1      42.368844\\n2      42....</td>\n",
       "      <td>caribbean</td>\n",
       "      <td>Orinoco</td>\n",
       "      <td>282.478241</td>\n",
       "      <td>42.338879</td>\n",
       "      <td>-71.075970</td>\n",
       "      <td>[477 Shawmut Ave, Boston, MA 02118]</td>\n",
       "      <td>False</td>\n",
       "      <td>4.0</td>\n",
       "      <td>625</td>\n",
       "    </tr>\n",
       "    <tr>\n",
       "      <th>10</th>\n",
       "      <td>0      42.386781\\n1      42.368844\\n2      42....</td>\n",
       "      <td>seafood</td>\n",
       "      <td>Lobstah On A Roll</td>\n",
       "      <td>328.765012</td>\n",
       "      <td>42.341716</td>\n",
       "      <td>-71.080813</td>\n",
       "      <td>[537 Columbus Ave, Boston, MA 02118]</td>\n",
       "      <td>False</td>\n",
       "      <td>4.5</td>\n",
       "      <td>451</td>\n",
       "    </tr>\n",
       "    <tr>\n",
       "      <th>11</th>\n",
       "      <td>0      42.386781\\n1      42.368844\\n2      42....</td>\n",
       "      <td>italian</td>\n",
       "      <td>SRV Boston</td>\n",
       "      <td>394.577997</td>\n",
       "      <td>42.340918</td>\n",
       "      <td>-71.081615</td>\n",
       "      <td>[569 Columbus Ave, Boston, MA 02118]</td>\n",
       "      <td>False</td>\n",
       "      <td>4.5</td>\n",
       "      <td>515</td>\n",
       "    </tr>\n",
       "    <tr>\n",
       "      <th>12</th>\n",
       "      <td>0      42.386781\\n1      42.368844\\n2      42....</td>\n",
       "      <td>tradamerican</td>\n",
       "      <td>The Beehive</td>\n",
       "      <td>562.920713</td>\n",
       "      <td>42.344493</td>\n",
       "      <td>-71.071497</td>\n",
       "      <td>[541 Tremont St, Boston, MA 02116]</td>\n",
       "      <td>False</td>\n",
       "      <td>3.5</td>\n",
       "      <td>2400</td>\n",
       "    </tr>\n",
       "    <tr>\n",
       "      <th>13</th>\n",
       "      <td>0      42.386781\\n1      42.368844\\n2      42....</td>\n",
       "      <td>icecream</td>\n",
       "      <td>FoMu</td>\n",
       "      <td>132.347932</td>\n",
       "      <td>42.342132</td>\n",
       "      <td>-71.075637</td>\n",
       "      <td>[655 Tremont St, Boston, MA 02118]</td>\n",
       "      <td>False</td>\n",
       "      <td>4.5</td>\n",
       "      <td>282</td>\n",
       "    </tr>\n",
       "    <tr>\n",
       "      <th>14</th>\n",
       "      <td>0      42.386781\\n1      42.368844\\n2      42....</td>\n",
       "      <td>cafes</td>\n",
       "      <td>Render Coffee</td>\n",
       "      <td>386.028501</td>\n",
       "      <td>42.341150</td>\n",
       "      <td>-71.081490</td>\n",
       "      <td>[563 Columbus Ave, Boston, MA 02118]</td>\n",
       "      <td>False</td>\n",
       "      <td>4.5</td>\n",
       "      <td>538</td>\n",
       "    </tr>\n",
       "    <tr>\n",
       "      <th>15</th>\n",
       "      <td>0      42.386781\\n1      42.368844\\n2      42....</td>\n",
       "      <td>coffee</td>\n",
       "      <td>Flour Bakery + Café</td>\n",
       "      <td>809.049064</td>\n",
       "      <td>42.348257</td>\n",
       "      <td>-71.073826</td>\n",
       "      <td>[131 Clarendon St, Boston, MA 02116]</td>\n",
       "      <td>False</td>\n",
       "      <td>4.0</td>\n",
       "      <td>1163</td>\n",
       "    </tr>\n",
       "    <tr>\n",
       "      <th>16</th>\n",
       "      <td>0      42.386781\\n1      42.368844\\n2      42....</td>\n",
       "      <td>seafood</td>\n",
       "      <td>B&amp;G Oysters</td>\n",
       "      <td>539.109989</td>\n",
       "      <td>42.343880</td>\n",
       "      <td>-71.071230</td>\n",
       "      <td>[550 Tremont St, Boston, MA 02116]</td>\n",
       "      <td>False</td>\n",
       "      <td>4.0</td>\n",
       "      <td>1137</td>\n",
       "    </tr>\n",
       "    <tr>\n",
       "      <th>17</th>\n",
       "      <td>0      42.386781\\n1      42.368844\\n2      42....</td>\n",
       "      <td>french</td>\n",
       "      <td>Mistral</td>\n",
       "      <td>830.027321</td>\n",
       "      <td>42.348158</td>\n",
       "      <td>-71.072759</td>\n",
       "      <td>[223 Columbus Ave, Boston, MA 02116]</td>\n",
       "      <td>False</td>\n",
       "      <td>4.0</td>\n",
       "      <td>1062</td>\n",
       "    </tr>\n",
       "    <tr>\n",
       "      <th>18</th>\n",
       "      <td>0      42.386781\\n1      42.368844\\n2      42....</td>\n",
       "      <td>asianfusion</td>\n",
       "      <td>Myers &amp; Chang</td>\n",
       "      <td>913.760392</td>\n",
       "      <td>42.343819</td>\n",
       "      <td>-71.066250</td>\n",
       "      <td>[1145 Washington St, Boston, MA 02118]</td>\n",
       "      <td>False</td>\n",
       "      <td>4.0</td>\n",
       "      <td>1812</td>\n",
       "    </tr>\n",
       "    <tr>\n",
       "      <th>19</th>\n",
       "      <td>0      42.386781\\n1      42.368844\\n2      42....</td>\n",
       "      <td>breakfast_brunch</td>\n",
       "      <td>Blunch</td>\n",
       "      <td>672.175130</td>\n",
       "      <td>42.335493</td>\n",
       "      <td>-71.074730</td>\n",
       "      <td>[59 E Springfield St, Boston, MA 02118]</td>\n",
       "      <td>False</td>\n",
       "      <td>4.5</td>\n",
       "      <td>520</td>\n",
       "    </tr>\n",
       "    <tr>\n",
       "      <th>20</th>\n",
       "      <td>0      42.386781\\n1      42.368844\\n2      42....</td>\n",
       "      <td>diners</td>\n",
       "      <td>Mike's City Diner</td>\n",
       "      <td>494.390102</td>\n",
       "      <td>42.336880</td>\n",
       "      <td>-71.076040</td>\n",
       "      <td>[1714 Washington St, Boston, MA 02118]</td>\n",
       "      <td>False</td>\n",
       "      <td>4.0</td>\n",
       "      <td>655</td>\n",
       "    </tr>\n",
       "    <tr>\n",
       "      <th>21</th>\n",
       "      <td>0      42.386781\\n1      42.368844\\n2      42....</td>\n",
       "      <td>sushi</td>\n",
       "      <td>Douzo</td>\n",
       "      <td>627.725523</td>\n",
       "      <td>42.346898</td>\n",
       "      <td>-71.075571</td>\n",
       "      <td>[131 Dartmouth St, Boston, MA 02116]</td>\n",
       "      <td>False</td>\n",
       "      <td>4.0</td>\n",
       "      <td>1216</td>\n",
       "    </tr>\n",
       "    <tr>\n",
       "      <th>22</th>\n",
       "      <td>0      42.386781\\n1      42.368844\\n2      42....</td>\n",
       "      <td>steak</td>\n",
       "      <td>The Capital Grille</td>\n",
       "      <td>990.106995</td>\n",
       "      <td>42.347811</td>\n",
       "      <td>-71.085111</td>\n",
       "      <td>[900 Boylston St, Boston, MA 02115]</td>\n",
       "      <td>False</td>\n",
       "      <td>4.5</td>\n",
       "      <td>1062</td>\n",
       "    </tr>\n",
       "    <tr>\n",
       "      <th>23</th>\n",
       "      <td>0      42.386781\\n1      42.368844\\n2      42....</td>\n",
       "      <td>french</td>\n",
       "      <td>Aquitaine</td>\n",
       "      <td>457.024316</td>\n",
       "      <td>42.343810</td>\n",
       "      <td>-71.072350</td>\n",
       "      <td>[569 Tremont St, Boston, MA 02118]</td>\n",
       "      <td>False</td>\n",
       "      <td>4.0</td>\n",
       "      <td>977</td>\n",
       "    </tr>\n",
       "    <tr>\n",
       "      <th>24</th>\n",
       "      <td>0      42.386781\\n1      42.368844\\n2      42....</td>\n",
       "      <td>italian</td>\n",
       "      <td>MIDA - Boston</td>\n",
       "      <td>386.652972</td>\n",
       "      <td>42.339080</td>\n",
       "      <td>-71.080431</td>\n",
       "      <td>[782 Tremont St, Boston, MA 02118]</td>\n",
       "      <td>False</td>\n",
       "      <td>4.0</td>\n",
       "      <td>469</td>\n",
       "    </tr>\n",
       "    <tr>\n",
       "      <th>25</th>\n",
       "      <td>0      42.386781\\n1      42.368844\\n2      42....</td>\n",
       "      <td>italian</td>\n",
       "      <td>Coppa Enoteca</td>\n",
       "      <td>709.068180</td>\n",
       "      <td>42.343460</td>\n",
       "      <td>-71.068730</td>\n",
       "      <td>[253 Shawmut Ave, Boston, MA 02118]</td>\n",
       "      <td>False</td>\n",
       "      <td>4.0</td>\n",
       "      <td>994</td>\n",
       "    </tr>\n",
       "    <tr>\n",
       "      <th>26</th>\n",
       "      <td>0      42.386781\\n1      42.368844\\n2      42....</td>\n",
       "      <td>greek</td>\n",
       "      <td>KAVA neo-taverna</td>\n",
       "      <td>536.618308</td>\n",
       "      <td>42.342390</td>\n",
       "      <td>-71.070430</td>\n",
       "      <td>[315 Shawmut Ave, Boston, MA 02118]</td>\n",
       "      <td>False</td>\n",
       "      <td>4.5</td>\n",
       "      <td>431</td>\n",
       "    </tr>\n",
       "    <tr>\n",
       "      <th>27</th>\n",
       "      <td>0      42.386781\\n1      42.368844\\n2      42....</td>\n",
       "      <td>steak</td>\n",
       "      <td>Abe &amp; Louie's</td>\n",
       "      <td>948.906180</td>\n",
       "      <td>42.349139</td>\n",
       "      <td>-71.081508</td>\n",
       "      <td>[793 Boylston St, Boston, MA 02116]</td>\n",
       "      <td>False</td>\n",
       "      <td>4.0</td>\n",
       "      <td>1591</td>\n",
       "    </tr>\n",
       "    <tr>\n",
       "      <th>28</th>\n",
       "      <td>0      42.386781\\n1      42.368844\\n2      42....</td>\n",
       "      <td>vietnamese</td>\n",
       "      <td>Pho Basil</td>\n",
       "      <td>990.184374</td>\n",
       "      <td>42.345782</td>\n",
       "      <td>-71.087283</td>\n",
       "      <td>[177 Massachusetts Ave, Ste A, Boston, MA 02115]</td>\n",
       "      <td>False</td>\n",
       "      <td>4.0</td>\n",
       "      <td>1383</td>\n",
       "    </tr>\n",
       "    <tr>\n",
       "      <th>29</th>\n",
       "      <td>0      42.386781\\n1      42.368844\\n2      42....</td>\n",
       "      <td>newamerican</td>\n",
       "      <td>Metropolis</td>\n",
       "      <td>406.997631</td>\n",
       "      <td>42.343240</td>\n",
       "      <td>-71.072621</td>\n",
       "      <td>[584 Tremont St, Boston, MA 02118]</td>\n",
       "      <td>False</td>\n",
       "      <td>4.0</td>\n",
       "      <td>524</td>\n",
       "    </tr>\n",
       "    <tr>\n",
       "      <th>30</th>\n",
       "      <td>0      42.386781\\n1      42.368844\\n2      42....</td>\n",
       "      <td>bars</td>\n",
       "      <td>Boston Chops South End</td>\n",
       "      <td>594.209858</td>\n",
       "      <td>42.341507</td>\n",
       "      <td>-71.069621</td>\n",
       "      <td>[1375 Washington St, Boston, MA 02118]</td>\n",
       "      <td>False</td>\n",
       "      <td>4.0</td>\n",
       "      <td>716</td>\n",
       "    </tr>\n",
       "    <tr>\n",
       "      <th>31</th>\n",
       "      <td>0      42.386781\\n1      42.368844\\n2      42....</td>\n",
       "      <td>lebanese</td>\n",
       "      <td>anoush'ella</td>\n",
       "      <td>359.841873</td>\n",
       "      <td>42.338903</td>\n",
       "      <td>-71.073977</td>\n",
       "      <td>[35 W Newton St, Boston, MA 02118]</td>\n",
       "      <td>False</td>\n",
       "      <td>4.5</td>\n",
       "      <td>300</td>\n",
       "    </tr>\n",
       "    <tr>\n",
       "      <th>32</th>\n",
       "      <td>0      42.386781\\n1      42.368844\\n2      42....</td>\n",
       "      <td>italian</td>\n",
       "      <td>Sorellina</td>\n",
       "      <td>838.991807</td>\n",
       "      <td>42.348837</td>\n",
       "      <td>-71.077904</td>\n",
       "      <td>[1 Huntington Ave, Boston, MA 02116]</td>\n",
       "      <td>False</td>\n",
       "      <td>4.0</td>\n",
       "      <td>738</td>\n",
       "    </tr>\n",
       "    <tr>\n",
       "      <th>33</th>\n",
       "      <td>0      42.386781\\n1      42.368844\\n2      42....</td>\n",
       "      <td>italian</td>\n",
       "      <td>Anchovies</td>\n",
       "      <td>296.383073</td>\n",
       "      <td>42.343939</td>\n",
       "      <td>-71.077598</td>\n",
       "      <td>[433 Columbus Ave, Boston, MA 02116]</td>\n",
       "      <td>False</td>\n",
       "      <td>4.0</td>\n",
       "      <td>430</td>\n",
       "    </tr>\n",
       "    <tr>\n",
       "      <th>34</th>\n",
       "      <td>0      42.386781\\n1      42.368844\\n2      42....</td>\n",
       "      <td>newamerican</td>\n",
       "      <td>Earls Kitchen + Bar</td>\n",
       "      <td>775.475885</td>\n",
       "      <td>42.347225</td>\n",
       "      <td>-71.081893</td>\n",
       "      <td>[800 Boylston St, Unit 107, Boston, MA 02199]</td>\n",
       "      <td>False</td>\n",
       "      <td>4.0</td>\n",
       "      <td>1289</td>\n",
       "    </tr>\n",
       "    <tr>\n",
       "      <th>35</th>\n",
       "      <td>0      42.386781\\n1      42.368844\\n2      42....</td>\n",
       "      <td>brazilian</td>\n",
       "      <td>Fogo de Chão</td>\n",
       "      <td>831.647437</td>\n",
       "      <td>42.348808</td>\n",
       "      <td>-71.077162</td>\n",
       "      <td>[200 Dartmouth St, Boston, MA 02116]</td>\n",
       "      <td>False</td>\n",
       "      <td>4.0</td>\n",
       "      <td>1049</td>\n",
       "    </tr>\n",
       "    <tr>\n",
       "      <th>36</th>\n",
       "      <td>0      42.386781\\n1      42.368844\\n2      42....</td>\n",
       "      <td>seafood</td>\n",
       "      <td>Grill 23 &amp; Bar</td>\n",
       "      <td>982.146492</td>\n",
       "      <td>42.349422</td>\n",
       "      <td>-71.072050</td>\n",
       "      <td>[161 Berkeley St, Boston, MA 02116]</td>\n",
       "      <td>False</td>\n",
       "      <td>4.0</td>\n",
       "      <td>1190</td>\n",
       "    </tr>\n",
       "    <tr>\n",
       "      <th>37</th>\n",
       "      <td>0      42.386781\\n1      42.368844\\n2      42....</td>\n",
       "      <td>seafood</td>\n",
       "      <td>Bootleg Special</td>\n",
       "      <td>956.035574</td>\n",
       "      <td>42.347120</td>\n",
       "      <td>-71.068340</td>\n",
       "      <td>[400 Tremont St, Boston, MA 02116]</td>\n",
       "      <td>False</td>\n",
       "      <td>4.0</td>\n",
       "      <td>957</td>\n",
       "    </tr>\n",
       "    <tr>\n",
       "      <th>38</th>\n",
       "      <td>0      42.386781\\n1      42.368844\\n2      42....</td>\n",
       "      <td>bars</td>\n",
       "      <td>Five Horses Tavern</td>\n",
       "      <td>305.780288</td>\n",
       "      <td>42.341745</td>\n",
       "      <td>-71.080525</td>\n",
       "      <td>[535 Columbus Ave, Boston, MA 02118]</td>\n",
       "      <td>False</td>\n",
       "      <td>4.0</td>\n",
       "      <td>509</td>\n",
       "    </tr>\n",
       "    <tr>\n",
       "      <th>39</th>\n",
       "      <td>0      42.386781\\n1      42.368844\\n2      42....</td>\n",
       "      <td>french</td>\n",
       "      <td>Petit Robert Bistro</td>\n",
       "      <td>218.669219</td>\n",
       "      <td>42.342830</td>\n",
       "      <td>-71.078580</td>\n",
       "      <td>[480 Columbus Ave, Boston, MA 02118]</td>\n",
       "      <td>False</td>\n",
       "      <td>3.5</td>\n",
       "      <td>504</td>\n",
       "    </tr>\n",
       "    <tr>\n",
       "      <th>40</th>\n",
       "      <td>0      42.386781\\n1      42.368844\\n2      42....</td>\n",
       "      <td>greek</td>\n",
       "      <td>GRECO</td>\n",
       "      <td>1041.420440</td>\n",
       "      <td>42.350060</td>\n",
       "      <td>-71.081700</td>\n",
       "      <td>[225 Newbury St, Boston, MA 02116]</td>\n",
       "      <td>False</td>\n",
       "      <td>4.5</td>\n",
       "      <td>556</td>\n",
       "    </tr>\n",
       "    <tr>\n",
       "      <th>41</th>\n",
       "      <td>0      42.386781\\n1      42.368844\\n2      42....</td>\n",
       "      <td>indpak</td>\n",
       "      <td>Mela</td>\n",
       "      <td>421.858304</td>\n",
       "      <td>42.343270</td>\n",
       "      <td>-71.072500</td>\n",
       "      <td>[578 Tremont St, Boston, MA 02118]</td>\n",
       "      <td>False</td>\n",
       "      <td>3.5</td>\n",
       "      <td>672</td>\n",
       "    </tr>\n",
       "    <tr>\n",
       "      <th>42</th>\n",
       "      <td>0      42.386781\\n1      42.368844\\n2      42....</td>\n",
       "      <td>burgers</td>\n",
       "      <td>Boston Burger</td>\n",
       "      <td>1142.571851</td>\n",
       "      <td>42.346914</td>\n",
       "      <td>-71.088519</td>\n",
       "      <td>[1100 Boylston St, Boston, MA 02215]</td>\n",
       "      <td>False</td>\n",
       "      <td>4.0</td>\n",
       "      <td>1180</td>\n",
       "    </tr>\n",
       "    <tr>\n",
       "      <th>43</th>\n",
       "      <td>0      42.386781\\n1      42.368844\\n2      42....</td>\n",
       "      <td>ethiopian</td>\n",
       "      <td>Lucy Ethiopian Cafe</td>\n",
       "      <td>609.361885</td>\n",
       "      <td>42.342369</td>\n",
       "      <td>-71.084123</td>\n",
       "      <td>[334 Massachusetts Ave, Boston, MA 02115]</td>\n",
       "      <td>False</td>\n",
       "      <td>4.0</td>\n",
       "      <td>442</td>\n",
       "    </tr>\n",
       "    <tr>\n",
       "      <th>44</th>\n",
       "      <td>0      42.386781\\n1      42.368844\\n2      42....</td>\n",
       "      <td>bars</td>\n",
       "      <td>Darryl's Corner Bar &amp; Kitchen</td>\n",
       "      <td>490.971615</td>\n",
       "      <td>42.339760</td>\n",
       "      <td>-71.082410</td>\n",
       "      <td>[604 Columbus Ave, Boston, MA 02118]</td>\n",
       "      <td>False</td>\n",
       "      <td>3.5</td>\n",
       "      <td>766</td>\n",
       "    </tr>\n",
       "    <tr>\n",
       "      <th>45</th>\n",
       "      <td>0      42.386781\\n1      42.368844\\n2      42....</td>\n",
       "      <td>lounges</td>\n",
       "      <td>Franklin Cafe</td>\n",
       "      <td>680.877986</td>\n",
       "      <td>42.342910</td>\n",
       "      <td>-71.068950</td>\n",
       "      <td>[278 Shawmut Ave, Boston, MA 02118]</td>\n",
       "      <td>False</td>\n",
       "      <td>4.0</td>\n",
       "      <td>540</td>\n",
       "    </tr>\n",
       "    <tr>\n",
       "      <th>46</th>\n",
       "      <td>0      42.386781\\n1      42.368844\\n2      42....</td>\n",
       "      <td>cambodian</td>\n",
       "      <td>The Elephant Walk</td>\n",
       "      <td>515.599188</td>\n",
       "      <td>42.341160</td>\n",
       "      <td>-71.070578</td>\n",
       "      <td>[1415 Washington St, Boston, MA 02118]</td>\n",
       "      <td>False</td>\n",
       "      <td>4.5</td>\n",
       "      <td>253</td>\n",
       "    </tr>\n",
       "    <tr>\n",
       "      <th>47</th>\n",
       "      <td>0      42.386781\\n1      42.368844\\n2      42....</td>\n",
       "      <td>sushi</td>\n",
       "      <td>Oishii Boston</td>\n",
       "      <td>885.452866</td>\n",
       "      <td>42.343217</td>\n",
       "      <td>-71.066380</td>\n",
       "      <td>[1166 Washington St, Boston, MA 02118]</td>\n",
       "      <td>False</td>\n",
       "      <td>4.0</td>\n",
       "      <td>833</td>\n",
       "    </tr>\n",
       "    <tr>\n",
       "      <th>48</th>\n",
       "      <td>0      42.386781\\n1      42.368844\\n2      42....</td>\n",
       "      <td>modern_european</td>\n",
       "      <td>The Butcher Shop</td>\n",
       "      <td>518.988566</td>\n",
       "      <td>42.343760</td>\n",
       "      <td>-71.071454</td>\n",
       "      <td>[552 Tremont St, Boston, MA 02118]</td>\n",
       "      <td>False</td>\n",
       "      <td>4.0</td>\n",
       "      <td>554</td>\n",
       "    </tr>\n",
       "    <tr>\n",
       "      <th>49</th>\n",
       "      <td>0      42.386781\\n1      42.368844\\n2      42....</td>\n",
       "      <td>puertorican</td>\n",
       "      <td>Mana Escondido Café</td>\n",
       "      <td>91.861892</td>\n",
       "      <td>42.341303</td>\n",
       "      <td>-71.075730</td>\n",
       "      <td>[68 Aguadilla St, Boston, MA 02118]</td>\n",
       "      <td>False</td>\n",
       "      <td>4.5</td>\n",
       "      <td>100</td>\n",
       "    </tr>\n",
       "  </tbody>\n",
       "</table>\n",
       "</div>"
      ],
      "text/plain": [
       "                                             lat-long     category_name  \\\n",
       "0   0      42.386781\\n1      42.368844\\n2      42....             tapas   \n",
       "1   0      42.386781\\n1      42.368844\\n2      42....              bars   \n",
       "2   0      42.386781\\n1      42.368844\\n2      42....           seafood   \n",
       "3   0      42.386781\\n1      42.368844\\n2      42....       newamerican   \n",
       "4   0      42.386781\\n1      42.368844\\n2      42....          bakeries   \n",
       "5   0      42.386781\\n1      42.368844\\n2      42....           spanish   \n",
       "6   0      42.386781\\n1      42.368844\\n2      42....           seafood   \n",
       "7   0      42.386781\\n1      42.368844\\n2      42....        sandwiches   \n",
       "8   0      42.386781\\n1      42.368844\\n2      42....             pizza   \n",
       "9   0      42.386781\\n1      42.368844\\n2      42....         caribbean   \n",
       "10  0      42.386781\\n1      42.368844\\n2      42....           seafood   \n",
       "11  0      42.386781\\n1      42.368844\\n2      42....           italian   \n",
       "12  0      42.386781\\n1      42.368844\\n2      42....      tradamerican   \n",
       "13  0      42.386781\\n1      42.368844\\n2      42....          icecream   \n",
       "14  0      42.386781\\n1      42.368844\\n2      42....             cafes   \n",
       "15  0      42.386781\\n1      42.368844\\n2      42....            coffee   \n",
       "16  0      42.386781\\n1      42.368844\\n2      42....           seafood   \n",
       "17  0      42.386781\\n1      42.368844\\n2      42....            french   \n",
       "18  0      42.386781\\n1      42.368844\\n2      42....       asianfusion   \n",
       "19  0      42.386781\\n1      42.368844\\n2      42....  breakfast_brunch   \n",
       "20  0      42.386781\\n1      42.368844\\n2      42....            diners   \n",
       "21  0      42.386781\\n1      42.368844\\n2      42....             sushi   \n",
       "22  0      42.386781\\n1      42.368844\\n2      42....             steak   \n",
       "23  0      42.386781\\n1      42.368844\\n2      42....            french   \n",
       "24  0      42.386781\\n1      42.368844\\n2      42....           italian   \n",
       "25  0      42.386781\\n1      42.368844\\n2      42....           italian   \n",
       "26  0      42.386781\\n1      42.368844\\n2      42....             greek   \n",
       "27  0      42.386781\\n1      42.368844\\n2      42....             steak   \n",
       "28  0      42.386781\\n1      42.368844\\n2      42....        vietnamese   \n",
       "29  0      42.386781\\n1      42.368844\\n2      42....       newamerican   \n",
       "30  0      42.386781\\n1      42.368844\\n2      42....              bars   \n",
       "31  0      42.386781\\n1      42.368844\\n2      42....          lebanese   \n",
       "32  0      42.386781\\n1      42.368844\\n2      42....           italian   \n",
       "33  0      42.386781\\n1      42.368844\\n2      42....           italian   \n",
       "34  0      42.386781\\n1      42.368844\\n2      42....       newamerican   \n",
       "35  0      42.386781\\n1      42.368844\\n2      42....         brazilian   \n",
       "36  0      42.386781\\n1      42.368844\\n2      42....           seafood   \n",
       "37  0      42.386781\\n1      42.368844\\n2      42....           seafood   \n",
       "38  0      42.386781\\n1      42.368844\\n2      42....              bars   \n",
       "39  0      42.386781\\n1      42.368844\\n2      42....            french   \n",
       "40  0      42.386781\\n1      42.368844\\n2      42....             greek   \n",
       "41  0      42.386781\\n1      42.368844\\n2      42....            indpak   \n",
       "42  0      42.386781\\n1      42.368844\\n2      42....           burgers   \n",
       "43  0      42.386781\\n1      42.368844\\n2      42....         ethiopian   \n",
       "44  0      42.386781\\n1      42.368844\\n2      42....              bars   \n",
       "45  0      42.386781\\n1      42.368844\\n2      42....           lounges   \n",
       "46  0      42.386781\\n1      42.368844\\n2      42....         cambodian   \n",
       "47  0      42.386781\\n1      42.368844\\n2      42....             sushi   \n",
       "48  0      42.386781\\n1      42.368844\\n2      42....   modern_european   \n",
       "49  0      42.386781\\n1      42.368844\\n2      42....       puertorican   \n",
       "\n",
       "                             name     distance   latitude  longitude  \\\n",
       "0                            Toro   488.960833  42.336988 -71.075924   \n",
       "1              The Friendly Toast   833.597293  42.348348 -71.073273   \n",
       "2                   Atlantic Fish   945.200651  42.349222 -71.081127   \n",
       "3                   The Salty Pig   622.001099  42.346900 -71.076121   \n",
       "4             Flour Bakery + Cafe   369.029836  42.338330 -71.074880   \n",
       "5    Barcelona Wine Bar South End   654.929928  42.344936 -71.070544   \n",
       "6         Luke's Lobster Back Bay   841.359679  42.348691 -71.079227   \n",
       "7         Mike & Patty's - Boston  1087.856223  42.348561 -71.067928   \n",
       "8         Picco Pizza & Ice Cream   651.662905  42.344875 -71.070531   \n",
       "9                         Orinoco   282.478241  42.338879 -71.075970   \n",
       "10              Lobstah On A Roll   328.765012  42.341716 -71.080813   \n",
       "11                     SRV Boston   394.577997  42.340918 -71.081615   \n",
       "12                    The Beehive   562.920713  42.344493 -71.071497   \n",
       "13                           FoMu   132.347932  42.342132 -71.075637   \n",
       "14                  Render Coffee   386.028501  42.341150 -71.081490   \n",
       "15            Flour Bakery + Café   809.049064  42.348257 -71.073826   \n",
       "16                    B&G Oysters   539.109989  42.343880 -71.071230   \n",
       "17                        Mistral   830.027321  42.348158 -71.072759   \n",
       "18                  Myers & Chang   913.760392  42.343819 -71.066250   \n",
       "19                         Blunch   672.175130  42.335493 -71.074730   \n",
       "20              Mike's City Diner   494.390102  42.336880 -71.076040   \n",
       "21                          Douzo   627.725523  42.346898 -71.075571   \n",
       "22             The Capital Grille   990.106995  42.347811 -71.085111   \n",
       "23                      Aquitaine   457.024316  42.343810 -71.072350   \n",
       "24                  MIDA - Boston   386.652972  42.339080 -71.080431   \n",
       "25                  Coppa Enoteca   709.068180  42.343460 -71.068730   \n",
       "26               KAVA neo-taverna   536.618308  42.342390 -71.070430   \n",
       "27                  Abe & Louie's   948.906180  42.349139 -71.081508   \n",
       "28                      Pho Basil   990.184374  42.345782 -71.087283   \n",
       "29                     Metropolis   406.997631  42.343240 -71.072621   \n",
       "30         Boston Chops South End   594.209858  42.341507 -71.069621   \n",
       "31                    anoush'ella   359.841873  42.338903 -71.073977   \n",
       "32                      Sorellina   838.991807  42.348837 -71.077904   \n",
       "33                      Anchovies   296.383073  42.343939 -71.077598   \n",
       "34            Earls Kitchen + Bar   775.475885  42.347225 -71.081893   \n",
       "35                   Fogo de Chão   831.647437  42.348808 -71.077162   \n",
       "36                 Grill 23 & Bar   982.146492  42.349422 -71.072050   \n",
       "37                Bootleg Special   956.035574  42.347120 -71.068340   \n",
       "38             Five Horses Tavern   305.780288  42.341745 -71.080525   \n",
       "39            Petit Robert Bistro   218.669219  42.342830 -71.078580   \n",
       "40                          GRECO  1041.420440  42.350060 -71.081700   \n",
       "41                           Mela   421.858304  42.343270 -71.072500   \n",
       "42                  Boston Burger  1142.571851  42.346914 -71.088519   \n",
       "43            Lucy Ethiopian Cafe   609.361885  42.342369 -71.084123   \n",
       "44  Darryl's Corner Bar & Kitchen   490.971615  42.339760 -71.082410   \n",
       "45                  Franklin Cafe   680.877986  42.342910 -71.068950   \n",
       "46              The Elephant Walk   515.599188  42.341160 -71.070578   \n",
       "47                  Oishii Boston   885.452866  42.343217 -71.066380   \n",
       "48               The Butcher Shop   518.988566  42.343760 -71.071454   \n",
       "49            Mana Escondido Café    91.861892  42.341303 -71.075730   \n",
       "\n",
       "                                             address  is_closed  rating  \\\n",
       "0             [1704 Washington St, Boston, MA 02118]      False     4.0   \n",
       "1               [35 Stanhope St, Back Bay, MA 02116]      False     4.5   \n",
       "2                [761 Boylston St, Boston, MA 02116]      False     4.0   \n",
       "3               [130 Dartmouth St, Boston, MA 02116]      False     4.0   \n",
       "4             [1595 Washington St, Boston, MA 02118]      False     4.0   \n",
       "5                 [525 Tremont St, Boston, MA 02116]      False     4.5   \n",
       "6               [75 Exeter Street, Boston, MA 02116]      False     4.0   \n",
       "7                   [12 Church St, Boston, MA 02116]      False     4.5   \n",
       "8                 [513 Tremont St, Boston, MA 02116]      False     4.0   \n",
       "9                [477 Shawmut Ave, Boston, MA 02118]      False     4.0   \n",
       "10              [537 Columbus Ave, Boston, MA 02118]      False     4.5   \n",
       "11              [569 Columbus Ave, Boston, MA 02118]      False     4.5   \n",
       "12                [541 Tremont St, Boston, MA 02116]      False     3.5   \n",
       "13                [655 Tremont St, Boston, MA 02118]      False     4.5   \n",
       "14              [563 Columbus Ave, Boston, MA 02118]      False     4.5   \n",
       "15              [131 Clarendon St, Boston, MA 02116]      False     4.0   \n",
       "16                [550 Tremont St, Boston, MA 02116]      False     4.0   \n",
       "17              [223 Columbus Ave, Boston, MA 02116]      False     4.0   \n",
       "18            [1145 Washington St, Boston, MA 02118]      False     4.0   \n",
       "19           [59 E Springfield St, Boston, MA 02118]      False     4.5   \n",
       "20            [1714 Washington St, Boston, MA 02118]      False     4.0   \n",
       "21              [131 Dartmouth St, Boston, MA 02116]      False     4.0   \n",
       "22               [900 Boylston St, Boston, MA 02115]      False     4.5   \n",
       "23                [569 Tremont St, Boston, MA 02118]      False     4.0   \n",
       "24                [782 Tremont St, Boston, MA 02118]      False     4.0   \n",
       "25               [253 Shawmut Ave, Boston, MA 02118]      False     4.0   \n",
       "26               [315 Shawmut Ave, Boston, MA 02118]      False     4.5   \n",
       "27               [793 Boylston St, Boston, MA 02116]      False     4.0   \n",
       "28  [177 Massachusetts Ave, Ste A, Boston, MA 02115]      False     4.0   \n",
       "29                [584 Tremont St, Boston, MA 02118]      False     4.0   \n",
       "30            [1375 Washington St, Boston, MA 02118]      False     4.0   \n",
       "31                [35 W Newton St, Boston, MA 02118]      False     4.5   \n",
       "32              [1 Huntington Ave, Boston, MA 02116]      False     4.0   \n",
       "33              [433 Columbus Ave, Boston, MA 02116]      False     4.0   \n",
       "34     [800 Boylston St, Unit 107, Boston, MA 02199]      False     4.0   \n",
       "35              [200 Dartmouth St, Boston, MA 02116]      False     4.0   \n",
       "36               [161 Berkeley St, Boston, MA 02116]      False     4.0   \n",
       "37                [400 Tremont St, Boston, MA 02116]      False     4.0   \n",
       "38              [535 Columbus Ave, Boston, MA 02118]      False     4.0   \n",
       "39              [480 Columbus Ave, Boston, MA 02118]      False     3.5   \n",
       "40                [225 Newbury St, Boston, MA 02116]      False     4.5   \n",
       "41                [578 Tremont St, Boston, MA 02118]      False     3.5   \n",
       "42              [1100 Boylston St, Boston, MA 02215]      False     4.0   \n",
       "43         [334 Massachusetts Ave, Boston, MA 02115]      False     4.0   \n",
       "44              [604 Columbus Ave, Boston, MA 02118]      False     3.5   \n",
       "45               [278 Shawmut Ave, Boston, MA 02118]      False     4.0   \n",
       "46            [1415 Washington St, Boston, MA 02118]      False     4.5   \n",
       "47            [1166 Washington St, Boston, MA 02118]      False     4.0   \n",
       "48                [552 Tremont St, Boston, MA 02118]      False     4.0   \n",
       "49               [68 Aguadilla St, Boston, MA 02118]      False     4.5   \n",
       "\n",
       "    rating_count  \n",
       "0           2425  \n",
       "1           2533  \n",
       "2           2967  \n",
       "3           1813  \n",
       "4            920  \n",
       "5           1326  \n",
       "6           1984  \n",
       "7           2038  \n",
       "8           1299  \n",
       "9            625  \n",
       "10           451  \n",
       "11           515  \n",
       "12          2400  \n",
       "13           282  \n",
       "14           538  \n",
       "15          1163  \n",
       "16          1137  \n",
       "17          1062  \n",
       "18          1812  \n",
       "19           520  \n",
       "20           655  \n",
       "21          1216  \n",
       "22          1062  \n",
       "23           977  \n",
       "24           469  \n",
       "25           994  \n",
       "26           431  \n",
       "27          1591  \n",
       "28          1383  \n",
       "29           524  \n",
       "30           716  \n",
       "31           300  \n",
       "32           738  \n",
       "33           430  \n",
       "34          1289  \n",
       "35          1049  \n",
       "36          1190  \n",
       "37           957  \n",
       "38           509  \n",
       "39           504  \n",
       "40           556  \n",
       "41           672  \n",
       "42          1180  \n",
       "43           442  \n",
       "44           766  \n",
       "45           540  \n",
       "46           253  \n",
       "47           833  \n",
       "48           554  \n",
       "49           100  "
      ]
     },
     "execution_count": 16,
     "metadata": {},
     "output_type": "execute_result"
    }
   ],
   "source": [
    "boston_ylp_df = pd.DataFrame(seperating_sites)\n",
    "boston_ylp_df"
   ]
  },
  {
   "cell_type": "code",
   "execution_count": 17,
   "id": "b08ef2e9-917b-4a86-b37e-9b97f0d223f6",
   "metadata": {},
   "outputs": [],
   "source": [
    "boston_ylp_df.to_csv(f'/Users/kamininayyar/Github_old_pc/GitHub_frm_old_pc/boston_ylp_df.csv', index = False)"
   ]
  },
  {
   "cell_type": "markdown",
   "id": "aeda93ee-5bd1-4595-b288-d6f1e614d94e",
   "metadata": {},
   "source": [
    "What is the different observation between two api's?\n",
    "\n",
    "# Major difference between four square gave entertainment and restraunts where as yelp only gave restraunts"
   ]
  },
  {
   "cell_type": "markdown",
   "id": "34876fda-e5b3-40e5-bd97-da19d46eb44e",
   "metadata": {},
   "source": [
    "Top 10 venues from both api's"
   ]
  },
  {
   "cell_type": "code",
   "execution_count": 18,
   "id": "8725805d-a6ec-444e-9494-d8281caad2fc",
   "metadata": {},
   "outputs": [
    {
     "name": "stdout",
     "output_type": "stream",
     "text": [
      "                   name  rating\n",
      "49  Mana Escondido Café     4.5\n",
      "10    Lobstah On A Roll     4.5\n",
      "26     KAVA neo-taverna     4.5\n",
      "1    The Friendly Toast     4.5\n",
      "31          anoush'ella     4.5\n",
      "22   The Capital Grille     4.5\n",
      "19               Blunch     4.5\n",
      "13                 FoMu     4.5\n",
      "40                GRECO     4.5\n",
      "11           SRV Boston     4.5\n"
     ]
    }
   ],
   "source": [
    "print(boston_ylp_df.iloc[:, [2,8]].sort_values('rating',ascending=False).head(10))"
   ]
  },
  {
   "cell_type": "code",
   "execution_count": 19,
   "id": "5aa2e789-5234-45cc-8027-f9f868a56021",
   "metadata": {},
   "outputs": [
    {
     "name": "stdout",
     "output_type": "stream",
     "text": [
      "                         name  rating\n",
      "0         Harbour Square Park     9.3\n",
      "9             Toronto Islands     9.3\n",
      "31            Roundhouse Park     9.3\n",
      "6         Harbourfront Centre     9.1\n",
      "5                        Miku     9.0\n",
      "26           Scotiabank Arena     8.7\n",
      "29          Maple Leaf Square     8.6\n",
      "23  Air Canada Signature Club     8.6\n",
      "25        Real Sports Apparel     8.6\n",
      "3                 BeaverTails     8.5\n"
     ]
    }
   ],
   "source": [
    "print(boston_entrtanmnt.iloc[:, [3,4]].sort_values('rating',ascending=False).head(10))"
   ]
  },
  {
   "cell_type": "code",
   "execution_count": null,
   "id": "bff0bcee-a6a4-4c90-ad96-59c4ff5f3a09",
   "metadata": {},
   "outputs": [],
   "source": []
  }
 ],
 "metadata": {
  "kernelspec": {
   "display_name": "Python 3 (ipykernel)",
   "language": "python",
   "name": "python3"
  },
  "language_info": {
   "codemirror_mode": {
    "name": "ipython",
    "version": 3
   },
   "file_extension": ".py",
   "mimetype": "text/x-python",
   "name": "python",
   "nbconvert_exporter": "python",
   "pygments_lexer": "ipython3",
   "version": "3.9.13"
  }
 },
 "nbformat": 4,
 "nbformat_minor": 5
}
