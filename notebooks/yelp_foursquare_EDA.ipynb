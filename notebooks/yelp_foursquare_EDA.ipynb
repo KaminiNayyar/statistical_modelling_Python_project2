{
 "cells": [
  {
   "cell_type": "code",
   "execution_count": null,
   "metadata": {},
   "outputs": [],
   "source": [
    "import requests, foursquare\n",
    "import pandas as pd\n",
    "import os\n",
    "from IPython.display import JSON"
   ]
  },
  {
   "cell_type": "markdown",
   "metadata": {},
   "source": [
    "# Foursquare"
   ]
  },
  {
   "cell_type": "markdown",
   "metadata": {},
   "source": [
    "Send a request to Foursquare with a small radius (1000m) for all the bike stations in your city of choice. "
   ]
  },
  {
   "cell_type": "code",
   "execution_count": null,
   "metadata": {},
   "outputs": [],
   "source": [
    "url1 = 'https://api.foursquare.com/v3/places/search' #api_key is hidden\n",
    "\n",
    "# parameters chosen for the Quebec\n",
    "\n",
    "params = {\n",
    "    \"query\": \"bicycle\",\n",
    "    \"ll\": \"46.813050,-71.216800\",\n",
    "    \"radius\": \"1000\",\n",
    "    \"limit\": \"15\"}\n",
    "\n",
    "headers = {\"Accept\": \"application/json\",  \"Authorization\": api_key }\n",
    "# below query is to request the data into json\n",
    "\n",
    "response = requests.request(\"GET\", url1, params=params, headers=headers).json()\n",
    "resp = JSON(response)\n",
    "resp"
   ]
  },
  {
   "cell_type": "markdown",
   "metadata": {},
   "source": [
    "Parse through the response to get the POI (such as restaurants, bars, etc) details you want (ratings, name, location, etc)"
   ]
  },
  {
   "cell_type": "code",
   "execution_count": null,
   "metadata": {},
   "outputs": [],
   "source": [
    "# I used the fields to call the columns I want in the data\n",
    "\n",
    "ffields = 'fsq_id,name,geocodes,categories,distance,rating,hours_popular,popularity,features'\n",
    "headers = {\n",
    "      \"accept\": \"application/json\",\n",
    "      \"Authorization\": api_key\n",
    "  }\n",
    "params = {\n",
    "    \"query\": \"salon\",\n",
    "    \"ll\":\"46.813050,-71.216800\",\n",
    "    \"radius\": \"1000\",\n",
    "    \"limit\": \"15\"}\n",
    "\n",
    "salon_fsq_url = (f'https://api.foursquare.com/v3/places/search?fields={fields}')\n",
    "          \n",
    "\n",
    "fsqsalon_json = requests.get(salon_fsq_url, headers=headers, params=params).json()\n",
    "fsqsalon_json"
   ]
  },
  {
   "cell_type": "markdown",
   "metadata": {},
   "source": [
    "Put your parsed results into a DataFrame"
   ]
  },
  {
   "cell_type": "code",
   "execution_count": null,
   "metadata": {},
   "outputs": [],
   "source": [
    "salon_data_fsq = pd.json_normalize(fsqsalon_json, record_path=[\"results\"])"
   ]
  },
  {
   "cell_type": "markdown",
   "metadata": {},
   "source": [
    "# Yelp"
   ]
  },
  {
   "cell_type": "markdown",
   "metadata": {},
   "source": [
    "Send a request to Yelp with a small radius (1000m) for all the bike stations in your city of choice. "
   ]
  },
  {
   "cell_type": "code",
   "execution_count": null,
   "metadata": {},
   "outputs": [],
   "source": [
    "# I missed this part but i would do the same way as i did with the foursquare and join the databases\n",
    "\n",
    "url_ylp1 = \"https://api.yelp.com/v3/businesses/search?location=Quebec&term=bycycle&categories=rating&categories=hours&categories=popularity&categories=payment_type&sort_by=best_match&radius=1000&limit=15\""
   ]
  },
  {
   "cell_type": "markdown",
   "metadata": {},
   "source": [
    "Parse through the response to get the POI (such as restaurants, bars, etc) details you want (ratings, name, location, etc)"
   ]
  },
  {
   "cell_type": "code",
   "execution_count": null,
   "metadata": {},
   "outputs": [],
   "source": [
    "url_ylp = \"https://api.yelp.com/v3/businesses/search?location=Quebec&term=hair&categories=rating&categories=hours&categories=popularity&categories=payment_type&sort_by=best_match&limit=15\"\n",
    "\n",
    "headers = {\n",
    "    \"Accept\": \"application/json\", \n",
    "    \"Authorization\": \"Bearer api_key\"}\n",
    "\n",
    "response1_json = requests.get(url_ylp, headers=headers).json()\n",
    "response1_json"
   ]
  },
  {
   "cell_type": "markdown",
   "metadata": {},
   "source": [
    "Put your parsed results into a DataFrame"
   ]
  },
  {
   "cell_type": "markdown",
   "metadata": {},
   "source": [
    "yelp_salons = pd.json_normalize( response1_json, record_path=['businesses'])\n",
    "yelp_salons.head(2)\n"
   ]
  },
  {
   "cell_type": "markdown",
   "metadata": {},
   "source": [
    "# Comparing Results"
   ]
  },
  {
   "cell_type": "markdown",
   "metadata": {},
   "source": [
    "Which API provided you with more complete data? Provide an explanation. "
   ]
  },
  {
   "cell_type": "markdown",
   "metadata": {},
   "source": [
    "#yelp was easy to deal with but foursquare had more data"
   ]
  },
  {
   "cell_type": "markdown",
   "metadata": {},
   "source": [
    "Get the top 10 restaurants according to their rating"
   ]
  },
  {
   "cell_type": "code",
   "execution_count": null,
   "metadata": {},
   "outputs": [],
   "source": [
    "fsq_ylp_df = pd.merge(yelp_salons,fsq_salons, how='outer')\n",
    "fsq_ylp_df.head"
   ]
  }
 ],
 "metadata": {
  "kernelspec": {
   "display_name": "Python 3.10.5 64-bit",
   "language": "python",
   "name": "python3"
  },
  "language_info": {
   "codemirror_mode": {
    "name": "ipython",
    "version": 3
   },
   "file_extension": ".py",
   "mimetype": "text/x-python",
   "name": "python",
   "nbconvert_exporter": "python",
   "pygments_lexer": "ipython3",
   "version": "3.10.5"
  },
  "vscode": {
   "interpreter": {
    "hash": "44bac8ab58d6375e48af8fed110d39df3ec8ddf6fb4dd8da03249658af297214"
   }
  }
 },
 "nbformat": 4,
 "nbformat_minor": 4
}
