{
 "cells": [
  {
   "cell_type": "code",
   "execution_count": 1,
   "id": "73b813d5-8d5f-4aab-88d0-0cec86a00558",
   "metadata": {},
   "outputs": [],
   "source": [
    "import requests\n",
    "import json\n",
    "import pandas as pd\n",
    "import json\n",
    "import requests\n",
    "import scipy as sp\n",
    "from datetime import datetime\n",
    "from IPython.display import JSON\n",
    "\n",
    "import seaborn as sns\n",
    "import matplotlib.pyplot as plt\n",
    "import numpy as np"
   ]
  },
  {
   "cell_type": "markdown",
   "id": "e520b6fc-d495-4e94-8865-b00baaf708cf",
   "metadata": {},
   "source": [
    "# extracting the ct byks boston data frame"
   ]
  },
  {
   "cell_type": "code",
   "execution_count": 2,
   "id": "022c8c6f-6ac1-4887-b440-478feb4ef8f0",
   "metadata": {},
   "outputs": [],
   "source": [
    "ct_bks_df = pd.read_csv(f'/Users/kamininayyar/Github_old_pc/GitHub_frm_old_pc/BostonDF.csv')"
   ]
  },
  {
   "cell_type": "code",
   "execution_count": 3,
   "id": "695c5dbd-e4b0-4c9b-b3fa-c35e9e1c16f7",
   "metadata": {},
   "outputs": [
    {
     "name": "stdout",
     "output_type": "stream",
     "text": [
      "42.341332,-71.076847\n"
     ]
    }
   ],
   "source": [
    "# checking the lat and long\n",
    "\n",
    "lati = ct_bks_df['latitude']\n",
    "longi = ct_bks_df['longitude']\n",
    "print(f'{lati[10]},{longi[10]}')"
   ]
  },
  {
   "cell_type": "code",
   "execution_count": 4,
   "id": "e1d84e29-9cc4-478a-b200-2db2e43abc0d",
   "metadata": {},
   "outputs": [],
   "source": [
    "## in the below out put we see that foursquare generated entertainment locations for the above mentioned lati and longi"
   ]
  },
  {
   "cell_type": "code",
   "execution_count": 5,
   "id": "639d72f2-ace3-43ee-a8d1-0b7174aa97cc",
   "metadata": {},
   "outputs": [
    {
     "data": {
      "application/json": {
       "context": {
        "geo_bounds": {
         "circle": {
          "center": {
           "latitude": 43.63189697265625,
           "longitude": -79.37159729003906
          },
          "radius": 1500
         }
        }
       },
       "results": [
        {
         "categories": [
          {
           "icon": {
            "prefix": "https://ss3.4sqi.net/img/categories_v2/parks_outdoors/park_",
            "suffix": ".png"
           },
           "id": 16032,
           "name": "Park"
          }
         ],
         "distance": 983,
         "features": {},
         "fsq_id": "4e49413e81dc766f3e3d6312",
         "geocodes": {
          "main": {
           "latitude": 43.639288,
           "longitude": -79.378261
          },
          "roof": {
           "latitude": 43.639288,
           "longitude": -79.378261
          }
         },
         "hours": {
          "is_local_holiday": false,
          "open_now": false,
          "seasonal": []
         },
         "name": "Harbour Square Park",
         "popularity": 0.9954204829308909,
         "rating": 9.3
        },
        {
         "categories": [
          {
           "icon": {
            "prefix": "https://ss3.4sqi.net/img/categories_v2/arts_entertainment/performingarts_dancestudio_",
            "suffix": ".png"
           },
           "id": 18025,
           "name": "Dance Studio"
          }
         ],
         "distance": 1007,
         "features": {},
         "fsq_id": "4ad4c062f964a520bff720e3",
         "geocodes": {
          "main": {
           "latitude": 43.638298,
           "longitude": -79.3803
          },
          "roof": {
           "latitude": 43.638298,
           "longitude": -79.3803
          }
         },
         "hours": {
          "is_local_holiday": false,
          "open_now": false,
          "seasonal": []
         },
         "name": "Fleck Dance Theater",
         "popularity": 0.9346378018318068,
         "rating": 8.3
        },
        {
         "categories": [
          {
           "icon": {
            "prefix": "https://ss3.4sqi.net/img/categories_v2/food/diner_",
            "suffix": ".png"
           },
           "id": 13049,
           "name": "Diner"
          },
          {
           "icon": {
            "prefix": "https://ss3.4sqi.net/img/categories_v2/food/dimsum_",
            "suffix": ".png"
           },
           "id": 13106,
           "name": "Dim Sum Restaurant"
          }
         ],
         "distance": 1009,
         "features": {
          "amenities": {
           "live_music": false,
           "outdoor_seating": false
          },
          "food_and_drink": {
           "alcohol": {
            "cocktails": true,
            "full_bar": true
           },
           "meals": {
            "brunch": true,
            "dinner": true,
            "lunch": true
           }
          },
          "payment": {
           "credit_cards": {
            "accepts_credit_cards": true
           }
          },
          "services": {
           "delivery": true,
           "dine_in": {
            "reservations": true
           }
          }
         },
         "fsq_id": "4ae33054f964a520759121e3",
         "geocodes": {
          "main": {
           "latitude": 43.639446,
           "longitude": -79.380716
          },
          "roof": {
           "latitude": 43.639446,
           "longitude": -79.380716
          }
         },
         "hours": {
          "display": "Mon-Fri 11:00-15:30, 17:00-22:00; Sat-Sun 10:30-15:30, 17:00-22:00",
          "is_local_holiday": false,
          "open_now": true,
          "regular": [
           {
            "close": "1530",
            "day": 1,
            "open": "1100"
           },
           {
            "close": "2200",
            "day": 1,
            "open": "1700"
           },
           {
            "close": "1530",
            "day": 2,
            "open": "1100"
           },
           {
            "close": "2200",
            "day": 2,
            "open": "1700"
           },
           {
            "close": "1530",
            "day": 3,
            "open": "1100"
           },
           {
            "close": "2200",
            "day": 3,
            "open": "1700"
           },
           {
            "close": "1530",
            "day": 4,
            "open": "1100"
           },
           {
            "close": "2200",
            "day": 4,
            "open": "1700"
           },
           {
            "close": "1530",
            "day": 5,
            "open": "1100"
           },
           {
            "close": "2200",
            "day": 5,
            "open": "1700"
           },
           {
            "close": "1530",
            "day": 6,
            "open": "1030"
           },
           {
            "close": "2200",
            "day": 6,
            "open": "1700"
           },
           {
            "close": "1530",
            "day": 7,
            "open": "1030"
           },
           {
            "close": "2200",
            "day": 7,
            "open": "1700"
           }
          ],
          "seasonal": []
         },
         "name": "Pearl Harbourfront Restaurant",
         "popularity": 0.974126039245902,
         "rating": 8.2
        },
        {
         "categories": [
          {
           "icon": {
            "prefix": "https://ss3.4sqi.net/img/categories_v2/food/dessert_",
            "suffix": ".png"
           },
           "id": 13040,
           "name": "Dessert Shop"
          },
          {
           "icon": {
            "prefix": "https://ss3.4sqi.net/img/categories_v2/food/default_",
            "suffix": ".png"
           },
           "id": 13065,
           "name": "Restaurant"
          }
         ],
         "distance": 1105,
         "features": {
          "food_and_drink": {
           "meals": {
            "brunch": true,
            "dessert": true
           }
          }
         },
         "fsq_id": "55a19437498eeea53fa58b54",
         "geocodes": {
          "main": {
           "latitude": 43.639722,
           "longitude": -79.380012
          },
          "roof": {
           "latitude": 43.639722,
           "longitude": -79.380012
          }
         },
         "hours": {
          "display": "Fri-Sun 12:00-20:00",
          "is_local_holiday": false,
          "open_now": false,
          "regular": [
           {
            "close": "2000",
            "day": 5,
            "open": "1200"
           },
           {
            "close": "2000",
            "day": 6,
            "open": "1200"
           },
           {
            "close": "2000",
            "day": 7,
            "open": "1200"
           }
          ],
          "seasonal": [
           {
            "closed": true,
            "hours": [
             {
              "close": "+0000",
              "day": 1,
              "open": "0000"
             }
            ]
           },
           {
            "closed": true,
            "hours": [
             {
              "close": "+0000",
              "day": 2,
              "open": "0000"
             }
            ]
           },
           {
            "closed": true,
            "hours": [
             {
              "close": "+0000",
              "day": 3,
              "open": "0000"
             }
            ]
           },
           {
            "closed": true,
            "hours": [
             {
              "close": "+0000",
              "day": 4,
              "open": "0000"
             }
            ]
           },
           {
            "closed": true,
            "hours": [
             {
              "close": "+0000",
              "day": 5,
              "open": "0000"
             }
            ]
           },
           {
            "closed": true,
            "hours": [
             {
              "close": "+0000",
              "day": 6,
              "open": "0000"
             }
            ]
           },
           {
            "closed": true,
            "hours": [
             {
              "close": "+0000",
              "day": 7,
              "open": "0000"
             }
            ]
           },
           {
            "closed": true,
            "hours": [
             {
              "close": "+0000",
              "day": 1,
              "open": "0000"
             }
            ]
           },
           {
            "closed": true,
            "hours": [
             {
              "close": "+0000",
              "day": 2,
              "open": "0000"
             }
            ]
           },
           {
            "closed": true,
            "hours": [
             {
              "close": "+0000",
              "day": 3,
              "open": "0000"
             }
            ]
           },
           {
            "closed": true,
            "hours": [
             {
              "close": "+0000",
              "day": 4,
              "open": "0000"
             }
            ]
           },
           {
            "closed": true,
            "hours": [
             {
              "close": "+0000",
              "day": 5,
              "open": "0000"
             }
            ]
           },
           {
            "closed": true,
            "hours": [
             {
              "close": "+0000",
              "day": 6,
              "open": "0000"
             }
            ]
           },
           {
            "closed": true,
            "hours": [
             {
              "close": "+0000",
              "day": 7,
              "open": "0000"
             }
            ]
           },
           {
            "closed": true,
            "hours": [
             {
              "close": "+0000",
              "day": 1,
              "open": "0000"
             }
            ]
           },
           {
            "closed": true,
            "hours": [
             {
              "close": "+0000",
              "day": 2,
              "open": "0000"
             }
            ]
           },
           {
            "closed": true,
            "hours": [
             {
              "close": "+0000",
              "day": 3,
              "open": "0000"
             }
            ]
           },
           {
            "closed": true,
            "hours": [
             {
              "close": "+0000",
              "day": 4,
              "open": "0000"
             }
            ]
           },
           {
            "closed": true,
            "hours": [
             {
              "close": "+0000",
              "day": 5,
              "open": "0000"
             }
            ]
           },
           {
            "closed": true,
            "hours": [
             {
              "close": "+0000",
              "day": 6,
              "open": "0000"
             }
            ]
           },
           {
            "closed": true,
            "hours": [
             {
              "close": "+0000",
              "day": 7,
              "open": "0000"
             }
            ]
           },
           {
            "closed": true,
            "hours": [
             {
              "close": "+0000",
              "day": 1,
              "open": "0000"
             }
            ]
           }
          ]
         },
         "name": "BeaverTails",
         "popularity": 0.9900766773957026,
         "rating": 8.5
        },
        {
         "categories": [
          {
           "icon": {
            "prefix": "https://ss3.4sqi.net/img/categories_v2/food/icecream_",
            "suffix": ".png"
           },
           "id": 13046,
           "name": "Ice Cream Parlor"
          },
          {
           "icon": {
            "prefix": "https://ss3.4sqi.net/img/categories_v2/food/friedchicken_",
            "suffix": ".png"
           },
           "id": 13055,
           "name": "Fried Chicken Joint"
          }
         ],
         "distance": 993,
         "features": {
          "food_and_drink": {
           "meals": {
            "brunch": true,
            "dinner": true
           }
          }
         },
         "fsq_id": "597b72811b0ea5223f9f77f7",
         "geocodes": {
          "main": {
           "latitude": 43.638513,
           "longitude": -79.380428
          },
          "roof": {
           "latitude": 43.638513,
           "longitude": -79.380428
          }
         },
         "hours": {
          "display": "Mon-Wed 11:30-23:00; Thu-Fri 11:30-23:59; Sat 11:00-23:59; Sun 11:00-23:00",
          "is_local_holiday": false,
          "open_now": true,
          "regular": [
           {
            "close": "2300",
            "day": 1,
            "open": "1130"
           },
           {
            "close": "2300",
            "day": 2,
            "open": "1130"
           },
           {
            "close": "2300",
            "day": 3,
            "open": "1130"
           },
           {
            "close": "2359",
            "day": 4,
            "open": "1130"
           },
           {
            "close": "2359",
            "day": 5,
            "open": "1130"
           },
           {
            "close": "2359",
            "day": 6,
            "open": "1100"
           },
           {
            "close": "2300",
            "day": 7,
            "open": "1100"
           }
          ],
          "seasonal": []
         },
         "name": "Joe Bird",
         "popularity": 0.963084245715635,
         "rating": 7.6
        },
        {
         "categories": [
          {
           "icon": {
            "prefix": "https://ss3.4sqi.net/img/categories_v2/food/sushi_",
            "suffix": ".png"
           },
           "id": 13276,
           "name": "Sushi Restaurant"
          }
         ],
         "distance": 1156,
         "features": {
          "amenities": {
           "live_music": false,
           "outdoor_seating": false
          },
          "food_and_drink": {
           "alcohol": {
            "cocktails": true,
            "full_bar": true
           },
           "meals": {
            "brunch": true,
            "dinner": true,
            "happy_hour": false,
            "lunch": true
           }
          },
          "payment": {
           "credit_cards": {
            "accepts_credit_cards": true
           }
          },
          "services": {
           "delivery": false,
           "dine_in": {
            "online_reservations": true,
            "reservations": true
           }
          }
         },
         "fsq_id": "56201ed4498e7f700c462170",
         "geocodes": {
          "main": {
           "latitude": 43.641379,
           "longitude": -79.377285
          },
          "roof": {
           "latitude": 43.641379,
           "longitude": -79.377285
          }
         },
         "hours": {
          "display": "Mon-Thu 11:30-22:00; Fri 11:30-22:30; Sat 12:00-22:30; Sun 12:00-22:00",
          "is_local_holiday": false,
          "open_now": true,
          "regular": [
           {
            "close": "2200",
            "day": 1,
            "open": "1130"
           },
           {
            "close": "2200",
            "day": 2,
            "open": "1130"
           },
           {
            "close": "2200",
            "day": 3,
            "open": "1130"
           },
           {
            "close": "2200",
            "day": 4,
            "open": "1130"
           },
           {
            "close": "2230",
            "day": 5,
            "open": "1130"
           },
           {
            "close": "2230",
            "day": 6,
            "open": "1200"
           },
           {
            "close": "2200",
            "day": 7,
            "open": "1200"
           }
          ],
          "seasonal": []
         },
         "name": "Miku",
         "popularity": 0.9835833322977121,
         "rating": 9
        },
        {
         "categories": [
          {
           "icon": {
            "prefix": "https://ss3.4sqi.net/img/categories_v2/arts_entertainment/musicvenue_",
            "suffix": ".png"
           },
           "id": 10039,
           "name": "Music Venue"
          }
         ],
         "distance": 1190,
         "features": {
          "amenities": {
           "outdoor_seating": true
          },
          "payment": {
           "credit_cards": {
            "accepts_credit_cards": false
           },
           "digital_wallet": {
            "accepts_nfc": false
           }
          },
          "services": {
           "delivery": false
          }
         },
         "fsq_id": "4ad4c05ef964a52094f620e3",
         "geocodes": {
          "main": {
           "latitude": 43.638953,
           "longitude": -79.382881
          },
          "roof": {
           "latitude": 43.638953,
           "longitude": -79.382881
          }
         },
         "hours": {
          "display": "Open Daily 10:00-21:00",
          "is_local_holiday": false,
          "open_now": false,
          "regular": [
           {
            "close": "2100",
            "day": 1,
            "open": "1000"
           },
           {
            "close": "2100",
            "day": 2,
            "open": "1000"
           },
           {
            "close": "2100",
            "day": 3,
            "open": "1000"
           },
           {
            "close": "2100",
            "day": 4,
            "open": "1000"
           },
           {
            "close": "2100",
            "day": 5,
            "open": "1000"
           },
           {
            "close": "2100",
            "day": 6,
            "open": "1000"
           },
           {
            "close": "2100",
            "day": 7,
            "open": "1000"
           }
          ],
          "seasonal": []
         },
         "name": "Harbourfront Centre",
         "popularity": 0.9914499111436986,
         "rating": 9.1
        },
        {
         "categories": [
          {
           "icon": {
            "prefix": "https://ss3.4sqi.net/img/categories_v2/arts_entertainment/artgallery_",
            "suffix": ".png"
           },
           "id": 10004,
           "name": "Art Gallery"
          }
         ],
         "distance": 1095,
         "features": {
          "payment": {
           "credit_cards": {
            "accepts_credit_cards": true
           }
          }
         },
         "fsq_id": "4ad4c05ff964a520edf620e3",
         "geocodes": {
          "main": {
           "latitude": 43.638252,
           "longitude": -79.381993
          }
         },
         "hours": {
          "is_local_holiday": false,
          "open_now": false,
          "seasonal": []
         },
         "name": "The Power Plant",
         "popularity": 0.9558203984241987,
         "rating": 7.9
        },
        {
         "categories": [
          {
           "icon": {
            "prefix": "https://ss3.4sqi.net/img/categories_v2/nightlife/pub_",
            "suffix": ".png"
           },
           "id": 13003,
           "name": "Bar"
          },
          {
           "icon": {
            "prefix": "https://ss3.4sqi.net/img/categories_v2/food/cafe_",
            "suffix": ".png"
           },
           "id": 13034,
           "name": "Café"
          },
          {
           "icon": {
            "prefix": "https://ss3.4sqi.net/img/categories_v2/food/default_",
            "suffix": ".png"
           },
           "id": 13065,
           "name": "Restaurant"
          }
         ],
         "distance": 1128,
         "features": {
          "amenities": {
           "live_music": true,
           "music": true,
           "outdoor_seating": true,
           "restroom": true
          },
          "food_and_drink": {
           "alcohol": {
            "beer": true,
            "cocktails": true,
            "full_bar": true
           },
           "meals": {
            "dinner": true,
            "happy_hour": true
           }
          },
          "payment": {
           "credit_cards": {
            "accepts_credit_cards": true
           }
          },
          "services": {
           "delivery": false,
           "dine_in": {
            "groups_only_reservations": false,
            "reservations": false
           }
          }
         },
         "fsq_id": "57768fb1498ec8fca5cc0594",
         "geocodes": {
          "main": {
           "latitude": 43.639175,
           "longitude": -79.382916
          },
          "roof": {
           "latitude": 43.639175,
           "longitude": -79.382916
          }
         },
         "hours": {
          "display": "Mon 9:00-17:00; Tue-Fri 9:00-23:59; Sat 00:00-2:00, 9:00-23:59; Sun 00:00-2:00, 9:00-20:00",
          "is_local_holiday": false,
          "open_now": true,
          "regular": [
           {
            "close": "1700",
            "day": 1,
            "open": "0900"
           },
           {
            "close": "2359",
            "day": 2,
            "open": "0900"
           },
           {
            "close": "2359",
            "day": 3,
            "open": "0900"
           },
           {
            "close": "2359",
            "day": 4,
            "open": "0900"
           },
           {
            "close": "2359",
            "day": 5,
            "open": "0900"
           },
           {
            "close": "0200",
            "day": 6,
            "open": "0000"
           },
           {
            "close": "2359",
            "day": 6,
            "open": "0900"
           },
           {
            "close": "0200",
            "day": 7,
            "open": "0000"
           },
           {
            "close": "2000",
            "day": 7,
            "open": "0900"
           }
          ],
          "seasonal": []
         },
         "name": "Boxcar Social",
         "popularity": 0.9433618750543701,
         "rating": 8.1
        },
        {
         "categories": [
          {
           "icon": {
            "prefix": "https://ss3.4sqi.net/img/categories_v2/parks_outdoors/park_",
            "suffix": ".png"
           },
           "id": 16032,
           "name": "Park"
          }
         ],
         "distance": 1220,
         "features": {},
         "fsq_id": "4ad4c05ef964a5209af620e3",
         "geocodes": {
          "main": {
           "latitude": 43.621986,
           "longitude": -79.3785
          },
          "roof": {
           "latitude": 43.621986,
           "longitude": -79.3785
          }
         },
         "hours": {
          "is_local_holiday": false,
          "open_now": false,
          "seasonal": []
         },
         "name": "Toronto Islands",
         "popularity": 0.9990368722581928,
         "rating": 9.3
        },
        {
         "categories": [
          {
           "icon": {
            "prefix": "https://ss3.4sqi.net/img/categories_v2/food/coffeeshop_",
            "suffix": ".png"
           },
           "id": 13035,
           "name": "Coffee Shop"
          }
         ],
         "distance": 1183,
         "features": {
          "amenities": {
           "restroom": true,
           "wheelchair_accessible": true
          },
          "payment": {
           "credit_cards": {
            "accepts_credit_cards": true
           },
           "digital_wallet": {
            "accepts_nfc": true
           }
          }
         },
         "fsq_id": "5a53c6b0b0405614996330c6",
         "geocodes": {
          "main": {
           "latitude": 43.64164,
           "longitude": -79.377552
          }
         },
         "hours": {
          "display": "Mon-Fri 7:00-17:00; Sat-Sun 9:00-16:00",
          "is_local_holiday": false,
          "open_now": false,
          "regular": [
           {
            "close": "1700",
            "day": 1,
            "open": "0700"
           },
           {
            "close": "1700",
            "day": 2,
            "open": "0700"
           },
           {
            "close": "1700",
            "day": 3,
            "open": "0700"
           },
           {
            "close": "1700",
            "day": 4,
            "open": "0700"
           },
           {
            "close": "1700",
            "day": 5,
            "open": "0700"
           },
           {
            "close": "1600",
            "day": 6,
            "open": "0900"
           },
           {
            "close": "1600",
            "day": 7,
            "open": "0900"
           }
          ],
          "seasonal": []
         },
         "name": "Mos Mos",
         "popularity": 0.9871686529881815,
         "rating": 8.5
        },
        {
         "categories": [
          {
           "icon": {
            "prefix": "https://ss3.4sqi.net/img/categories_v2/food/brewery_",
            "suffix": ".png"
           },
           "id": 13029,
           "name": "Brewery"
          }
         ],
         "distance": 1001,
         "features": {
          "amenities": {
           "outdoor_seating": false
          },
          "food_and_drink": {
           "meals": {
            "brunch": false,
            "dessert": false,
            "happy_hour": false,
            "lunch": false
           }
          },
          "payment": {
           "credit_cards": {
            "accepts_credit_cards": false
           },
           "digital_wallet": {
            "accepts_nfc": false
           }
          }
         },
         "fsq_id": "4b8fd614f964a520b56433e3",
         "geocodes": {
          "main": {
           "latitude": 43.639446,
           "longitude": -79.380716
          },
          "roof": {
           "latitude": 43.639446,
           "longitude": -79.380716
          }
         },
         "hours": {
          "is_local_holiday": false,
          "open_now": false,
          "seasonal": []
         },
         "name": "Labatt Breweries of Canada",
         "popularity": 0.8387289199299092,
         "rating": 7.3
        },
        {
         "categories": [
          {
           "icon": {
            "prefix": "https://ss3.4sqi.net/img/categories_v2/food/pizza_",
            "suffix": ".png"
           },
           "id": 13064,
           "name": "Pizzeria"
          },
          {
           "icon": {
            "prefix": "https://ss3.4sqi.net/img/categories_v2/food/italian_",
            "suffix": ".png"
           },
           "id": 13236,
           "name": "Italian Restaurant"
          }
         ],
         "distance": 1002,
         "features": {},
         "fsq_id": "597d07dd3149b97652231223",
         "geocodes": {
          "main": {
           "latitude": 43.638552,
           "longitude": -79.380667
          },
          "roof": {
           "latitude": 43.638552,
           "longitude": -79.380667
          }
         },
         "hours": {
          "display": "Open Daily 11:00-23:00",
          "is_local_holiday": false,
          "open_now": true,
          "regular": [
           {
            "close": "2300",
            "day": 1,
            "open": "1100"
           },
           {
            "close": "2300",
            "day": 2,
            "open": "1100"
           },
           {
            "close": "2300",
            "day": 3,
            "open": "1100"
           },
           {
            "close": "2300",
            "day": 4,
            "open": "1100"
           },
           {
            "close": "2300",
            "day": 5,
            "open": "1100"
           },
           {
            "close": "2300",
            "day": 6,
            "open": "1100"
           },
           {
            "close": "2300",
            "day": 7,
            "open": "1100"
           }
          ],
          "seasonal": []
         },
         "name": "Pie Bar",
         "popularity": 0.9077696446990692,
         "rating": 7.3
        },
        {
         "categories": [
          {
           "icon": {
            "prefix": "https://ss3.4sqi.net/img/categories_v2/food/bubble_",
            "suffix": ".png"
           },
           "id": 13033,
           "name": "Bubble Tea Shop"
          },
          {
           "icon": {
            "prefix": "https://ss3.4sqi.net/img/categories_v2/food/tearoom_",
            "suffix": ".png"
           },
           "id": 13036,
           "name": "Tea Room"
          }
         ],
         "distance": 1123,
         "features": {
          "amenities": {
           "parking": {
            "parking": false,
            "private_lot": false,
            "public_lot": false,
            "street_parking": false,
            "valet_parking": false
           }
          },
          "payment": {
           "credit_cards": {
            "accepts_credit_cards": true
           },
           "digital_wallet": {
            "accepts_nfc": true
           }
          }
         },
         "fsq_id": "57b22076498efeeeb93cfc47",
         "geocodes": {
          "main": {
           "latitude": 43.640056,
           "longitude": -79.379271
          },
          "roof": {
           "latitude": 43.640056,
           "longitude": -79.379271
          }
         },
         "hours": {
          "display": "Mon-Thu 11:30-22:00; Fri 11:30-23:00; Sat 12:00-23:30; Sun 12:00-22:30",
          "is_local_holiday": false,
          "open_now": true,
          "regular": [
           {
            "close": "2200",
            "day": 1,
            "open": "1130"
           },
           {
            "close": "2200",
            "day": 2,
            "open": "1130"
           },
           {
            "close": "2200",
            "day": 3,
            "open": "1130"
           },
           {
            "close": "2200",
            "day": 4,
            "open": "1130"
           },
           {
            "close": "2300",
            "day": 5,
            "open": "1130"
           },
           {
            "close": "2330",
            "day": 6,
            "open": "1200"
           },
           {
            "close": "2230",
            "day": 7,
            "open": "1200"
           }
          ],
          "seasonal": []
         },
         "name": "Sharetea Waterfront",
         "popularity": 0.9420197099432065,
         "rating": 7.9
        },
        {
         "categories": [
          {
           "icon": {
            "prefix": "https://ss3.4sqi.net/img/categories_v2/shops/food_liquor_",
            "suffix": ".png"
           },
           "id": 17076,
           "name": "Liquor Store"
          },
          {
           "icon": {
            "prefix": "https://ss3.4sqi.net/img/categories_v2/shops/food_wineshop_",
            "suffix": ".png"
           },
           "id": 17080,
           "name": "Wine Store"
          }
         ],
         "distance": 1229,
         "features": {
          "food_and_drink": {
           "alcohol": {
            "beer": true,
            "wine": true
           }
          },
          "payment": {
           "credit_cards": {
            "accepts_credit_cards": true
           }
          }
         },
         "fsq_id": "4aeb719af964a52020c221e3",
         "geocodes": {
          "main": {
           "latitude": 43.642961,
           "longitude": -79.372488
          },
          "roof": {
           "latitude": 43.642961,
           "longitude": -79.372488
          }
         },
         "hours": {
          "display": "Mon-Sat 10:00-22:00; Sun 12:00-18:00",
          "is_local_holiday": false,
          "open_now": true,
          "regular": [
           {
            "close": "2200",
            "day": 1,
            "open": "1000"
           },
           {
            "close": "2200",
            "day": 2,
            "open": "1000"
           },
           {
            "close": "2200",
            "day": 3,
            "open": "1000"
           },
           {
            "close": "2200",
            "day": 4,
            "open": "1000"
           },
           {
            "close": "2200",
            "day": 5,
            "open": "1000"
           },
           {
            "close": "2200",
            "day": 6,
            "open": "1000"
           },
           {
            "close": "1800",
            "day": 7,
            "open": "1200"
           }
          ],
          "seasonal": []
         },
         "name": "Lcbo",
         "popularity": 0.9950165906520686,
         "rating": 8.3
        },
        {
         "categories": [
          {
           "icon": {
            "prefix": "https://ss3.4sqi.net/img/categories_v2/parks_outdoors/park_",
            "suffix": ".png"
           },
           "id": 16032,
           "name": "Park"
          }
         ],
         "distance": 1017,
         "features": {},
         "fsq_id": "4c029ec29a7920a165aece79",
         "geocodes": {
          "main": {
           "latitude": 43.62459,
           "longitude": -79.363982
          }
         },
         "hours": {
          "is_local_holiday": false,
          "open_now": false,
          "seasonal": []
         },
         "name": "Snake Island",
         "popularity": 0.9334323387227063,
         "rating": 7
        },
        {
         "categories": [
          {
           "icon": {
            "prefix": "https://ss3.4sqi.net/img/categories_v2/nightlife/pub_",
            "suffix": ".png"
           },
           "id": 13006,
           "name": "Beer Bar"
          },
          {
           "icon": {
            "prefix": "https://ss3.4sqi.net/img/categories_v2/food/brewery_",
            "suffix": ".png"
           },
           "id": 13029,
           "name": "Brewery"
          },
          {
           "icon": {
            "prefix": "https://ss3.4sqi.net/img/categories_v2/food/default_",
            "suffix": ".png"
           },
           "id": 13068,
           "name": "American Restaurant"
          }
         ],
         "distance": 1267,
         "features": {
          "amenities": {
           "live_music": false,
           "outdoor_seating": true
          },
          "food_and_drink": {
           "alcohol": {
            "beer": true,
            "cocktails": true,
            "full_bar": true
           },
           "meals": {
            "brunch": false,
            "happy_hour": true
           }
          },
          "payment": {
           "credit_cards": {
            "accepts_credit_cards": true
           }
          },
          "services": {
           "delivery": true,
           "dine_in": {
            "online_reservations": true,
            "reservations": true
           }
          }
         },
         "fsq_id": "516da5e0e4b0ad66584cf170",
         "geocodes": {
          "main": {
           "latitude": 43.63797,
           "longitude": -79.384828
          },
          "roof": {
           "latitude": 43.63797,
           "longitude": -79.384828
          }
         },
         "hours": {
          "display": "Mon-Thu 11:00-23:00; Fri 11:00-23:59; Sat 00:00-2:00, 11:00-23:59; Sun 00:00-2:00, 11:00-23:00",
          "is_local_holiday": false,
          "open_now": true,
          "regular": [
           {
            "close": "2300",
            "day": 1,
            "open": "1100"
           },
           {
            "close": "2300",
            "day": 2,
            "open": "1100"
           },
           {
            "close": "2300",
            "day": 3,
            "open": "1100"
           },
           {
            "close": "2300",
            "day": 4,
            "open": "1100"
           },
           {
            "close": "2359",
            "day": 5,
            "open": "1100"
           },
           {
            "close": "0200",
            "day": 6,
            "open": "0000"
           },
           {
            "close": "2359",
            "day": 6,
            "open": "1100"
           },
           {
            "close": "0200",
            "day": 7,
            "open": "0000"
           },
           {
            "close": "2300",
            "day": 7,
            "open": "1100"
           }
          ],
          "seasonal": []
         },
         "name": "Amsterdam BrewHouse",
         "popularity": 0.9913007816869027,
         "rating": 8.1
        },
        {
         "categories": [
          {
           "icon": {
            "prefix": "https://ss3.4sqi.net/img/categories_v2/food/greek_",
            "suffix": ".png"
           },
           "id": 13177,
           "name": "Greek Restaurant"
          }
         ],
         "distance": 1123,
         "features": {
          "amenities": {
           "outdoor_seating": true
          },
          "food_and_drink": {
           "meals": {
            "brunch": true,
            "dinner": true,
            "lunch": true
           }
          },
          "payment": {
           "credit_cards": {
            "accepts_credit_cards": true
           }
          },
          "services": {
           "delivery": false,
           "dine_in": {
            "groups_only_reservations": false,
            "reservations": false
           }
          }
         },
         "fsq_id": "4b75f350f964a5207c312ee3",
         "geocodes": {
          "main": {
           "latitude": 43.641526,
           "longitude": -79.375252
          },
          "roof": {
           "latitude": 43.641526,
           "longitude": -79.375252
          }
         },
         "hours": {
          "is_local_holiday": false,
          "open_now": false,
          "seasonal": []
         },
         "name": "Alexandro's World Famous Gyros",
         "popularity": 0.9901201734872681,
         "rating": 7.3
        },
        {
         "categories": [
          {
           "icon": {
            "prefix": "https://ss3.4sqi.net/img/categories_v2/food/steakhouse_",
            "suffix": ".png"
           },
           "id": 13383,
           "name": "Steakhouse"
          }
         ],
         "distance": 1255,
         "features": {
          "amenities": {
           "live_music": false,
           "outdoor_seating": false
          },
          "food_and_drink": {
           "alcohol": {
            "cocktails": false,
            "full_bar": true
           },
           "meals": {
            "brunch": true,
            "dinner": true,
            "lunch": true
           }
          },
          "payment": {
           "credit_cards": {
            "accepts_credit_cards": true
           }
          },
          "services": {
           "delivery": false,
           "dine_in": {
            "online_reservations": true,
            "reservations": true
           }
          }
         },
         "fsq_id": "4ad7b757f964a520ff0d21e3",
         "geocodes": {
          "main": {
           "latitude": 43.642089,
           "longitude": -79.378332
          },
          "roof": {
           "latitude": 43.642089,
           "longitude": -79.378332
          }
         },
         "hours": {
          "display": "Mon-Fri 00:00-1:00, 11:30-23:59; Sat-Sun 00:00-1:00, 17:00-23:59",
          "is_local_holiday": false,
          "open_now": true,
          "regular": [
           {
            "close": "0100",
            "day": 1,
            "open": "0000"
           },
           {
            "close": "2359",
            "day": 1,
            "open": "1130"
           },
           {
            "close": "0100",
            "day": 2,
            "open": "0000"
           },
           {
            "close": "2359",
            "day": 2,
            "open": "1130"
           },
           {
            "close": "0100",
            "day": 3,
            "open": "0000"
           },
           {
            "close": "2359",
            "day": 3,
            "open": "1130"
           },
           {
            "close": "0100",
            "day": 4,
            "open": "0000"
           },
           {
            "close": "2359",
            "day": 4,
            "open": "1130"
           },
           {
            "close": "0100",
            "day": 5,
            "open": "0000"
           },
           {
            "close": "2359",
            "day": 5,
            "open": "1130"
           },
           {
            "close": "0100",
            "day": 6,
            "open": "0000"
           },
           {
            "close": "2359",
            "day": 6,
            "open": "1700"
           },
           {
            "close": "0100",
            "day": 7,
            "open": "0000"
           },
           {
            "close": "2359",
            "day": 7,
            "open": "1700"
           }
          ],
          "seasonal": []
         },
         "name": "Harbour Sixty Steakhouse",
         "popularity": 0.9912572855953372,
         "rating": 7.9
        },
        {
         "categories": [
          {
           "icon": {
            "prefix": "https://ss3.4sqi.net/img/categories_v2/parks_outdoors/plaza_",
            "suffix": ".png"
           },
           "id": 16041,
           "name": "Plaza"
          }
         ],
         "distance": 1184,
         "features": {},
         "fsq_id": "515779bee4b0a9d4c8c9380d",
         "geocodes": {
          "main": {
           "latitude": 43.639314,
           "longitude": -79.38177
          },
          "roof": {
           "latitude": 43.639314,
           "longitude": -79.38177
          }
         },
         "hours": {
          "is_local_holiday": false,
          "open_now": false,
          "seasonal": []
         },
         "name": "Ontario Square",
         "popularity": 0.9451079324443561,
         "rating": 7.5
        },
        {
         "categories": [
          {
           "icon": {
            "prefix": "https://ss3.4sqi.net/img/categories_v2/food/coffeeshop_",
            "suffix": ".png"
           },
           "id": 13035,
           "name": "Coffee Shop"
          }
         ],
         "distance": 1127,
         "features": {
          "amenities": {
           "live_music": false,
           "outdoor_seating": true,
           "private_room": false,
           "restroom": true,
           "wheelchair_accessible": true
          },
          "food_and_drink": {
           "alcohol": {
            "cocktails": false,
            "full_bar": false
           },
           "meals": {
            "breakfast": true,
            "brunch": true,
            "dessert": true,
            "happy_hour": false,
            "lunch": true
           }
          },
          "payment": {
           "credit_cards": {
            "accepts_credit_cards": true
           }
          }
         },
         "fsq_id": "55a40a8e498e0819937a8534",
         "geocodes": {
          "main": {
           "latitude": 43.640946,
           "longitude": -79.378618
          },
          "roof": {
           "latitude": 43.640946,
           "longitude": -79.378618
          }
         },
         "hours": {
          "display": "Mon-Fri 7:00-21:00; Sat-Sun 8:00-21:00",
          "is_local_holiday": false,
          "open_now": false,
          "regular": [
           {
            "close": "2100",
            "day": 1,
            "open": "0700"
           },
           {
            "close": "2100",
            "day": 2,
            "open": "0700"
           },
           {
            "close": "2100",
            "day": 3,
            "open": "0700"
           },
           {
            "close": "2100",
            "day": 4,
            "open": "0700"
           },
           {
            "close": "2100",
            "day": 5,
            "open": "0700"
           },
           {
            "close": "2100",
            "day": 6,
            "open": "0800"
           },
           {
            "close": "2100",
            "day": 7,
            "open": "0800"
           }
          ],
          "seasonal": []
         },
         "name": "Aroma Espresso Bar",
         "popularity": 0.9724607603116806,
         "rating": 7.2
        },
        {
         "categories": [
          {
           "icon": {
            "prefix": "https://ss3.4sqi.net/img/categories_v2/parks_outdoors/beach_",
            "suffix": ".png"
           },
           "id": 16003,
           "name": "Beach"
          }
         ],
         "distance": 1319,
         "features": {
          "food_and_drink": {
           "alcohol": {
            "beer": true,
            "wine": true
           }
          }
         },
         "fsq_id": "4c2e1fc7e116e21eb5bc8f60",
         "geocodes": {
          "main": {
           "latitude": 43.643368,
           "longitude": -79.367645
          }
         },
         "hours": {
          "is_local_holiday": false,
          "open_now": false,
          "seasonal": []
         },
         "name": "Canada's Sugar Beach",
         "popularity": 0.9884176121888476,
         "rating": 8.1
        },
        {
         "categories": [
          {
           "icon": {
            "prefix": "https://ss3.4sqi.net/img/categories_v2/arts_entertainment/musicvenue_",
            "suffix": ".png"
           },
           "id": 10039,
           "name": "Music Venue"
          },
          {
           "icon": {
            "prefix": "https://ss3.4sqi.net/img/categories_v2/arts_entertainment/performingarts_theater_",
            "suffix": ".png"
           },
           "id": 10043,
           "name": "Theater"
          },
          {
           "icon": {
            "prefix": "https://ss3.4sqi.net/img/categories_v2/food/default_",
            "suffix": ".png"
           },
           "id": 13065,
           "name": "Restaurant"
          }
         ],
         "distance": 1140,
         "features": {},
         "fsq_id": "4b10746cf964a520ca7023e3",
         "geocodes": {
          "main": {
           "latitude": 43.63866,
           "longitude": -79.382274
          },
          "roof": {
           "latitude": 43.63866,
           "longitude": -79.382274
          }
         },
         "hours": {
          "is_local_holiday": false,
          "open_now": false,
          "seasonal": []
         },
         "name": "Enwave Theatre",
         "popularity": 0.12203139175065555,
         "rating": 7.2
        },
        {
         "categories": [
          {
           "icon": {
            "prefix": "https://ss3.4sqi.net/img/categories_v2/nightlife/default_",
            "suffix": ".png"
           },
           "id": 13016,
           "name": "Lounge"
          },
          {
           "icon": {
            "prefix": "https://ss3.4sqi.net/img/categories_v2/food/diner_",
            "suffix": ".png"
           },
           "id": 13049,
           "name": "Diner"
          }
         ],
         "distance": 1397,
         "features": {
          "amenities": {
           "live_music": false,
           "outdoor_seating": false
          },
          "food_and_drink": {
           "meals": {
            "happy_hour": true
           }
          },
          "payment": {
           "credit_cards": {
            "accepts_credit_cards": true
           }
          }
         },
         "fsq_id": "4b60d5b9f964a52071fc29e3",
         "geocodes": {
          "main": {
           "latitude": 43.643439,
           "longitude": -79.379061
          },
          "roof": {
           "latitude": 43.643439,
           "longitude": -79.379061
          }
         },
         "hours": {
          "is_local_holiday": false,
          "open_now": false,
          "seasonal": []
         },
         "name": "Air Canada Signature Club",
         "popularity": 0.9765804615556688,
         "rating": 8.6
        },
        {
         "categories": [
          {
           "icon": {
            "prefix": "https://ss3.4sqi.net/img/categories_v2/food/ramen_",
            "suffix": ".png"
           },
           "id": 13272,
           "name": "Ramen Restaurant"
          }
         ],
         "distance": 1240,
         "features": {
          "amenities": {
           "music": true,
           "outdoor_seating": true,
           "restroom": true
          },
          "food_and_drink": {
           "meals": {
            "brunch": true,
            "dinner": true,
            "lunch": true
           }
          },
          "payment": {
           "credit_cards": {
            "accepts_credit_cards": true
           }
          }
         },
         "fsq_id": "5de849003935b5000848a107",
         "geocodes": {
          "main": {
           "latitude": 43.641498,
           "longitude": -79.380295
          },
          "roof": {
           "latitude": 43.641498,
           "longitude": -79.380295
          }
         },
         "hours": {
          "display": "Open Daily 11:30-22:30",
          "is_local_holiday": false,
          "open_now": true,
          "regular": [
           {
            "close": "2230",
            "day": 1,
            "open": "1130"
           },
           {
            "close": "2230",
            "day": 2,
            "open": "1130"
           },
           {
            "close": "2230",
            "day": 3,
            "open": "1130"
           },
           {
            "close": "2230",
            "day": 4,
            "open": "1130"
           },
           {
            "close": "2230",
            "day": 5,
            "open": "1130"
           },
           {
            "close": "2230",
            "day": 6,
            "open": "1130"
           },
           {
            "close": "2230",
            "day": 7,
            "open": "1130"
           }
          ],
          "seasonal": []
         },
         "name": "Kinton Ramen",
         "popularity": 0.9586662855580549,
         "rating": 7.6
        },
        {
         "categories": [
          {
           "icon": {
            "prefix": "https://ss3.4sqi.net/img/categories_v2/shops/apparel_",
            "suffix": ".png"
           },
           "id": 17043,
           "name": "Clothing Store"
          }
         ],
         "distance": 1400,
         "features": {
          "payment": {
           "credit_cards": {
            "accepts_credit_cards": true
           }
          }
         },
         "fsq_id": "4be46c832468c92887c1fe42",
         "geocodes": {
          "main": {
           "latitude": 43.642345,
           "longitude": -79.38099
          },
          "roof": {
           "latitude": 43.642345,
           "longitude": -79.38099
          }
         },
         "hours": {
          "display": "Mon-Fri 10:00-20:00; Sat 10:00-18:00; Sun 11:00-18:00",
          "is_local_holiday": false,
          "open_now": false,
          "regular": [
           {
            "close": "2000",
            "day": 1,
            "open": "1000"
           },
           {
            "close": "2000",
            "day": 2,
            "open": "1000"
           },
           {
            "close": "2000",
            "day": 3,
            "open": "1000"
           },
           {
            "close": "2000",
            "day": 4,
            "open": "1000"
           },
           {
            "close": "2000",
            "day": 5,
            "open": "1000"
           },
           {
            "close": "1800",
            "day": 6,
            "open": "1000"
           },
           {
            "close": "1800",
            "day": 7,
            "open": "1100"
           }
          ],
          "seasonal": []
         },
         "name": "Real Sports Apparel",
         "popularity": 0.9868331117103906,
         "rating": 8.6
        },
        {
         "categories": [
          {
           "icon": {
            "prefix": "https://ss3.4sqi.net/img/categories_v2/arts_entertainment/stadium_",
            "suffix": ".png"
           },
           "id": 10051,
           "name": "Stadium"
          }
         ],
         "distance": 1416,
         "features": {
          "food_and_drink": {
           "alcohol": {
            "beer": true,
            "wine": true
           }
          },
          "payment": {
           "credit_cards": {
            "accepts_credit_cards": true
           }
          }
         },
         "fsq_id": "4b155081f964a520b4b023e3",
         "geocodes": {
          "main": {
           "latitude": 43.643485,
           "longitude": -79.379209
          },
          "roof": {
           "latitude": 43.643485,
           "longitude": -79.379209
          }
         },
         "hours": {
          "display": "Mon-Fri 9:30-18:00; Sat 9:30-17:00",
          "is_local_holiday": false,
          "open_now": false,
          "regular": [
           {
            "close": "1800",
            "day": 1,
            "open": "0930"
           },
           {
            "close": "1800",
            "day": 2,
            "open": "0930"
           },
           {
            "close": "1800",
            "day": 3,
            "open": "0930"
           },
           {
            "close": "1800",
            "day": 4,
            "open": "0930"
           },
           {
            "close": "1800",
            "day": 5,
            "open": "0930"
           },
           {
            "close": "1700",
            "day": 6,
            "open": "0930"
           }
          ],
          "seasonal": []
         },
         "name": "Scotiabank Arena",
         "popularity": 0.9998508705432041,
         "rating": 8.7
        },
        {
         "categories": [
          {
           "icon": {
            "prefix": "https://ss3.4sqi.net/img/categories_v2/food/cafe_",
            "suffix": ".png"
           },
           "id": 13034,
           "name": "Café"
          }
         ],
         "distance": 1166,
         "features": {},
         "fsq_id": "4e62a4a08877954de84c94c4",
         "geocodes": {
          "main": {
           "latitude": 43.638347,
           "longitude": -79.383046
          }
         },
         "hours": {
          "is_local_holiday": false,
          "open_now": false,
          "seasonal": []
         },
         "name": "World Café at Harbourfront Centre",
         "popularity": 0.8756322467595412,
         "rating": 7.2
        },
        {
         "categories": [
          {
           "icon": {
            "prefix": "https://ss3.4sqi.net/img/categories_v2/parks_outdoors/sceniclookout_",
            "suffix": ".png"
           },
           "id": 16046,
           "name": "Scenic Lookout"
          }
         ],
         "distance": 1320,
         "features": {},
         "fsq_id": "4e0f9e9e1838f62321d17b8d",
         "geocodes": {
          "main": {
           "latitude": 43.638799,
           "longitude": -79.385006
          },
          "roof": {
           "latitude": 43.638799,
           "longitude": -79.385006
          }
         },
         "hours": {
          "is_local_holiday": false,
          "open_now": false,
          "seasonal": []
         },
         "name": "Harbourfront Wavedecks",
         "popularity": 0.9835957597524451,
         "rating": 7.8
        },
        {
         "categories": [
          {
           "icon": {
            "prefix": "https://ss3.4sqi.net/img/categories_v2/parks_outdoors/plaza_",
            "suffix": ".png"
           },
           "id": 16041,
           "name": "Plaza"
          }
         ],
         "distance": 1435,
         "features": {},
         "fsq_id": "4bdb8c1cc79cc928a77583e9",
         "geocodes": {
          "main": {
           "latitude": 43.642925,
           "longitude": -79.380892
          }
         },
         "hours": {
          "is_local_holiday": false,
          "open_now": false,
          "seasonal": []
         },
         "name": "Maple Leaf Square",
         "popularity": 0.9967999304062535,
         "rating": 8.6
        },
        {
         "categories": [
          {
           "icon": {
            "prefix": "https://ss3.4sqi.net/img/categories_v2/nightlife/sportsbar_",
            "suffix": ".png"
           },
           "id": 13022,
           "name": "Sports Bar"
          }
         ],
         "distance": 1362,
         "features": {
          "amenities": {
           "live_music": false,
           "outdoor_seating": false,
           "restroom": true,
           "smoking": false,
           "tvs": true
          },
          "food_and_drink": {
           "alcohol": {
            "beer": true,
            "cocktails": true,
            "full_bar": true,
            "wine": true
           },
           "meals": {
            "brunch": true,
            "happy_hour": true
           }
          },
          "payment": {
           "credit_cards": {
            "accepts_credit_cards": true
           }
          },
          "services": {
           "delivery": false,
           "dine_in": {
            "online_reservations": true,
            "reservations": true
           }
          }
         },
         "fsq_id": "4c05b0ce5753c92838e739f1",
         "geocodes": {
          "main": {
           "latitude": 43.642558,
           "longitude": -79.379965
          }
         },
         "hours": {
          "is_local_holiday": false,
          "open_now": false,
          "seasonal": []
         },
         "name": "RS - Real Sports",
         "popularity": 0.9879205139995277,
         "rating": 8
        },
        {
         "categories": [
          {
           "icon": {
            "prefix": "https://ss3.4sqi.net/img/categories_v2/parks_outdoors/park_",
            "suffix": ".png"
           },
           "id": 16032,
           "name": "Park"
          }
         ],
         "distance": 1495,
         "features": {},
         "fsq_id": "4b642db1f964a520b7a22ae3",
         "geocodes": {
          "main": {
           "latitude": 43.641208,
           "longitude": -79.385063
          },
          "roof": {
           "latitude": 43.641208,
           "longitude": -79.385063
          }
         },
         "hours": {
          "is_local_holiday": false,
          "open_now": false,
          "seasonal": []
         },
         "name": "Roundhouse Park",
         "popularity": 0.99827879751948,
         "rating": 9.3
        },
        {
         "categories": [
          {
           "icon": {
            "prefix": "https://ss3.4sqi.net/img/categories_v2/food/deli_",
            "suffix": ".png"
           },
           "id": 13039,
           "name": "Deli"
          }
         ],
         "distance": 1437,
         "features": {
          "amenities": {
           "live_music": false,
           "outdoor_seating": false
          },
          "food_and_drink": {
           "alcohol": {
            "beer": true,
            "cocktails": true,
            "full_bar": true,
            "wine": true
           },
           "meals": {
            "breakfast": true,
            "brunch": true,
            "happy_hour": false,
            "lunch": true
           }
          },
          "payment": {
           "credit_cards": {
            "accepts_credit_cards": true
           }
          },
          "services": {
           "delivery": false,
           "dine_in": {
            "groups_only_reservations": false,
            "reservations": false
           }
          }
         },
         "fsq_id": "562922be498e2c6aad0e6091",
         "geocodes": {
          "main": {
           "latitude": 43.641002,
           "longitude": -79.383254
          },
          "roof": {
           "latitude": 43.641002,
           "longitude": -79.383254
          }
         },
         "hours": {
          "display": "Mon-Fri 7:00-16:00; Sat-Sun 7:00-17:00",
          "is_local_holiday": false,
          "open_now": false,
          "regular": [
           {
            "close": "1600",
            "day": 1,
            "open": "0700"
           },
           {
            "close": "1600",
            "day": 2,
            "open": "0700"
           },
           {
            "close": "1600",
            "day": 3,
            "open": "0700"
           },
           {
            "close": "1600",
            "day": 4,
            "open": "0700"
           },
           {
            "close": "1600",
            "day": 5,
            "open": "0700"
           },
           {
            "close": "1700",
            "day": 6,
            "open": "0700"
           },
           {
            "close": "1700",
            "day": 7,
            "open": "0700"
           }
          ],
          "seasonal": []
         },
         "name": "Evviva Breakfast Restaurant",
         "popularity": 0.9904619284924254,
         "rating": 8.3
        },
        {
         "categories": [
          {
           "icon": {
            "prefix": "https://ss3.4sqi.net/img/categories_v2/arts_entertainment/themepark_",
            "suffix": ".png"
           },
           "id": 10001,
           "name": "Amusement Park"
          }
         ],
         "distance": 1293,
         "features": {
          "payment": {
           "credit_cards": {
            "accepts_credit_cards": false
           },
           "digital_wallet": {
            "accepts_nfc": false
           }
          }
         },
         "fsq_id": "4c102721e7d29521b0bdd7b0",
         "geocodes": {
          "main": {
           "latitude": 43.62048,
           "longitude": -79.373729
          },
          "roof": {
           "latitude": 43.62048,
           "longitude": -79.373729
          }
         },
         "hours": {
          "is_local_holiday": false,
          "open_now": false,
          "seasonal": []
         },
         "name": "Centreville Amusement Park",
         "popularity": 0.9959548634844098,
         "rating": 7.5
        },
        {
         "categories": [
          {
           "icon": {
            "prefix": "https://ss3.4sqi.net/img/categories_v2/food/default_",
            "suffix": ".png"
           },
           "id": 13065,
           "name": "Restaurant"
          }
         ],
         "distance": 981,
         "features": {
          "food_and_drink": {
           "meals": {
            "brunch": true,
            "dinner": true,
            "lunch": true
           }
          }
         },
         "fsq_id": "5946e7ae31fd1427cb463751",
         "geocodes": {
          "main": {
           "latitude": 43.638898,
           "longitude": -79.380536
          },
          "roof": {
           "latitude": 43.638898,
           "longitude": -79.380536
          }
         },
         "hours": {
          "display": "Mon-Thu 00:00-1:00, 11:00-23:59; Fri 00:00-2:00, 11:00-23:59; Sat-Sun 00:00-2:00, 9:30-23:59",
          "is_local_holiday": false,
          "open_now": true,
          "regular": [
           {
            "close": "0100",
            "day": 1,
            "open": "0000"
           },
           {
            "close": "2359",
            "day": 1,
            "open": "1100"
           },
           {
            "close": "0100",
            "day": 2,
            "open": "0000"
           },
           {
            "close": "2359",
            "day": 2,
            "open": "1100"
           },
           {
            "close": "0100",
            "day": 3,
            "open": "0000"
           },
           {
            "close": "2359",
            "day": 3,
            "open": "1100"
           },
           {
            "close": "0100",
            "day": 4,
            "open": "0000"
           },
           {
            "close": "2359",
            "day": 4,
            "open": "1100"
           },
           {
            "close": "0200",
            "day": 5,
            "open": "0000"
           },
           {
            "close": "2359",
            "day": 5,
            "open": "1100"
           },
           {
            "close": "0200",
            "day": 6,
            "open": "0000"
           },
           {
            "close": "2359",
            "day": 6,
            "open": "0930"
           },
           {
            "close": "0200",
            "day": 7,
            "open": "0000"
           },
           {
            "close": "2359",
            "day": 7,
            "open": "0930"
           }
          ],
          "seasonal": []
         },
         "name": "The Goodman Pub and Kitchen",
         "popularity": 0.9768725067418942,
         "rating": 6.3
        },
        {
         "categories": [
          {
           "icon": {
            "prefix": "https://ss3.4sqi.net/img/categories_v2/shops/sports_outdoors_",
            "suffix": ".png"
           },
           "id": 17117,
           "name": "Sporting Goods Retail"
          }
         ],
         "distance": 1418,
         "features": {
          "food_and_drink": {
           "alcohol": {
            "beer": true,
            "wine": true
           }
          },
          "payment": {
           "credit_cards": {
            "accepts_credit_cards": true
           }
          }
         },
         "fsq_id": "4caaabd8f47ea143763b8521",
         "geocodes": {
          "main": {
           "latitude": 43.642306,
           "longitude": -79.380751
          },
          "roof": {
           "latitude": 43.642306,
           "longitude": -79.380751
          }
         },
         "hours": {
          "display": "Mon-Fri 10:00-21:00; Sat 10:00-19:00; Sun 11:00-18:00",
          "is_local_holiday": false,
          "open_now": false,
          "regular": [
           {
            "close": "2100",
            "day": 1,
            "open": "1000"
           },
           {
            "close": "2100",
            "day": 2,
            "open": "1000"
           },
           {
            "close": "2100",
            "day": 3,
            "open": "1000"
           },
           {
            "close": "2100",
            "day": 4,
            "open": "1000"
           },
           {
            "close": "2100",
            "day": 5,
            "open": "1000"
           },
           {
            "close": "1900",
            "day": 6,
            "open": "1000"
           },
           {
            "close": "1800",
            "day": 7,
            "open": "1100"
           }
          ],
          "seasonal": []
         },
         "name": "Sport Chek Maple Leaf Square",
         "popularity": 0.9953894142940585,
         "rating": 8.1
        },
        {
         "categories": [
          {
           "icon": {
            "prefix": "https://ss3.4sqi.net/img/categories_v2/parks_outdoors/beach_",
            "suffix": ".png"
           },
           "id": 16003,
           "name": "Beach"
          }
         ],
         "distance": 1430,
         "features": {},
         "fsq_id": "4bf9a9905317a59386aa017f",
         "geocodes": {
          "main": {
           "latitude": 43.630111,
           "longitude": -79.353859
          }
         },
         "hours": {
          "is_local_holiday": false,
          "open_now": false,
          "seasonal": []
         },
         "name": "Wards Beach",
         "popularity": 0.9663588800377795,
         "rating": 8.2
        },
        {
         "categories": [
          {
           "icon": {
            "prefix": "https://ss3.4sqi.net/img/categories_v2/arts_entertainment/musicvenue_",
            "suffix": ".png"
           },
           "id": 10037,
           "name": "Concert Hall"
          },
          {
           "icon": {
            "prefix": "https://ss3.4sqi.net/img/categories_v2/arts_entertainment/musicvenue_",
            "suffix": ".png"
           },
           "id": 10039,
           "name": "Music Venue"
          }
         ],
         "distance": 1176,
         "features": {
          "payment": {
           "credit_cards": {
            "accepts_credit_cards": false
           },
           "digital_wallet": {
            "accepts_nfc": false
           }
          }
         },
         "fsq_id": "4e4fe00cc65bb313ba8bd2a8",
         "geocodes": {
          "main": {
           "latitude": 43.637966,
           "longitude": -79.383332
          },
          "roof": {
           "latitude": 43.637966,
           "longitude": -79.383332
          }
         },
         "hours": {
          "is_local_holiday": false,
          "open_now": false,
          "seasonal": []
         },
         "name": "WestJet Stage",
         "popularity": 0.930884710502442,
         "rating": 6.9
        },
        {
         "categories": [
          {
           "icon": {
            "prefix": "https://ss3.4sqi.net/img/categories_v2/food/deli_",
            "suffix": ".png"
           },
           "id": 13039,
           "name": "Deli"
          },
          {
           "icon": {
            "prefix": "https://ss3.4sqi.net/img/categories_v2/food/fastfood_",
            "suffix": ".png"
           },
           "id": 13145,
           "name": "Fast Food Restaurant"
          }
         ],
         "distance": 1288,
         "features": {
          "amenities": {
           "outdoor_seating": false
          },
          "payment": {
           "credit_cards": {
            "accepts_credit_cards": true
           }
          },
          "services": {
           "delivery": false,
           "dine_in": {
            "groups_only_reservations": false,
            "reservations": false
           }
          }
         },
         "fsq_id": "4ba2c7acf964a5209f1838e3",
         "geocodes": {
          "main": {
           "latitude": 43.63956,
           "longitude": -79.383435
          },
          "roof": {
           "latitude": 43.639578,
           "longitude": -79.383541
          }
         },
         "hours": {
          "display": "Mon-Thu 9:00-22:00; Fri-Sat 9:00-23:00; Sun 9:00-22:00",
          "is_local_holiday": false,
          "open_now": true,
          "regular": [
           {
            "close": "2200",
            "day": 1,
            "open": "0900"
           },
           {
            "close": "2200",
            "day": 2,
            "open": "0900"
           },
           {
            "close": "2200",
            "day": 3,
            "open": "0900"
           },
           {
            "close": "2200",
            "day": 4,
            "open": "0900"
           },
           {
            "close": "2300",
            "day": 5,
            "open": "0900"
           },
           {
            "close": "2300",
            "day": 6,
            "open": "0900"
           },
           {
            "close": "2200",
            "day": 7,
            "open": "0900"
           }
          ],
          "seasonal": []
         },
         "name": "Subway",
         "popularity": 0.9639914499111437,
         "rating": 7.3
        },
        {
         "categories": [
          {
           "icon": {
            "prefix": "https://ss3.4sqi.net/img/categories_v2/food/cafe_",
            "suffix": ".png"
           },
           "id": 13034,
           "name": "Café"
          },
          {
           "icon": {
            "prefix": "https://ss3.4sqi.net/img/categories_v2/food/coffeeshop_",
            "suffix": ".png"
           },
           "id": 13035,
           "name": "Coffee Shop"
          },
          {
           "icon": {
            "prefix": "https://ss3.4sqi.net/img/categories_v2/food/default_",
            "suffix": ".png"
           },
           "id": 13065,
           "name": "Restaurant"
          }
         ],
         "distance": 1178,
         "features": {
          "amenities": {
           "live_music": false,
           "outdoor_seating": true
          },
          "food_and_drink": {
           "alcohol": {
            "cocktails": false,
            "full_bar": false
           },
           "meals": {
            "happy_hour": false
           }
          },
          "payment": {
           "credit_cards": {
            "accepts_credit_cards": true
           }
          },
          "services": {
           "delivery": false
          }
         },
         "fsq_id": "51cf6105498e99bf4fc45d1b",
         "geocodes": {
          "main": {
           "latitude": 43.639314,
           "longitude": -79.38177
          },
          "roof": {
           "latitude": 43.639314,
           "longitude": -79.38177
          }
         },
         "hours": {
          "display": "Mon-Fri 7:30-18:00; Sat-Sun 8:00-18:00",
          "is_local_holiday": false,
          "open_now": false,
          "regular": [
           {
            "close": "1800",
            "day": 1,
            "open": "0730"
           },
           {
            "close": "1800",
            "day": 2,
            "open": "0730"
           },
           {
            "close": "1800",
            "day": 3,
            "open": "0730"
           },
           {
            "close": "1800",
            "day": 4,
            "open": "0730"
           },
           {
            "close": "1800",
            "day": 5,
            "open": "0730"
           },
           {
            "close": "1800",
            "day": 6,
            "open": "0800"
           },
           {
            "close": "1800",
            "day": 7,
            "open": "0800"
           }
          ],
          "seasonal": []
         },
         "name": "Lavazza Espression",
         "popularity": 0.8643170492251482,
         "rating": 6.9
        },
        {
         "categories": [
          {
           "icon": {
            "prefix": "https://ss3.4sqi.net/img/categories_v2/food/default_",
            "suffix": ".png"
           },
           "id": 13032,
           "name": "Cafes, Coffee, and Tea Houses"
          },
          {
           "icon": {
            "prefix": "https://ss3.4sqi.net/img/categories_v2/food/default_",
            "suffix": ".png"
           },
           "id": 13065,
           "name": "Restaurant"
          }
         ],
         "distance": 1044,
         "features": {
          "amenities": {
           "outdoor_seating": true
          },
          "payment": {
           "credit_cards": {
            "accepts_credit_cards": true
           }
          }
         },
         "fsq_id": "4ba3d8def964a520086638e3",
         "geocodes": {
          "main": {
           "latitude": 43.638892,
           "longitude": -79.380628
          },
          "roof": {
           "latitude": 43.638892,
           "longitude": -79.380628
          }
         },
         "hours": {
          "display": "Open Daily 8:00-15:00",
          "is_local_holiday": false,
          "open_now": false,
          "regular": [
           {
            "close": "1500",
            "day": 1,
            "open": "0800"
           },
           {
            "close": "1500",
            "day": 2,
            "open": "0800"
           },
           {
            "close": "1500",
            "day": 3,
            "open": "0800"
           },
           {
            "close": "1500",
            "day": 4,
            "open": "0800"
           },
           {
            "close": "1500",
            "day": 5,
            "open": "0800"
           },
           {
            "close": "1500",
            "day": 6,
            "open": "0800"
           },
           {
            "close": "1500",
            "day": 7,
            "open": "0800"
           }
          ],
          "seasonal": []
         },
         "name": "Tim Hortons",
         "popularity": 0.9411000782929648,
         "rating": 6.3
        },
        {
         "categories": [
          {
           "icon": {
            "prefix": "https://ss3.4sqi.net/img/categories_v2/shops/apparel_",
            "suffix": ".png"
           },
           "id": 17043,
           "name": "Clothing Store"
          }
         ],
         "distance": 1384,
         "features": {
          "payment": {
           "credit_cards": {
            "accepts_credit_cards": true
           }
          }
         },
         "fsq_id": "4b09c4a9f964a5203b1d23e3",
         "geocodes": {
          "main": {
           "latitude": 43.643887,
           "longitude": -79.369784
          },
          "roof": {
           "latitude": 43.643887,
           "longitude": -79.369784
          }
         },
         "hours": {
          "display": "Open Daily 10:00-18:00",
          "is_local_holiday": false,
          "open_now": false,
          "regular": [
           {
            "close": "1800",
            "day": 1,
            "open": "1000"
           },
           {
            "close": "1800",
            "day": 2,
            "open": "1000"
           },
           {
            "close": "1800",
            "day": 3,
            "open": "1000"
           },
           {
            "close": "1800",
            "day": 4,
            "open": "1000"
           },
           {
            "close": "1800",
            "day": 5,
            "open": "1000"
           },
           {
            "close": "1800",
            "day": 6,
            "open": "1000"
           },
           {
            "close": "1800",
            "day": 7,
            "open": "1000"
           }
          ],
          "seasonal": [
           {
            "closed": true,
            "hours": [
             {
              "close": "+0000",
              "day": 2,
              "open": "0000"
             },
             {
              "close": "+0000",
              "day": 2,
              "open": "0000"
             }
            ]
           },
           {
            "closed": true,
            "hours": [
             {
              "close": "+0000",
              "day": 3,
              "open": "0000"
             },
             {
              "close": "+0000",
              "day": 3,
              "open": "0000"
             }
            ]
           },
           {
            "closed": true,
            "hours": [
             {
              "close": "+0000",
              "day": 4,
              "open": "0000"
             },
             {
              "close": "+0000",
              "day": 4,
              "open": "0000"
             }
            ]
           },
           {
            "closed": true,
            "hours": [
             {
              "close": "+0000",
              "day": 5,
              "open": "0000"
             },
             {
              "close": "+0000",
              "day": 5,
              "open": "0000"
             }
            ]
           },
           {
            "closed": true,
            "hours": [
             {
              "close": "+0000",
              "day": 6,
              "open": "0000"
             },
             {
              "close": "+0000",
              "day": 6,
              "open": "0000"
             }
            ]
           },
           {
            "closed": true,
            "hours": [
             {
              "close": "+0000",
              "day": 7,
              "open": "0000"
             },
             {
              "close": "+0000",
              "day": 7,
              "open": "0000"
             }
            ]
           },
           {
            "closed": true,
            "hours": [
             {
              "close": "+0000",
              "day": 1,
              "open": "0000"
             },
             {
              "close": "+0000",
              "day": 1,
              "open": "0000"
             }
            ]
           },
           {
            "closed": true,
            "hours": [
             {
              "close": "+0000",
              "day": 2,
              "open": "0000"
             },
             {
              "close": "+0000",
              "day": 2,
              "open": "0000"
             }
            ]
           },
           {
            "closed": true,
            "hours": [
             {
              "close": "+0000",
              "day": 3,
              "open": "0000"
             },
             {
              "close": "+0000",
              "day": 3,
              "open": "0000"
             }
            ]
           },
           {
            "closed": true,
            "hours": [
             {
              "close": "+0000",
              "day": 4,
              "open": "0000"
             },
             {
              "close": "+0000",
              "day": 4,
              "open": "0000"
             }
            ]
           },
           {
            "closed": true,
            "hours": [
             {
              "close": "+0000",
              "day": 5,
              "open": "0000"
             },
             {
              "close": "+0000",
              "day": 5,
              "open": "0000"
             }
            ]
           },
           {
            "closed": true,
            "hours": [
             {
              "close": "+0000",
              "day": 6,
              "open": "0000"
             },
             {
              "close": "+0000",
              "day": 6,
              "open": "0000"
             }
            ]
           },
           {
            "closed": true,
            "hours": [
             {
              "close": "+0000",
              "day": 7,
              "open": "0000"
             },
             {
              "close": "+0000",
              "day": 7,
              "open": "0000"
             }
            ]
           },
           {
            "closed": true,
            "hours": [
             {
              "close": "+0000",
              "day": 1,
              "open": "0000"
             },
             {
              "close": "+0000",
              "day": 1,
              "open": "0000"
             }
            ]
           },
           {
            "closed": true,
            "hours": [
             {
              "close": "+0000",
              "day": 2,
              "open": "0000"
             },
             {
              "close": "+0000",
              "day": 2,
              "open": "0000"
             }
            ]
           },
           {
            "closed": true,
            "hours": [
             {
              "close": "+0000",
              "day": 3,
              "open": "0000"
             },
             {
              "close": "+0000",
              "day": 3,
              "open": "0000"
             }
            ]
           },
           {
            "closed": true,
            "hours": [
             {
              "close": "+0000",
              "day": 4,
              "open": "0000"
             },
             {
              "close": "+0000",
              "day": 4,
              "open": "0000"
             }
            ]
           },
           {
            "closed": true,
            "hours": [
             {
              "close": "+0000",
              "day": 5,
              "open": "0000"
             },
             {
              "close": "+0000",
              "day": 5,
              "open": "0000"
             }
            ]
           },
           {
            "closed": true,
            "hours": [
             {
              "close": "+0000",
              "day": 6,
              "open": "0000"
             },
             {
              "close": "+0000",
              "day": 6,
              "open": "0000"
             }
            ]
           },
           {
            "closed": true,
            "hours": [
             {
              "close": "+0000",
              "day": 7,
              "open": "0000"
             },
             {
              "close": "+0000",
              "day": 7,
              "open": "0000"
             }
            ]
           },
           {
            "closed": true,
            "hours": [
             {
              "close": "+0000",
              "day": 1,
              "open": "0000"
             },
             {
              "close": "+0000",
              "day": 1,
              "open": "0000"
             }
            ]
           },
           {
            "closed": true,
            "hours": [
             {
              "close": "+0000",
              "day": 2,
              "open": "0000"
             },
             {
              "close": "+0000",
              "day": 2,
              "open": "0000"
             }
            ]
           },
           {
            "closed": true,
            "hours": [
             {
              "close": "+0000",
              "day": 3,
              "open": "0000"
             },
             {
              "close": "+0000",
              "day": 3,
              "open": "0000"
             }
            ]
           },
           {
            "closed": true,
            "hours": [
             {
              "close": "+0000",
              "day": 4,
              "open": "0000"
             },
             {
              "close": "+0000",
              "day": 4,
              "open": "0000"
             }
            ]
           },
           {
            "closed": true,
            "hours": [
             {
              "close": "+0000",
              "day": 5,
              "open": "0000"
             },
             {
              "close": "+0000",
              "day": 5,
              "open": "0000"
             }
            ]
           },
           {
            "closed": true,
            "hours": [
             {
              "close": "+0000",
              "day": 6,
              "open": "0000"
             },
             {
              "close": "+0000",
              "day": 6,
              "open": "0000"
             }
            ]
           },
           {
            "closed": true,
            "hours": [
             {
              "close": "+0000",
              "day": 7,
              "open": "0000"
             },
             {
              "close": "+0000",
              "day": 7,
              "open": "0000"
             }
            ]
           },
           {
            "closed": true,
            "hours": [
             {
              "close": "+0000",
              "day": 1,
              "open": "0000"
             },
             {
              "close": "+0000",
              "day": 1,
              "open": "0000"
             }
            ]
           },
           {
            "closed": true,
            "hours": [
             {
              "close": "+0000",
              "day": 2,
              "open": "0000"
             },
             {
              "close": "+0000",
              "day": 2,
              "open": "0000"
             }
            ]
           },
           {
            "closed": true,
            "hours": [
             {
              "close": "+0000",
              "day": 3,
              "open": "0000"
             },
             {
              "close": "+0000",
              "day": 3,
              "open": "0000"
             }
            ]
           },
           {
            "closed": true,
            "hours": [
             {
              "close": "+0000",
              "day": 4,
              "open": "0000"
             },
             {
              "close": "+0000",
              "day": 4,
              "open": "0000"
             }
            ]
           },
           {
            "closed": true,
            "hours": [
             {
              "close": "+0000",
              "day": 5,
              "open": "0000"
             },
             {
              "close": "+0000",
              "day": 5,
              "open": "0000"
             }
            ]
           },
           {
            "closed": true,
            "hours": [
             {
              "close": "+0000",
              "day": 6,
              "open": "0000"
             },
             {
              "close": "+0000",
              "day": 6,
              "open": "0000"
             }
            ]
           },
           {
            "closed": true,
            "hours": [
             {
              "close": "+0000",
              "day": 7,
              "open": "0000"
             },
             {
              "close": "+0000",
              "day": 7,
              "open": "0000"
             }
            ]
           },
           {
            "closed": true,
            "hours": [
             {
              "close": "+0000",
              "day": 1,
              "open": "0000"
             },
             {
              "close": "+0000",
              "day": 1,
              "open": "0000"
             }
            ]
           },
           {
            "closed": true,
            "hours": [
             {
              "close": "+0000",
              "day": 2,
              "open": "0000"
             },
             {
              "close": "+0000",
              "day": 2,
              "open": "0000"
             }
            ]
           },
           {
            "closed": true,
            "hours": [
             {
              "close": "+0000",
              "day": 3,
              "open": "0000"
             },
             {
              "close": "+0000",
              "day": 3,
              "open": "0000"
             }
            ]
           },
           {
            "closed": true,
            "hours": [
             {
              "close": "+0000",
              "day": 4,
              "open": "0000"
             },
             {
              "close": "+0000",
              "day": 4,
              "open": "0000"
             }
            ]
           }
          ]
         },
         "name": "Joe Fresh",
         "popularity": 0.9963401145811326,
         "rating": 7.6
        },
        {
         "categories": [
          {
           "icon": {
            "prefix": "https://ss3.4sqi.net/img/categories_v2/food/icecream_",
            "suffix": ".png"
           },
           "id": 13046,
           "name": "Ice Cream Parlor"
          }
         ],
         "distance": 1051,
         "features": {},
         "fsq_id": "598859002632ec78a08edcc8",
         "geocodes": {
          "main": {
           "latitude": 43.638892,
           "longitude": -79.380628
          },
          "roof": {
           "latitude": 43.638892,
           "longitude": -79.380628
          }
         },
         "hours": {
          "is_local_holiday": false,
          "open_now": false,
          "seasonal": []
         },
         "name": "The Fix",
         "popularity": 0.8428796898107299,
         "rating": 6.3
        },
        {
         "categories": [
          {
           "icon": {
            "prefix": "https://ss3.4sqi.net/img/categories_v2/food/default_",
            "suffix": ".png"
           },
           "id": 13032,
           "name": "Cafes, Coffee, and Tea Houses"
          },
          {
           "icon": {
            "prefix": "https://ss3.4sqi.net/img/categories_v2/food/default_",
            "suffix": ".png"
           },
           "id": 13065,
           "name": "Restaurant"
          }
         ],
         "distance": 1407,
         "features": {
          "food_and_drink": {
           "meals": {
            "breakfast": true
           }
          },
          "payment": {
           "credit_cards": {
            "accepts_credit_cards": false
           },
           "digital_wallet": {
            "accepts_nfc": false
           }
          },
          "services": {
           "dine_in": {
            "groups_only_reservations": false,
            "reservations": false
           }
          }
         },
         "fsq_id": "53af56a1498ee47d2a3a06d7",
         "geocodes": {
          "main": {
           "latitude": 43.638705,
           "longitude": -79.3863
          },
          "roof": {
           "latitude": 43.638705,
           "longitude": -79.3863
          }
         },
         "hours": {
          "display": "Open Daily 7:00-21:00",
          "is_local_holiday": false,
          "open_now": false,
          "regular": [
           {
            "close": "2100",
            "day": 1,
            "open": "0700"
           },
           {
            "close": "2100",
            "day": 2,
            "open": "0700"
           },
           {
            "close": "2100",
            "day": 3,
            "open": "0700"
           },
           {
            "close": "2100",
            "day": 4,
            "open": "0700"
           },
           {
            "close": "2100",
            "day": 5,
            "open": "0700"
           },
           {
            "close": "2100",
            "day": 6,
            "open": "0700"
           },
           {
            "close": "2100",
            "day": 7,
            "open": "0700"
           }
          ],
          "seasonal": []
         },
         "name": "Tim Hortons",
         "popularity": 0.9878894453626953,
         "rating": 7.7
        },
        {
         "categories": [
          {
           "icon": {
            "prefix": "https://ss3.4sqi.net/img/categories_v2/food/sushi_",
            "suffix": ".png"
           },
           "id": 13276,
           "name": "Sushi Restaurant"
          }
         ],
         "distance": 1209,
         "features": {
          "amenities": {
           "live_music": false,
           "outdoor_seating": false
          },
          "food_and_drink": {
           "alcohol": {
            "full_bar": false
           },
           "meals": {
            "brunch": false
           }
          },
          "payment": {
           "credit_cards": {
            "accepts_credit_cards": true
           }
          },
          "services": {
           "delivery": true,
           "dine_in": {
            "reservations": true
           }
          }
         },
         "fsq_id": "4b3d5882f964a520d29225e3",
         "geocodes": {
          "main": {
           "latitude": 43.641819,
           "longitude": -79.375859
          },
          "roof": {
           "latitude": 43.641819,
           "longitude": -79.375859
          }
         },
         "hours": {
          "display": "Mon-Fri 10:00-19:00; Sat-Sun 9:00-18:00",
          "is_local_holiday": false,
          "open_now": false,
          "regular": [
           {
            "close": "1900",
            "day": 1,
            "open": "1000"
           },
           {
            "close": "1900",
            "day": 2,
            "open": "1000"
           },
           {
            "close": "1900",
            "day": 3,
            "open": "1000"
           },
           {
            "close": "1900",
            "day": 4,
            "open": "1000"
           },
           {
            "close": "1900",
            "day": 5,
            "open": "1000"
           },
           {
            "close": "1800",
            "day": 6,
            "open": "0900"
           },
           {
            "close": "1800",
            "day": 7,
            "open": "0900"
           }
          ],
          "seasonal": []
         },
         "name": "Oyshi Sushi",
         "popularity": 0.9450706500801571,
         "rating": 6.9
        },
        {
         "categories": [
          {
           "icon": {
            "prefix": "https://ss3.4sqi.net/img/categories_v2/food/coffeeshop_",
            "suffix": ".png"
           },
           "id": 13035,
           "name": "Coffee Shop"
          }
         ],
         "distance": 1226,
         "features": {
          "amenities": {
           "live_music": false,
           "outdoor_seating": true
          },
          "food_and_drink": {
           "alcohol": {
            "cocktails": false,
            "full_bar": false
           },
           "meals": {
            "breakfast": true,
            "brunch": true,
            "happy_hour": false
           }
          },
          "payment": {
           "credit_cards": {
            "accepts_credit_cards": true
           }
          },
          "services": {
           "delivery": false
          }
         },
         "fsq_id": "4ada6dfcf964a520842221e3",
         "geocodes": {
          "main": {
           "latitude": 43.639975,
           "longitude": -79.381174
          },
          "roof": {
           "latitude": 43.639975,
           "longitude": -79.381174
          }
         },
         "hours": {
          "display": "Mon-Fri 5:30-22:00; Sat-Sun 6:00-22:00",
          "is_local_holiday": false,
          "open_now": true,
          "regular": [
           {
            "close": "2200",
            "day": 1,
            "open": "0530"
           },
           {
            "close": "2200",
            "day": 2,
            "open": "0530"
           },
           {
            "close": "2200",
            "day": 3,
            "open": "0530"
           },
           {
            "close": "2200",
            "day": 4,
            "open": "0530"
           },
           {
            "close": "2200",
            "day": 5,
            "open": "0530"
           },
           {
            "close": "2200",
            "day": 6,
            "open": "0600"
           },
           {
            "close": "2200",
            "day": 7,
            "open": "0600"
           }
          ],
          "seasonal": []
         },
         "name": "Starbucks",
         "popularity": 0.9767668733766637,
         "rating": 6.9
        },
        {
         "categories": [
          {
           "icon": {
            "prefix": "https://ss3.4sqi.net/img/categories_v2/arts_entertainment/musicvenue_",
            "suffix": ".png"
           },
           "id": 10039,
           "name": "Music Venue"
          },
          {
           "icon": {
            "prefix": "https://ss3.4sqi.net/img/categories_v2/arts_entertainment/performingarts_",
            "suffix": ".png"
           },
           "id": 10035,
           "name": "Performing Arts Venue"
          }
         ],
         "distance": 1212,
         "features": {},
         "fsq_id": "4c38f4103849c9285a76c0b1",
         "geocodes": {
          "main": {
           "latitude": 43.638736,
           "longitude": -79.383548
          },
          "roof": {
           "latitude": 43.638736,
           "longitude": -79.383548
          }
         },
         "hours": {
          "is_local_holiday": false,
          "open_now": false,
          "seasonal": []
         },
         "name": "Redpath Stage at Harbourfront",
         "popularity": 0.8753215603912162,
         "rating": 6.9
        },
        {
         "categories": [
          {
           "icon": {
            "prefix": "https://ss3.4sqi.net/img/categories_v2/food/default_",
            "suffix": ".png"
           },
           "id": 13068,
           "name": "American Restaurant"
          },
          {
           "icon": {
            "prefix": "https://ss3.4sqi.net/img/categories_v2/food/newamerican_",
            "suffix": ".png"
           },
           "id": 13314,
           "name": "New American Restaurant"
          },
          {
           "icon": {
            "prefix": "https://ss3.4sqi.net/img/categories_v2/food/steakhouse_",
            "suffix": ".png"
           },
           "id": 13383,
           "name": "Steakhouse"
          }
         ],
         "distance": 1412,
         "features": {
          "amenities": {
           "outdoor_seating": true
          },
          "food_and_drink": {
           "alcohol": {
            "cocktails": true,
            "full_bar": true,
            "wine": true
           },
           "meals": {
            "brunch": true,
            "dinner": true,
            "happy_hour": true,
            "lunch": true
           }
          },
          "payment": {
           "credit_cards": {
            "accepts_credit_cards": true
           }
          },
          "services": {
           "dine_in": {
            "online_reservations": true,
            "reservations": true
           }
          }
         },
         "fsq_id": "4c9fbdd77c096dcbfe43e1d1",
         "geocodes": {
          "main": {
           "latitude": 43.642508,
           "longitude": -79.381063
          },
          "roof": {
           "latitude": 43.642508,
           "longitude": -79.381063
          }
         },
         "hours": {
          "display": "Mon-Sat 12:00-23:59; Sun 10:30-14:30",
          "is_local_holiday": false,
          "open_now": true,
          "regular": [
           {
            "close": "2359",
            "day": 1,
            "open": "1200"
           },
           {
            "close": "2359",
            "day": 2,
            "open": "1200"
           },
           {
            "close": "2359",
            "day": 3,
            "open": "1200"
           },
           {
            "close": "2359",
            "day": 4,
            "open": "1200"
           },
           {
            "close": "2359",
            "day": 5,
            "open": "1200"
           },
           {
            "close": "2359",
            "day": 6,
            "open": "1200"
           },
           {
            "close": "1430",
            "day": 7,
            "open": "1030"
           }
          ],
          "seasonal": []
         },
         "name": "E11Even",
         "popularity": 0.98390644612077,
         "rating": 7.6
        },
        {
         "categories": [
          {
           "icon": {
            "prefix": "https://ss3.4sqi.net/img/categories_v2/arts_entertainment/museum_history_",
            "suffix": ".png"
           },
           "id": 10030,
           "name": "History Museum"
          },
          {
           "icon": {
            "prefix": "https://ss3.4sqi.net/img/categories_v2/parks_outdoors/outdoors_",
            "suffix": ".png"
           },
           "id": 16030,
           "name": "Other Great Outdoors"
          }
         ],
         "distance": 1496,
         "features": {},
         "fsq_id": "4c57636330d82d7f57d3d962",
         "geocodes": {
          "main": {
           "latitude": 43.6409,
           "longitude": -79.385434
          },
          "roof": {
           "latitude": 43.6409,
           "longitude": -79.385434
          }
         },
         "hours": {
          "is_local_holiday": false,
          "open_now": false,
          "seasonal": []
         },
         "name": "Toronto Railway Heritage Centre",
         "popularity": 0.9914250562342327,
         "rating": 8
        },
        {
         "categories": [
          {
           "icon": {
            "prefix": "https://ss3.4sqi.net/img/categories_v2/food/cafe_",
            "suffix": ".png"
           },
           "id": 13034,
           "name": "Café"
          }
         ],
         "distance": 1253,
         "features": {
          "amenities": {
           "outdoor_seating": true
          },
          "food_and_drink": {
           "alcohol": {
            "beer": true,
            "cocktails": true
           },
           "meals": {
            "brunch": true,
            "dinner": true,
            "lunch": true
           }
          }
         },
         "fsq_id": "4bf03befc601a5939873c3d1",
         "geocodes": {
          "main": {
           "latitude": 43.630917,
           "longitude": -79.355902
          },
          "roof": {
           "latitude": 43.630917,
           "longitude": -79.355902
          }
         },
         "hours": {
          "display": "Open Daily 7:00-23:00",
          "is_local_holiday": false,
          "open_now": true,
          "regular": [
           {
            "close": "2300",
            "day": 1,
            "open": "0700"
           },
           {
            "close": "2300",
            "day": 2,
            "open": "0700"
           },
           {
            "close": "2300",
            "day": 3,
            "open": "0700"
           },
           {
            "close": "2300",
            "day": 4,
            "open": "0700"
           },
           {
            "close": "2300",
            "day": 5,
            "open": "0700"
           },
           {
            "close": "2300",
            "day": 6,
            "open": "0700"
           },
           {
            "close": "2300",
            "day": 7,
            "open": "0700"
           }
          ],
          "seasonal": []
         },
         "name": "Island Cafe",
         "popularity": 0.9416779549380492,
         "rating": 7
        }
       ]
      },
      "text/plain": [
       "<IPython.core.display.JSON object>"
      ]
     },
     "execution_count": 5,
     "metadata": {
      "application/json": {
       "expanded": false,
       "root": "root"
      }
     },
     "output_type": "execute_result"
    }
   ],
   "source": [
    "fields = 'fsq_id,name,geocodes,categories,distance,rating,hours,popularity,features'\n",
    "\n",
    "headers = {\"Accept\": \"application/json\",  \"Authorization\": 'fsq3n080DfbZyBZQmDa7lBlZ1Z5ycpNJrKKFnh4ATEPok8o='}\n",
    "# below query is to request the data into json\n",
    "url1 = (f'https://api.foursquare.com/v3/places/search?latitude={lati}&longitude={longi}&fields={fields}&radius=1500&limit=50')\n",
    "response = requests.request(\"GET\", url1 , headers=headers).json()\n",
    "resp = JSON(response)\n",
    "resp"
   ]
  },
  {
   "cell_type": "code",
   "execution_count": 6,
   "id": "50e69182-aa43-4216-8226-4ea4f9869751",
   "metadata": {},
   "outputs": [],
   "source": [
    "entertainment_boston = []\n",
    "for enter in response['results']:\n",
    "    categories = enter.get('categories', None)\n",
    "    cat_id = categories[0]['id'] if len(categories) > 0 else None\n",
    "    category_name = categories[0]['name'] if len(categories) > 0 else None\n",
    "\n",
    "    poi_boston_enter = {'lat-long': f'{lati},{longi}', 'fsq_id': enter['fsq_id'], 'cat_id': cat_id\n",
    "          , 'category_name': category_name, 'categories': categories, 'name': enter.get('name', None)\n",
    "           , 'rating': enter.get('rating', None), 'distance': enter.get('distance', None)\n",
    "          , 'latitude': enter.get('geocodes', {}).get('main', {}).get('latitude', None)\n",
    "          , 'longitude': enter.get('geocodes', {}).get('main', {}).get('longitude', None)\n",
    "          , 'address': enter.get('location', {}).get('formatted_address', None)\n",
    "          , 'popularity': enter.get('popularity', None), 'open_now': enter.get('hours', {}).get('open_now', None)\n",
    "          \n",
    "      }\n",
    "      \n",
    "    entertainment_boston.append(poi_boston_enter)\n",
    "\n"
   ]
  },
  {
   "cell_type": "code",
   "execution_count": 7,
   "id": "148db787-1ba9-48b5-b7cd-4d2795592ad9",
   "metadata": {
    "tags": []
   },
   "outputs": [
    {
     "data": {
      "text/html": [
       "<div>\n",
       "<style scoped>\n",
       "    .dataframe tbody tr th:only-of-type {\n",
       "        vertical-align: middle;\n",
       "    }\n",
       "\n",
       "    .dataframe tbody tr th {\n",
       "        vertical-align: top;\n",
       "    }\n",
       "\n",
       "    .dataframe thead th {\n",
       "        text-align: right;\n",
       "    }\n",
       "</style>\n",
       "<table border=\"1\" class=\"dataframe\">\n",
       "  <thead>\n",
       "    <tr style=\"text-align: right;\">\n",
       "      <th></th>\n",
       "      <th>lat-long</th>\n",
       "      <th>fsq_id</th>\n",
       "      <th>cat_id</th>\n",
       "      <th>category_name</th>\n",
       "      <th>categories</th>\n",
       "      <th>name</th>\n",
       "      <th>rating</th>\n",
       "      <th>distance</th>\n",
       "      <th>latitude</th>\n",
       "      <th>longitude</th>\n",
       "      <th>address</th>\n",
       "      <th>popularity</th>\n",
       "      <th>open_now</th>\n",
       "    </tr>\n",
       "  </thead>\n",
       "  <tbody>\n",
       "    <tr>\n",
       "      <th>0</th>\n",
       "      <td>0      42.386781\\n1      42.368844\\n2      42....</td>\n",
       "      <td>4e49413e81dc766f3e3d6312</td>\n",
       "      <td>16032</td>\n",
       "      <td>Park</td>\n",
       "      <td>[{'id': 16032, 'name': 'Park', 'icon': {'prefi...</td>\n",
       "      <td>Harbour Square Park</td>\n",
       "      <td>9.3</td>\n",
       "      <td>983</td>\n",
       "      <td>43.639288</td>\n",
       "      <td>-79.378261</td>\n",
       "      <td>None</td>\n",
       "      <td>0.995420</td>\n",
       "      <td>False</td>\n",
       "    </tr>\n",
       "    <tr>\n",
       "      <th>1</th>\n",
       "      <td>0      42.386781\\n1      42.368844\\n2      42....</td>\n",
       "      <td>4ad4c062f964a520bff720e3</td>\n",
       "      <td>18025</td>\n",
       "      <td>Dance Studio</td>\n",
       "      <td>[{'id': 18025, 'name': 'Dance Studio', 'icon':...</td>\n",
       "      <td>Fleck Dance Theater</td>\n",
       "      <td>8.3</td>\n",
       "      <td>1007</td>\n",
       "      <td>43.638298</td>\n",
       "      <td>-79.380300</td>\n",
       "      <td>None</td>\n",
       "      <td>0.934638</td>\n",
       "      <td>False</td>\n",
       "    </tr>\n",
       "    <tr>\n",
       "      <th>2</th>\n",
       "      <td>0      42.386781\\n1      42.368844\\n2      42....</td>\n",
       "      <td>4ae33054f964a520759121e3</td>\n",
       "      <td>13049</td>\n",
       "      <td>Diner</td>\n",
       "      <td>[{'id': 13049, 'name': 'Diner', 'icon': {'pref...</td>\n",
       "      <td>Pearl Harbourfront Restaurant</td>\n",
       "      <td>8.2</td>\n",
       "      <td>1009</td>\n",
       "      <td>43.639446</td>\n",
       "      <td>-79.380716</td>\n",
       "      <td>None</td>\n",
       "      <td>0.974126</td>\n",
       "      <td>True</td>\n",
       "    </tr>\n",
       "    <tr>\n",
       "      <th>3</th>\n",
       "      <td>0      42.386781\\n1      42.368844\\n2      42....</td>\n",
       "      <td>55a19437498eeea53fa58b54</td>\n",
       "      <td>13040</td>\n",
       "      <td>Dessert Shop</td>\n",
       "      <td>[{'id': 13040, 'name': 'Dessert Shop', 'icon':...</td>\n",
       "      <td>BeaverTails</td>\n",
       "      <td>8.5</td>\n",
       "      <td>1105</td>\n",
       "      <td>43.639722</td>\n",
       "      <td>-79.380012</td>\n",
       "      <td>None</td>\n",
       "      <td>0.990077</td>\n",
       "      <td>False</td>\n",
       "    </tr>\n",
       "    <tr>\n",
       "      <th>4</th>\n",
       "      <td>0      42.386781\\n1      42.368844\\n2      42....</td>\n",
       "      <td>597b72811b0ea5223f9f77f7</td>\n",
       "      <td>13046</td>\n",
       "      <td>Ice Cream Parlor</td>\n",
       "      <td>[{'id': 13046, 'name': 'Ice Cream Parlor', 'ic...</td>\n",
       "      <td>Joe Bird</td>\n",
       "      <td>7.6</td>\n",
       "      <td>993</td>\n",
       "      <td>43.638513</td>\n",
       "      <td>-79.380428</td>\n",
       "      <td>None</td>\n",
       "      <td>0.963084</td>\n",
       "      <td>True</td>\n",
       "    </tr>\n",
       "  </tbody>\n",
       "</table>\n",
       "</div>"
      ],
      "text/plain": [
       "                                            lat-long  \\\n",
       "0  0      42.386781\\n1      42.368844\\n2      42....   \n",
       "1  0      42.386781\\n1      42.368844\\n2      42....   \n",
       "2  0      42.386781\\n1      42.368844\\n2      42....   \n",
       "3  0      42.386781\\n1      42.368844\\n2      42....   \n",
       "4  0      42.386781\\n1      42.368844\\n2      42....   \n",
       "\n",
       "                     fsq_id  cat_id     category_name  \\\n",
       "0  4e49413e81dc766f3e3d6312   16032              Park   \n",
       "1  4ad4c062f964a520bff720e3   18025      Dance Studio   \n",
       "2  4ae33054f964a520759121e3   13049             Diner   \n",
       "3  55a19437498eeea53fa58b54   13040      Dessert Shop   \n",
       "4  597b72811b0ea5223f9f77f7   13046  Ice Cream Parlor   \n",
       "\n",
       "                                          categories  \\\n",
       "0  [{'id': 16032, 'name': 'Park', 'icon': {'prefi...   \n",
       "1  [{'id': 18025, 'name': 'Dance Studio', 'icon':...   \n",
       "2  [{'id': 13049, 'name': 'Diner', 'icon': {'pref...   \n",
       "3  [{'id': 13040, 'name': 'Dessert Shop', 'icon':...   \n",
       "4  [{'id': 13046, 'name': 'Ice Cream Parlor', 'ic...   \n",
       "\n",
       "                            name  rating  distance   latitude  longitude  \\\n",
       "0            Harbour Square Park     9.3       983  43.639288 -79.378261   \n",
       "1            Fleck Dance Theater     8.3      1007  43.638298 -79.380300   \n",
       "2  Pearl Harbourfront Restaurant     8.2      1009  43.639446 -79.380716   \n",
       "3                    BeaverTails     8.5      1105  43.639722 -79.380012   \n",
       "4                       Joe Bird     7.6       993  43.638513 -79.380428   \n",
       "\n",
       "  address  popularity  open_now  \n",
       "0    None    0.995420     False  \n",
       "1    None    0.934638     False  \n",
       "2    None    0.974126      True  \n",
       "3    None    0.990077     False  \n",
       "4    None    0.963084      True  "
      ]
     },
     "execution_count": 7,
     "metadata": {},
     "output_type": "execute_result"
    }
   ],
   "source": [
    "boston_entrtanmnt = pd.DataFrame(entertainment_boston)\n",
    "boston_entrtanmnt.head(5)"
   ]
  },
  {
   "cell_type": "code",
   "execution_count": 8,
   "id": "2ec7da64-3f53-4d8a-a4b1-ec8e5c054e64",
   "metadata": {
    "tags": []
   },
   "outputs": [],
   "source": [
    "boston_entrtanmnt = boston_entrtanmnt.drop(['fsq_id','categories'], axis=1)\n"
   ]
  },
  {
   "cell_type": "code",
   "execution_count": 9,
   "id": "191a6a79-e905-4786-9ef9-1f1cb2261b4c",
   "metadata": {},
   "outputs": [],
   "source": [
    "# save the data for future use\n",
    "boston_entrtanmnt.to_csv(f'/Users/kamininayyar/Github_old_pc/GitHub_frm_old_pc/boston_entrtanmnt_fsq.csv', index = False)"
   ]
  },
  {
   "cell_type": "markdown",
   "id": "b03590da-0837-485a-9e7b-830c6c41f890",
   "metadata": {},
   "source": [
    "# yelp api"
   ]
  },
  {
   "cell_type": "code",
   "execution_count": 10,
   "id": "927ba603-8493-4f7d-b3e0-d49b3dace41e",
   "metadata": {},
   "outputs": [],
   "source": [
    "from IPython.display import JSON"
   ]
  },
  {
   "cell_type": "code",
   "execution_count": 11,
   "id": "20b23d20-041d-4c93-86b6-365d7426a7d2",
   "metadata": {},
   "outputs": [],
   "source": [
    "api_key='Ih7ZOj3LbZz6kpbzENfPvbjh0l4oVSDMUf4SbLPJSCIUueExyhoiwk9Fm6dRmXCL59D3Bvi-Ok57nILnlXGPIvW-V-19R9nbqjV7fL4F2N-28gQrWlNy2FGAHB-NY3Yx'\n",
    "headers = {'Authorization': 'Bearer %s' % api_key}"
   ]
  },
  {
   "cell_type": "code",
   "execution_count": 12,
   "id": "8d8ab675-22a0-4337-9fd7-5ba3a1522e28",
   "metadata": {},
   "outputs": [],
   "source": [
    "url='https://api.yelp.com/v3/businesses/search?latitude=42.341332&longitude=-71.076847&radius=1000&limit=50'\n",
    "# I had to use specific lat and long because seems like ylp URL can't take the dictionary of lat and long as four square did\n",
    "\n",
    "response1 =requests.get(url, headers=headers)"
   ]
  },
  {
   "cell_type": "code",
   "execution_count": 13,
   "id": "880edf11-7770-498b-994d-2ee6ed3ee66d",
   "metadata": {},
   "outputs": [],
   "source": [
    "json.loads(response1.text)\n",
    "data = json.loads(response1.text)"
   ]
  },
  {
   "cell_type": "code",
   "execution_count": 14,
   "id": "4408a3e2-9a11-47c4-a4e3-ae533017c772",
   "metadata": {},
   "outputs": [
    {
     "data": {
      "text/html": [
       "<div>\n",
       "<style scoped>\n",
       "    .dataframe tbody tr th:only-of-type {\n",
       "        vertical-align: middle;\n",
       "    }\n",
       "\n",
       "    .dataframe tbody tr th {\n",
       "        vertical-align: top;\n",
       "    }\n",
       "\n",
       "    .dataframe thead th {\n",
       "        text-align: right;\n",
       "    }\n",
       "</style>\n",
       "<table border=\"1\" class=\"dataframe\">\n",
       "  <thead>\n",
       "    <tr style=\"text-align: right;\">\n",
       "      <th></th>\n",
       "      <th>businesses</th>\n",
       "      <th>total</th>\n",
       "      <th>region.center.longitude</th>\n",
       "      <th>region.center.latitude</th>\n",
       "    </tr>\n",
       "  </thead>\n",
       "  <tbody>\n",
       "    <tr>\n",
       "      <th>0</th>\n",
       "      <td>[{'id': 'NYa-JphaaB41ElGsb3iawA', 'alias': 'to...</td>\n",
       "      <td>431</td>\n",
       "      <td>-71.076847</td>\n",
       "      <td>42.341332</td>\n",
       "    </tr>\n",
       "  </tbody>\n",
       "</table>\n",
       "</div>"
      ],
      "text/plain": [
       "                                          businesses  total  \\\n",
       "0  [{'id': 'NYa-JphaaB41ElGsb3iawA', 'alias': 'to...    431   \n",
       "\n",
       "   region.center.longitude  region.center.latitude  \n",
       "0               -71.076847               42.341332  "
      ]
     },
     "execution_count": 14,
     "metadata": {},
     "output_type": "execute_result"
    }
   ],
   "source": [
    "df = pd.json_normalize(data)\n",
    "df"
   ]
  },
  {
   "cell_type": "code",
   "execution_count": 15,
   "id": "4e1c9e54-5de7-440e-8a73-783926f24b82",
   "metadata": {},
   "outputs": [],
   "source": [
    "seperating_sites = []\n",
    "for sites in data['businesses']:\n",
    "    all_sites = {\n",
    "          'lat-long': f'{lati},{longi}', 'category_name': sites['categories'][0]['alias'], 'name': sites['name']\n",
    "          , 'distance': sites['distance'], 'latitude': sites['coordinates']['latitude']\n",
    "          , 'longitude': sites['coordinates']['longitude'], 'address': sites['location']['display_address']\n",
    "          , 'is_closed': sites.get('is_closed'), 'rating': sites.get('rating')\n",
    "          , 'rating_count': sites.get('review_count')\n",
    "         \n",
    "      }\n",
    "      \n",
    "    seperating_sites.append(all_sites)\n",
    "    "
   ]
  },
  {
   "cell_type": "code",
   "execution_count": 16,
   "id": "8364f40f-c768-48af-a3ca-d31cac4bba8f",
   "metadata": {
    "tags": []
   },
   "outputs": [
    {
     "data": {
      "text/html": [
       "<div>\n",
       "<style scoped>\n",
       "    .dataframe tbody tr th:only-of-type {\n",
       "        vertical-align: middle;\n",
       "    }\n",
       "\n",
       "    .dataframe tbody tr th {\n",
       "        vertical-align: top;\n",
       "    }\n",
       "\n",
       "    .dataframe thead th {\n",
       "        text-align: right;\n",
       "    }\n",
       "</style>\n",
       "<table border=\"1\" class=\"dataframe\">\n",
       "  <thead>\n",
       "    <tr style=\"text-align: right;\">\n",
       "      <th></th>\n",
       "      <th>lat-long</th>\n",
       "      <th>category_name</th>\n",
       "      <th>name</th>\n",
       "      <th>distance</th>\n",
       "      <th>latitude</th>\n",
       "      <th>longitude</th>\n",
       "      <th>address</th>\n",
       "      <th>is_closed</th>\n",
       "      <th>rating</th>\n",
       "      <th>rating_count</th>\n",
       "    </tr>\n",
       "  </thead>\n",
       "  <tbody>\n",
       "    <tr>\n",
       "      <th>0</th>\n",
       "      <td>0      42.386781\\n1      42.368844\\n2      42....</td>\n",
       "      <td>tapas</td>\n",
       "      <td>Toro</td>\n",
       "      <td>488.960833</td>\n",
       "      <td>42.336988</td>\n",
       "      <td>-71.075924</td>\n",
       "      <td>[1704 Washington St, Boston, MA 02118]</td>\n",
       "      <td>False</td>\n",
       "      <td>4.0</td>\n",
       "      <td>2425</td>\n",
       "    </tr>\n",
       "    <tr>\n",
       "      <th>1</th>\n",
       "      <td>0      42.386781\\n1      42.368844\\n2      42....</td>\n",
       "      <td>bars</td>\n",
       "      <td>The Friendly Toast</td>\n",
       "      <td>833.597293</td>\n",
       "      <td>42.348348</td>\n",
       "      <td>-71.073273</td>\n",
       "      <td>[35 Stanhope St, Back Bay, MA 02116]</td>\n",
       "      <td>False</td>\n",
       "      <td>4.5</td>\n",
       "      <td>2533</td>\n",
       "    </tr>\n",
       "    <tr>\n",
       "      <th>2</th>\n",
       "      <td>0      42.386781\\n1      42.368844\\n2      42....</td>\n",
       "      <td>seafood</td>\n",
       "      <td>Atlantic Fish</td>\n",
       "      <td>945.200651</td>\n",
       "      <td>42.349222</td>\n",
       "      <td>-71.081127</td>\n",
       "      <td>[761 Boylston St, Boston, MA 02116]</td>\n",
       "      <td>False</td>\n",
       "      <td>4.0</td>\n",
       "      <td>2967</td>\n",
       "    </tr>\n",
       "    <tr>\n",
       "      <th>3</th>\n",
       "      <td>0      42.386781\\n1      42.368844\\n2      42....</td>\n",
       "      <td>newamerican</td>\n",
       "      <td>The Salty Pig</td>\n",
       "      <td>622.001099</td>\n",
       "      <td>42.346900</td>\n",
       "      <td>-71.076121</td>\n",
       "      <td>[130 Dartmouth St, Boston, MA 02116]</td>\n",
       "      <td>False</td>\n",
       "      <td>4.0</td>\n",
       "      <td>1813</td>\n",
       "    </tr>\n",
       "    <tr>\n",
       "      <th>4</th>\n",
       "      <td>0      42.386781\\n1      42.368844\\n2      42....</td>\n",
       "      <td>bakeries</td>\n",
       "      <td>Flour Bakery + Cafe</td>\n",
       "      <td>369.029836</td>\n",
       "      <td>42.338330</td>\n",
       "      <td>-71.074880</td>\n",
       "      <td>[1595 Washington St, Boston, MA 02118]</td>\n",
       "      <td>False</td>\n",
       "      <td>4.0</td>\n",
       "      <td>920</td>\n",
       "    </tr>\n",
       "  </tbody>\n",
       "</table>\n",
       "</div>"
      ],
      "text/plain": [
       "                                            lat-long category_name  \\\n",
       "0  0      42.386781\\n1      42.368844\\n2      42....         tapas   \n",
       "1  0      42.386781\\n1      42.368844\\n2      42....          bars   \n",
       "2  0      42.386781\\n1      42.368844\\n2      42....       seafood   \n",
       "3  0      42.386781\\n1      42.368844\\n2      42....   newamerican   \n",
       "4  0      42.386781\\n1      42.368844\\n2      42....      bakeries   \n",
       "\n",
       "                  name    distance   latitude  longitude  \\\n",
       "0                 Toro  488.960833  42.336988 -71.075924   \n",
       "1   The Friendly Toast  833.597293  42.348348 -71.073273   \n",
       "2        Atlantic Fish  945.200651  42.349222 -71.081127   \n",
       "3        The Salty Pig  622.001099  42.346900 -71.076121   \n",
       "4  Flour Bakery + Cafe  369.029836  42.338330 -71.074880   \n",
       "\n",
       "                                  address  is_closed  rating  rating_count  \n",
       "0  [1704 Washington St, Boston, MA 02118]      False     4.0          2425  \n",
       "1    [35 Stanhope St, Back Bay, MA 02116]      False     4.5          2533  \n",
       "2     [761 Boylston St, Boston, MA 02116]      False     4.0          2967  \n",
       "3    [130 Dartmouth St, Boston, MA 02116]      False     4.0          1813  \n",
       "4  [1595 Washington St, Boston, MA 02118]      False     4.0           920  "
      ]
     },
     "execution_count": 16,
     "metadata": {},
     "output_type": "execute_result"
    }
   ],
   "source": [
    "boston_ylp_df = pd.DataFrame(seperating_sites)\n",
    "boston_ylp_df.head()"
   ]
  },
  {
   "cell_type": "code",
   "execution_count": 17,
   "id": "b08ef2e9-917b-4a86-b37e-9b97f0d223f6",
   "metadata": {},
   "outputs": [],
   "source": [
    "boston_ylp_df.to_csv(f'/Users/kamininayyar/Github_old_pc/GitHub_frm_old_pc/boston_ylp_df.csv', index = False)"
   ]
  },
  {
   "cell_type": "markdown",
   "id": "aeda93ee-5bd1-4595-b288-d6f1e614d94e",
   "metadata": {},
   "source": [
    "What is the different observation between two api's?\n",
    "\n",
    "# Major difference between four square gave entertainment and restraunts where as yelp only gave restraunts"
   ]
  },
  {
   "cell_type": "markdown",
   "id": "34876fda-e5b3-40e5-bd97-da19d46eb44e",
   "metadata": {},
   "source": [
    "Top 10 venues from both api's"
   ]
  },
  {
   "cell_type": "code",
   "execution_count": 18,
   "id": "8725805d-a6ec-444e-9494-d8281caad2fc",
   "metadata": {},
   "outputs": [
    {
     "name": "stdout",
     "output_type": "stream",
     "text": [
      "                   name  rating\n",
      "49  Mana Escondido Café     4.5\n",
      "10    Lobstah On A Roll     4.5\n",
      "26     KAVA neo-taverna     4.5\n",
      "1    The Friendly Toast     4.5\n",
      "31          anoush'ella     4.5\n",
      "22   The Capital Grille     4.5\n",
      "19               Blunch     4.5\n",
      "13                 FoMu     4.5\n",
      "40                GRECO     4.5\n",
      "11           SRV Boston     4.5\n"
     ]
    }
   ],
   "source": [
    "print(boston_ylp_df.iloc[:, [2,8]].sort_values('rating',ascending=False).head(10))"
   ]
  },
  {
   "cell_type": "code",
   "execution_count": 19,
   "id": "5aa2e789-5234-45cc-8027-f9f868a56021",
   "metadata": {},
   "outputs": [
    {
     "name": "stdout",
     "output_type": "stream",
     "text": [
      "                         name  rating\n",
      "0         Harbour Square Park     9.3\n",
      "9             Toronto Islands     9.3\n",
      "31            Roundhouse Park     9.3\n",
      "6         Harbourfront Centre     9.1\n",
      "5                        Miku     9.0\n",
      "26           Scotiabank Arena     8.7\n",
      "29          Maple Leaf Square     8.6\n",
      "23  Air Canada Signature Club     8.6\n",
      "25        Real Sports Apparel     8.6\n",
      "3                 BeaverTails     8.5\n"
     ]
    }
   ],
   "source": [
    "print(boston_entrtanmnt.iloc[:, [3,4]].sort_values('rating',ascending=False).head(10))"
   ]
  },
  {
   "cell_type": "code",
   "execution_count": null,
   "id": "bff0bcee-a6a4-4c90-ad96-59c4ff5f3a09",
   "metadata": {},
   "outputs": [],
   "source": []
  }
 ],
 "metadata": {
  "kernelspec": {
   "display_name": "Python 3 (ipykernel)",
   "language": "python",
   "name": "python3"
  },
  "language_info": {
   "codemirror_mode": {
    "name": "ipython",
    "version": 3
   },
   "file_extension": ".py",
   "mimetype": "text/x-python",
   "name": "python",
   "nbconvert_exporter": "python",
   "pygments_lexer": "ipython3",
   "version": "3.9.13"
  }
 },
 "nbformat": 4,
 "nbformat_minor": 5
}
